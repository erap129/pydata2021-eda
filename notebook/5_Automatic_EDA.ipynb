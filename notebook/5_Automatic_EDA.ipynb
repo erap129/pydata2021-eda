{
 "cells": [
  {
   "cell_type": "markdown",
   "id": "164c6257",
   "metadata": {},
   "source": [
    "https://medium.com/analytics-vidhya/automated-eda-using-pandas-profiling-sweetviz-autoviz-4f15c4031a12\n",
    "\n",
    "- pandas-profiling\n",
    "- sweetviz\n",
    "- autoviz"
   ]
  },
  {
   "cell_type": "code",
   "execution_count": null,
   "id": "366f823e",
   "metadata": {
    "ExecuteTime": {
     "end_time": "2021-10-11T15:36:59.912002Z",
     "start_time": "2021-10-11T15:36:59.873797Z"
    }
   },
   "outputs": [],
   "source": [
    "import pandas as pd"
   ]
  },
  {
   "cell_type": "code",
   "execution_count": null,
   "id": "ff7ed2b2",
   "metadata": {
    "ExecuteTime": {
     "end_time": "2021-10-11T15:37:00.544154Z",
     "start_time": "2021-10-11T15:36:59.915200Z"
    }
   },
   "outputs": [],
   "source": [
    "df = pd.read_feather(\n",
    "    '../data/preprocessed/adult.feather',\n",
    "#     'https://raw.githubusercontent.com/sesise0307/pydata2021-eda/main/data/preprocessed/adult.feather',\n",
    ")"
   ]
  },
  {
   "cell_type": "code",
   "execution_count": null,
   "id": "4746a99a",
   "metadata": {
    "ExecuteTime": {
     "end_time": "2021-10-11T15:37:00.648237Z",
     "start_time": "2021-10-11T15:37:00.546871Z"
    }
   },
   "outputs": [],
   "source": [
    "df_sample = df.sample(n=2000, random_state=47)"
   ]
  },
  {
   "cell_type": "markdown",
   "id": "cac87194",
   "metadata": {},
   "source": [
    "# D-Tale"
   ]
  },
  {
   "cell_type": "markdown",
   "id": "534189fe",
   "metadata": {},
   "source": [
    "https://github.com/man-group/dtale"
   ]
  },
  {
   "cell_type": "code",
   "execution_count": null,
   "id": "4397d4fc",
   "metadata": {
    "ExecuteTime": {
     "end_time": "2021-10-11T15:37:15.267509Z",
     "start_time": "2021-10-11T15:37:00.669676Z"
    }
   },
   "outputs": [],
   "source": [
    "import dtale"
   ]
  },
  {
   "cell_type": "code",
   "execution_count": null,
   "id": "7bcdd8a0",
   "metadata": {
    "ExecuteTime": {
     "end_time": "2021-10-11T15:37:15.885678Z",
     "start_time": "2021-10-11T15:37:15.271462Z"
    }
   },
   "outputs": [],
   "source": [
    "dtale.show(df_sample)"
   ]
  },
  {
   "cell_type": "code",
   "execution_count": null,
   "id": "76f06b2b",
   "metadata": {},
   "outputs": [],
   "source": []
  },
  {
   "cell_type": "markdown",
   "id": "25ef12a0",
   "metadata": {},
   "source": [
    "# Pandas-profiling"
   ]
  },
  {
   "cell_type": "markdown",
   "id": "19b62b6f",
   "metadata": {},
   "source": [
    "https://github.com/pandas-profiling/pandas-profiling"
   ]
  },
  {
   "cell_type": "code",
   "execution_count": null,
   "id": "d0b329f3",
   "metadata": {
    "ExecuteTime": {
     "end_time": "2021-10-11T15:26:36.471275Z",
     "start_time": "2021-10-11T15:26:21.620984Z"
    }
   },
   "outputs": [],
   "source": [
    "from pandas_profiling import ProfileReport"
   ]
  },
  {
   "cell_type": "code",
   "execution_count": null,
   "id": "520f2cdc",
   "metadata": {
    "ExecuteTime": {
     "end_time": "2021-10-11T15:26:36.483368Z",
     "start_time": "2021-10-11T15:26:36.474021Z"
    }
   },
   "outputs": [],
   "source": [
    "profile = ProfileReport(df_sample, title=\"Adult Data Pandas Profiling Report\")"
   ]
  },
  {
   "cell_type": "code",
   "execution_count": null,
   "id": "c849847e",
   "metadata": {
    "ExecuteTime": {
     "start_time": "2021-10-11T15:38:17.890Z"
    }
   },
   "outputs": [],
   "source": [
    "profile.to_widgets()"
   ]
  },
  {
   "cell_type": "code",
   "execution_count": null,
   "id": "0e4caa3b",
   "metadata": {
    "ExecuteTime": {
     "start_time": "2021-10-11T15:38:18.635Z"
    }
   },
   "outputs": [],
   "source": [
    "profile.to_notebook_iframe()"
   ]
  },
  {
   "cell_type": "markdown",
   "id": "91807520",
   "metadata": {},
   "source": [
    "# Sweetviz"
   ]
  },
  {
   "cell_type": "markdown",
   "id": "2defaadb",
   "metadata": {
    "ExecuteTime": {
     "end_time": "2021-10-11T15:17:24.229700Z",
     "start_time": "2021-10-11T15:17:24.225422Z"
    }
   },
   "source": [
    "https://github.com/fbdesignpro/sweetviz"
   ]
  },
  {
   "cell_type": "code",
   "execution_count": null,
   "id": "fb69ee32",
   "metadata": {
    "ExecuteTime": {
     "start_time": "2021-10-11T15:38:19.504Z"
    }
   },
   "outputs": [],
   "source": [
    "import sweetviz as sv"
   ]
  },
  {
   "cell_type": "code",
   "execution_count": null,
   "id": "351a4429",
   "metadata": {
    "ExecuteTime": {
     "start_time": "2021-10-11T15:38:19.735Z"
    }
   },
   "outputs": [],
   "source": [
    "sv_report = sv.analyze(df_sample)"
   ]
  },
  {
   "cell_type": "code",
   "execution_count": null,
   "id": "56ce52ba",
   "metadata": {
    "ExecuteTime": {
     "start_time": "2021-10-11T15:38:20.106Z"
    }
   },
   "outputs": [],
   "source": [
    "sv_report.show_notebook()"
   ]
  },
  {
   "cell_type": "markdown",
   "id": "6af5db59",
   "metadata": {},
   "source": [
    "#  Autoviz"
   ]
  },
  {
   "cell_type": "markdown",
   "id": "e813c260",
   "metadata": {},
   "source": [
    "https://github.com/AutoViML/AutoViz"
   ]
  },
  {
   "cell_type": "code",
   "execution_count": null,
   "id": "2f0358d5",
   "metadata": {
    "ExecuteTime": {
     "start_time": "2021-10-11T15:38:21.031Z"
    }
   },
   "outputs": [],
   "source": [
    "from autoviz.AutoViz_Class import AutoViz_Class"
   ]
  },
  {
   "cell_type": "code",
   "execution_count": null,
   "id": "4e9a8523",
   "metadata": {
    "ExecuteTime": {
     "start_time": "2021-10-11T15:38:21.425Z"
    }
   },
   "outputs": [],
   "source": [
    "AV = AutoViz_Class()"
   ]
  },
  {
   "cell_type": "code",
   "execution_count": null,
   "id": "4b758a1f",
   "metadata": {
    "ExecuteTime": {
     "start_time": "2021-10-11T15:38:21.626Z"
    }
   },
   "outputs": [],
   "source": [
    "AV.AutoViz(\n",
    "    df_sample\n",
    ")"
   ]
  },
  {
   "cell_type": "code",
   "execution_count": null,
   "id": "61a20ce9",
   "metadata": {},
   "outputs": [],
   "source": []
  }
 ],
 "metadata": {
  "hide_input": false,
  "kernelspec": {
   "display_name": "Python [conda env:pydata]",
   "language": "python",
   "name": "conda-env-pydata-py"
  },
  "language_info": {
   "codemirror_mode": {
    "name": "ipython",
    "version": 3
   },
   "file_extension": ".py",
   "mimetype": "text/x-python",
   "name": "python",
   "nbconvert_exporter": "python",
   "pygments_lexer": "ipython3",
   "version": "3.8.12"
  },
  "toc": {
   "base_numbering": 1,
   "nav_menu": {},
   "number_sections": true,
   "sideBar": true,
   "skip_h1_title": false,
   "title_cell": "Table of Contents",
   "title_sidebar": "Contents",
   "toc_cell": false,
   "toc_position": {},
   "toc_section_display": true,
   "toc_window_display": false
  }
 },
 "nbformat": 4,
 "nbformat_minor": 5
}
