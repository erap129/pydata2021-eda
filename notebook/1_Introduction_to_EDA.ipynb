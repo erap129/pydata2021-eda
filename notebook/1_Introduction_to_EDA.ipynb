{
 "cells": [
  {
   "cell_type": "markdown",
   "id": "0ed810a9",
   "metadata": {},
   "source": [
    "# Safran"
   ]
  },
  {
   "cell_type": "code",
   "execution_count": 1,
   "id": "cd61e5c1",
   "metadata": {},
   "outputs": [
    {
     "ename": "SyntaxError",
     "evalue": "invalid syntax (Temp/ipykernel_4892/1621836224.py, line 1)",
     "output_type": "error",
     "traceback": [
      "\u001b[1;36m  File \u001b[1;32m\"C:\\Users\\d592663\\AppData\\Local\\Temp/ipykernel_4892/1621836224.py\"\u001b[1;36m, line \u001b[1;32m1\u001b[0m\n\u001b[1;33m    SafranTech -> DST -> MATD\u001b[0m\n\u001b[1;37m               ^\u001b[0m\n\u001b[1;31mSyntaxError\u001b[0m\u001b[1;31m:\u001b[0m invalid syntax\n"
     ]
    }
   ],
   "source": [
    "SafranTech -> DST -> MATD"
   ]
  },
  {
   "cell_type": "markdown",
   "id": "395591a7",
   "metadata": {},
   "source": [
    "# ML Process?"
   ]
  },
  {
   "cell_type": "markdown",
   "id": "c08eee4e",
   "metadata": {},
   "source": [
    "# EDA"
   ]
  },
  {
   "cell_type": "code",
   "execution_count": null,
   "id": "89e3c13a",
   "metadata": {},
   "outputs": [],
   "source": []
  },
  {
   "cell_type": "markdown",
   "id": "7b457fb6",
   "metadata": {},
   "source": [
    "The First Rule of Machine Learning: Start without Machine Learning\n",
    "\n",
    "https://eugeneyan.com/writing/first-rule-of-ml/?utm_medium=email&utm_source=topic+optin&utm_campaign=awareness&utm_content=20211011+data+ai+nl&mkt_tok=MTA3LUZNUy0wNzAAAAGAD-vJGjYAqMcZPRxTyP5WUZ3Z26kTU1SyskNGl5YFQMxW4XIjDieR7wrPx0YDIy1xgPltKA478TifJg1VG92HcxoHgW2LdZkRjAX2HRVMYlYhpAE"
   ]
  },
  {
   "cell_type": "markdown",
   "id": "48fa3f10",
   "metadata": {
    "ExecuteTime": {
     "end_time": "2021-10-06T10:37:49.533091Z",
     "start_time": "2021-10-06T10:37:49.520918Z"
    }
   },
   "source": [
    "https://colab.research.google.com/github/sesise0307/pydata2021-eda/"
   ]
  },
  {
   "cell_type": "markdown",
   "id": "ac3ba9b2",
   "metadata": {},
   "source": [
    "# Prerequisite"
   ]
  },
  {
   "cell_type": "markdown",
   "id": "6ae20311",
   "metadata": {},
   "source": [
    "- Python\n",
    "- Pandas\n",
    "- Matplotlib\n",
    "- Jupyter Notebook (or similar)"
   ]
  },
  {
   "cell_type": "markdown",
   "id": "828c72a2",
   "metadata": {},
   "source": [
    "- Two options\n",
    "  - Conda\n",
    "    - Clone GitHub\n",
    "      ```sh\n",
    "      git clone https://github.com/sesise0307/pydata2021-eda\n",
    "      ```\n",
    "    - Create Env.\n",
    "      ```sh\n",
    "      cd pydata2021-eda\n",
    "      conda env create -n pydata2021-eda -f environment.yml\n",
    "      conda activate pydata2021-eda\n",
    "      jupyter notebook\n",
    "      ```\n",
    "  - Google Colab\n",
    "    - Fork GitHub https://github.com/sesise0307/pydata2021-eda\n",
    "    - Then go here: https://colab.research.google.com/github/{your_github_id}/pydata2021-eda"
   ]
  },
  {
   "cell_type": "code",
   "execution_count": null,
   "id": "1e31a0cd",
   "metadata": {},
   "outputs": [],
   "source": []
  }
 ],
 "metadata": {
  "hide_input": false,
  "kernelspec": {
   "display_name": "Python 3 (ipykernel)",
   "language": "python",
   "name": "python3"
  },
  "language_info": {
   "codemirror_mode": {
    "name": "ipython",
    "version": 3
   },
   "file_extension": ".py",
   "mimetype": "text/x-python",
   "name": "python",
   "nbconvert_exporter": "python",
   "pygments_lexer": "ipython3",
   "version": "3.8.12"
  },
  "toc": {
   "base_numbering": 1,
   "nav_menu": {},
   "number_sections": true,
   "sideBar": true,
   "skip_h1_title": false,
   "title_cell": "Table of Contents",
   "title_sidebar": "Contents",
   "toc_cell": false,
   "toc_position": {},
   "toc_section_display": true,
   "toc_window_display": false
  }
 },
 "nbformat": 4,
 "nbformat_minor": 5
}
