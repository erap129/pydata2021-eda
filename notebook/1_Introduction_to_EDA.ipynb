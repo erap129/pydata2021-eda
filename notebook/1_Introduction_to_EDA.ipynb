{
 "cells": [
  {
   "cell_type": "markdown",
   "id": "dfc4416a",
   "metadata": {},
   "source": [
    "# Safran"
   ]
  },
  {
   "cell_type": "code",
   "execution_count": null,
   "id": "468ba43f",
   "metadata": {},
   "outputs": [],
   "source": [
    "SafranTech -> DST -> MATD"
   ]
  },
  {
   "cell_type": "markdown",
   "id": "a0a3b9ae",
   "metadata": {},
   "source": [
    "# ML Process?"
   ]
  },
  {
   "cell_type": "markdown",
   "id": "58b642a9",
   "metadata": {},
   "source": [
    "# EDA"
   ]
  },
  {
   "cell_type": "code",
   "execution_count": null,
   "id": "9eb013af",
   "metadata": {},
   "outputs": [],
   "source": []
  }
 ],
 "metadata": {
  "hide_input": false,
  "kernelspec": {
   "display_name": "Python [conda env:pydata]",
   "language": "python",
   "name": "conda-env-pydata-py"
  },
  "language_info": {
   "codemirror_mode": {
    "name": "ipython",
    "version": 3
   },
   "file_extension": ".py",
   "mimetype": "text/x-python",
   "name": "python",
   "nbconvert_exporter": "python",
   "pygments_lexer": "ipython3",
   "version": "3.8.12"
  },
  "toc": {
   "base_numbering": 1,
   "nav_menu": {},
   "number_sections": true,
   "sideBar": true,
   "skip_h1_title": false,
   "title_cell": "Table of Contents",
   "title_sidebar": "Contents",
   "toc_cell": false,
   "toc_position": {},
   "toc_section_display": true,
   "toc_window_display": false
  }
 },
 "nbformat": 4,
 "nbformat_minor": 5
}
