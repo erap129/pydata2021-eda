{
 "cells": [
  {
   "cell_type": "code",
   "execution_count": null,
   "id": "1e1c283e",
   "metadata": {
    "ExecuteTime": {
     "end_time": "2021-10-27T10:29:27.300584Z",
     "start_time": "2021-10-27T10:29:15.082259Z"
    }
   },
   "outputs": [],
   "source": [
    "import numpy as np\n",
    "import matplotlib.pyplot as plt\n",
    "import pandas as pd\n",
    "import seaborn as sns"
   ]
  },
  {
   "cell_type": "code",
   "execution_count": null,
   "id": "14f1ceeb",
   "metadata": {
    "ExecuteTime": {
     "end_time": "2021-10-27T10:29:27.307629Z",
     "start_time": "2021-10-27T10:29:27.303465Z"
    }
   },
   "outputs": [],
   "source": [
    "plt.rcParams['figure.figsize'] = 10, 5  # Set default figure size\n",
    "sns.set_style('whitegrid')"
   ]
  },
  {
   "cell_type": "markdown",
   "id": "1c1fc877",
   "metadata": {},
   "source": [
    "# Data Loading"
   ]
  },
  {
   "cell_type": "code",
   "execution_count": null,
   "id": "bd6688f1",
   "metadata": {
    "ExecuteTime": {
     "end_time": "2021-10-27T10:29:27.535951Z",
     "start_time": "2021-10-27T10:29:27.309402Z"
    }
   },
   "outputs": [],
   "source": [
    "try:\n",
    "    import google.colab\n",
    "    data_file = 'https://raw.githubusercontent.com/sesise0307/pydata2021-eda/main/data/preprocessed/adult.feather'\n",
    "except:\n",
    "    data_file = '../data/preprocessed/adult.feather'\n",
    "\n",
    "df = pd.read_feather(data_file)"
   ]
  },
  {
   "cell_type": "code",
   "execution_count": null,
   "id": "089e8ba0",
   "metadata": {
    "ExecuteTime": {
     "end_time": "2021-10-27T10:29:27.548568Z",
     "start_time": "2021-10-27T10:29:27.539342Z"
    }
   },
   "outputs": [],
   "source": [
    "hpw_bins = np.arange(0, 101, 5)\n",
    "hpw_labels = hpw_bins[:-1] + 2.5\n",
    "df['hpw_cut'] = pd.cut(df['hours_per_week'], bins=hpw_bins, labels=hpw_labels)"
   ]
  },
  {
   "cell_type": "code",
   "execution_count": null,
   "id": "f0e700b1",
   "metadata": {
    "ExecuteTime": {
     "end_time": "2021-10-27T10:29:27.559317Z",
     "start_time": "2021-10-27T10:29:27.549995Z"
    }
   },
   "outputs": [],
   "source": [
    "# Interactive plots are not very responsive when we deal with lots of data points.\n",
    "# Let's use a small fraction of the entire data for interactive plots.\n",
    "df_sample = df.sample(1000, random_state=47)"
   ]
  },
  {
   "cell_type": "code",
   "execution_count": null,
   "id": "d05e1d93",
   "metadata": {
    "ExecuteTime": {
     "end_time": "2021-10-27T10:29:27.624566Z",
     "start_time": "2021-10-27T10:29:27.560571Z"
    }
   },
   "outputs": [],
   "source": [
    "df.head()"
   ]
  },
  {
   "cell_type": "markdown",
   "id": "182cd4a3",
   "metadata": {},
   "source": [
    "# Ipywidgets"
   ]
  },
  {
   "cell_type": "markdown",
   "id": "bb809433",
   "metadata": {},
   "source": [
    "- [GitHub](https://github.com/jupyter-widgets/ipywidgets)\n",
    "- [Documentation](https://ipywidgets.readthedocs.io/)\n",
    "\n",
    "`ipywidgets` are interactive HTML widgets for Jupyter notebooks and the IPython kernel.\n",
    "\n",
    "Notebooks come alive when interactive widgets are used.\n",
    "\n",
    "Users gain control of their data and can visualize changes in the data."
   ]
  },
  {
   "cell_type": "code",
   "execution_count": null,
   "id": "010163da",
   "metadata": {
    "ExecuteTime": {
     "end_time": "2021-10-27T10:29:27.628115Z",
     "start_time": "2021-10-27T10:29:27.625835Z"
    }
   },
   "outputs": [],
   "source": [
    "import ipywidgets as widgets"
   ]
  },
  {
   "cell_type": "markdown",
   "id": "d4d8329a",
   "metadata": {},
   "source": [
    "## Basic `interact`"
   ]
  },
  {
   "cell_type": "code",
   "execution_count": null,
   "id": "8a7689fe",
   "metadata": {
    "ExecuteTime": {
     "end_time": "2021-10-27T10:29:27.639582Z",
     "start_time": "2021-10-27T10:29:27.629213Z"
    }
   },
   "outputs": [],
   "source": [
    "def square(x):\n",
    "    return x**2"
   ]
  },
  {
   "cell_type": "code",
   "execution_count": null,
   "id": "609218f6",
   "metadata": {
    "ExecuteTime": {
     "end_time": "2021-10-27T10:29:27.649750Z",
     "start_time": "2021-10-27T10:29:27.641036Z"
    }
   },
   "outputs": [],
   "source": [
    "square(10)"
   ]
  },
  {
   "cell_type": "code",
   "execution_count": null,
   "id": "bb73e083",
   "metadata": {
    "ExecuteTime": {
     "end_time": "2021-10-27T10:29:27.685043Z",
     "start_time": "2021-10-27T10:29:27.652276Z"
    }
   },
   "outputs": [],
   "source": [
    "widgets.interact(square, x=10);"
   ]
  },
  {
   "cell_type": "markdown",
   "id": "3d74e69b",
   "metadata": {},
   "source": [
    "## With Barplot"
   ]
  },
  {
   "cell_type": "code",
   "execution_count": null,
   "id": "690073a6",
   "metadata": {
    "ExecuteTime": {
     "end_time": "2021-10-27T10:29:27.688636Z",
     "start_time": "2021-10-27T10:29:27.686144Z"
    }
   },
   "outputs": [],
   "source": [
    "def plot_bar(x='age_group', y='fake_income', hue='sex'):\n",
    "    sns.barplot(data=df,\n",
    "                x=x,\n",
    "                y=y,\n",
    "                hue=hue,\n",
    "                ci='sd')"
   ]
  },
  {
   "cell_type": "code",
   "execution_count": null,
   "id": "39e8c26e",
   "metadata": {
    "ExecuteTime": {
     "end_time": "2021-10-27T10:29:27.992874Z",
     "start_time": "2021-10-27T10:29:27.689767Z"
    }
   },
   "outputs": [],
   "source": [
    "plot_bar();"
   ]
  },
  {
   "cell_type": "code",
   "execution_count": null,
   "id": "9a2eea36",
   "metadata": {
    "ExecuteTime": {
     "end_time": "2021-10-27T10:29:28.266937Z",
     "start_time": "2021-10-27T10:29:27.994116Z"
    }
   },
   "outputs": [],
   "source": [
    "plot_bar(x='hpw_cut');"
   ]
  },
  {
   "cell_type": "code",
   "execution_count": null,
   "id": "ad5687c3",
   "metadata": {
    "ExecuteTime": {
     "end_time": "2021-10-27T10:29:28.465017Z",
     "start_time": "2021-10-27T10:29:28.268044Z"
    }
   },
   "outputs": [],
   "source": [
    "numeric_columns = df.select_dtypes(include='number').columns\n",
    "str_columns = df.select_dtypes(exclude='number').columns\n",
    "\n",
    "widgets.interact(plot_bar,\n",
    "                 x=str_columns,\n",
    "                 y=numeric_columns,\n",
    "                 hue=str_columns);"
   ]
  },
  {
   "cell_type": "markdown",
   "id": "9acc46a1",
   "metadata": {},
   "source": [
    "## As a Decorator"
   ]
  },
  {
   "cell_type": "code",
   "execution_count": null,
   "id": "b8f98eaa",
   "metadata": {
    "ExecuteTime": {
     "end_time": "2021-10-27T10:29:28.718581Z",
     "start_time": "2021-10-27T10:29:28.466094Z"
    }
   },
   "outputs": [],
   "source": [
    "@widgets.interact(\n",
    "    x=str_columns,\n",
    "    y=numeric_columns,\n",
    "    hue=str_columns,\n",
    ")\n",
    "def plot_bar(x='age_group', y='fake_income', hue='sex'):\n",
    "    sns.barplot(data=df,\n",
    "                x=x,\n",
    "                y=y,\n",
    "                hue=hue,\n",
    "                ci='sd')"
   ]
  },
  {
   "cell_type": "code",
   "execution_count": null,
   "id": "6f99b365",
   "metadata": {
    "ExecuteTime": {
     "end_time": "2021-10-27T10:29:28.971712Z",
     "start_time": "2021-10-27T10:29:28.719647Z"
    }
   },
   "outputs": [],
   "source": [
    "@widgets.interact(\n",
    "    age_group=sorted(df['age_group'].unique()),\n",
    "    x=numeric_columns,\n",
    "    y=numeric_columns,\n",
    ")\n",
    "def wrapper(age_group, x='age', y='fake_income'):\n",
    "    target_df = df.loc[df['age_group'] == age_group]\n",
    "    sns.regplot(data=target_df, x=x, y=y)"
   ]
  },
  {
   "cell_type": "markdown",
   "id": "a83dbd85",
   "metadata": {},
   "source": [
    "## [Supported Widgets](https://ipywidgets.readthedocs.io/en/stable/examples/Widget%20List.html#)\n",
    "\n",
    "Extracted from the documentation."
   ]
  },
  {
   "cell_type": "code",
   "execution_count": null,
   "id": "c8619cff",
   "metadata": {
    "ExecuteTime": {
     "end_time": "2021-10-27T10:29:28.980636Z",
     "start_time": "2021-10-27T10:29:28.972924Z"
    }
   },
   "outputs": [],
   "source": [
    "widgets.IntSlider(\n",
    "    value=7,\n",
    "    min=0,\n",
    "    max=10,\n",
    "    step=1,\n",
    "    description='Test:',\n",
    "    disabled=False,\n",
    "    continuous_update=False,\n",
    "    orientation='horizontal',\n",
    "    readout=True,\n",
    "    readout_format='d'\n",
    ")"
   ]
  },
  {
   "cell_type": "code",
   "execution_count": null,
   "id": "5a65aae1",
   "metadata": {
    "ExecuteTime": {
     "end_time": "2021-10-27T10:29:28.998794Z",
     "start_time": "2021-10-27T10:29:28.981606Z"
    }
   },
   "outputs": [],
   "source": [
    "widgets.FloatSlider(\n",
    "    value=7.5,\n",
    "    min=0,\n",
    "    max=10.0,\n",
    "    step=0.1,\n",
    "    description='Test:',\n",
    "    disabled=False,\n",
    "    continuous_update=False,\n",
    "    orientation='horizontal',\n",
    "    readout=True,\n",
    "    readout_format='.1f',\n",
    ")"
   ]
  },
  {
   "cell_type": "code",
   "execution_count": null,
   "id": "e582eb2a",
   "metadata": {
    "ExecuteTime": {
     "end_time": "2021-10-27T10:29:29.012551Z",
     "start_time": "2021-10-27T10:29:28.999953Z"
    }
   },
   "outputs": [],
   "source": [
    "widgets.IntRangeSlider(\n",
    "    value=[5, 7],\n",
    "    min=0,\n",
    "    max=10,\n",
    "    step=1,\n",
    "    description='Test:',\n",
    "    disabled=False,\n",
    "    continuous_update=False,\n",
    "    orientation='horizontal',\n",
    "    readout=True,\n",
    "    readout_format='d',\n",
    ")"
   ]
  },
  {
   "cell_type": "code",
   "execution_count": null,
   "id": "861e3e0f",
   "metadata": {
    "ExecuteTime": {
     "end_time": "2021-10-27T10:29:29.030992Z",
     "start_time": "2021-10-27T10:29:29.013501Z"
    }
   },
   "outputs": [],
   "source": [
    "widgets.IntProgress(\n",
    "    value=7,\n",
    "    min=0,\n",
    "    max=10,\n",
    "    step=1,\n",
    "    description='Loading:',\n",
    "    orientation='horizontal'\n",
    ")"
   ]
  },
  {
   "cell_type": "code",
   "execution_count": null,
   "id": "abf0c71f",
   "metadata": {
    "ExecuteTime": {
     "end_time": "2021-10-27T10:29:29.047460Z",
     "start_time": "2021-10-27T10:29:29.032000Z"
    }
   },
   "outputs": [],
   "source": [
    "widgets.IntText(\n",
    "    value=7,\n",
    "    description='Any:',\n",
    "    disabled=False\n",
    ")"
   ]
  },
  {
   "cell_type": "code",
   "execution_count": null,
   "id": "290a0e91",
   "metadata": {
    "ExecuteTime": {
     "end_time": "2021-10-27T10:29:29.060760Z",
     "start_time": "2021-10-27T10:29:29.048550Z"
    }
   },
   "outputs": [],
   "source": [
    "widgets.Checkbox(\n",
    "    value=False,\n",
    "    description='Check me',\n",
    "    disabled=False\n",
    ")"
   ]
  },
  {
   "cell_type": "code",
   "execution_count": null,
   "id": "ab7aba52",
   "metadata": {
    "ExecuteTime": {
     "end_time": "2021-10-27T10:29:29.079220Z",
     "start_time": "2021-10-27T10:29:29.061687Z"
    }
   },
   "outputs": [],
   "source": [
    "widgets.Dropdown(\n",
    "    options=['1', '2', '3'],\n",
    "    value='2',\n",
    "    description='Number:',\n",
    "    disabled=False,\n",
    ")"
   ]
  },
  {
   "cell_type": "code",
   "execution_count": null,
   "id": "bbad315d",
   "metadata": {
    "ExecuteTime": {
     "end_time": "2021-10-27T10:29:29.093536Z",
     "start_time": "2021-10-27T10:29:29.080386Z"
    }
   },
   "outputs": [],
   "source": [
    "widgets.RadioButtons(\n",
    "    options=['pepperoni', 'pineapple', 'anchovies'],\n",
    "    description='Pizza topping:',\n",
    "    disabled=False\n",
    ")"
   ]
  },
  {
   "cell_type": "code",
   "execution_count": null,
   "id": "993850e8",
   "metadata": {
    "ExecuteTime": {
     "end_time": "2021-10-27T10:29:29.109886Z",
     "start_time": "2021-10-27T10:29:29.094505Z"
    }
   },
   "outputs": [],
   "source": [
    "widgets.Select(\n",
    "    options=['Linux', 'Windows', 'OSX'],\n",
    "    value='OSX',\n",
    "    # rows=10,\n",
    "    description='OS:',\n",
    "    disabled=False\n",
    ")"
   ]
  },
  {
   "cell_type": "code",
   "execution_count": null,
   "id": "8c694527",
   "metadata": {
    "ExecuteTime": {
     "end_time": "2021-10-27T10:29:29.121739Z",
     "start_time": "2021-10-27T10:29:29.111055Z"
    }
   },
   "outputs": [],
   "source": [
    "widgets.Text(\n",
    "    value='Hello World',\n",
    "    placeholder='Type something',\n",
    "    description='String:',\n",
    "    disabled=False\n",
    ")"
   ]
  },
  {
   "cell_type": "code",
   "execution_count": null,
   "id": "8b970acf",
   "metadata": {
    "ExecuteTime": {
     "end_time": "2021-10-27T10:29:29.138726Z",
     "start_time": "2021-10-27T10:29:29.122655Z"
    }
   },
   "outputs": [],
   "source": [
    "widgets.Button(\n",
    "    description='Click me',\n",
    "    disabled=False,\n",
    "    button_style='', # 'success', 'info', 'warning', 'danger' or ''\n",
    "    tooltip='Click me',\n",
    "    icon='check'\n",
    ")"
   ]
  },
  {
   "cell_type": "code",
   "execution_count": null,
   "id": "1c3c4607",
   "metadata": {
    "ExecuteTime": {
     "end_time": "2021-10-27T10:29:29.149774Z",
     "start_time": "2021-10-27T10:29:29.141250Z"
    }
   },
   "outputs": [],
   "source": [
    "widgets.DatePicker(\n",
    "    description='Pick a Date',\n",
    "    disabled=False\n",
    ")"
   ]
  },
  {
   "cell_type": "markdown",
   "id": "10e5233a",
   "metadata": {},
   "source": [
    "# Plotly and Plotly Express"
   ]
  },
  {
   "cell_type": "markdown",
   "id": "2a2ce6c8",
   "metadata": {},
   "source": [
    "![Plotly](../image/plotly.png)"
   ]
  },
  {
   "cell_type": "markdown",
   "id": "a244a059",
   "metadata": {},
   "source": [
    "- [Plotly in Python GitHub](https://github.com/plotly/plotly.py)\n",
    "- [Plotly in Python Documentation](https://plotly.com/python/)\n",
    "- [Plotly Express in Python Documentation](https://plotly.com/python/plotly-express/)\n",
    "\n",
    "\n",
    "Plotly in Python is an interactive, open-source, and browser-based graphing library for Python.\n",
    "\n",
    "Built on top of `plotly.js`, `plotly.py` is a high-level, declarative charting library.\n",
    "\n",
    "The Plotly Express module contains functions that can create entire figures at once.\n",
    "\n",
    "Plotly Express is a built-in part of the plotly library,\n",
    "and is the recommended starting point for creating most common figures.\n"
   ]
  },
  {
   "cell_type": "code",
   "execution_count": null,
   "id": "e390a6fc",
   "metadata": {
    "ExecuteTime": {
     "end_time": "2021-10-27T10:29:31.427190Z",
     "start_time": "2021-10-27T10:29:29.150695Z"
    }
   },
   "outputs": [],
   "source": [
    "import plotly.graph_objects as go\n",
    "import plotly.express as px"
   ]
  },
  {
   "cell_type": "markdown",
   "id": "bb0ada00",
   "metadata": {},
   "source": [
    "## Scatter"
   ]
  },
  {
   "cell_type": "code",
   "execution_count": null,
   "id": "f69d3ee0",
   "metadata": {
    "ExecuteTime": {
     "end_time": "2021-10-27T10:29:33.196201Z",
     "start_time": "2021-10-27T10:29:31.429845Z"
    }
   },
   "outputs": [],
   "source": [
    "# Plotly Version\n",
    "fig = go.Figure()\n",
    "fig.add_trace(\n",
    "    go.Scatter(\n",
    "        x=df_sample['hours_per_week'],\n",
    "        y=df_sample['fake_income'],\n",
    "        mode='markers',\n",
    "        marker=dict(showscale=True),\n",
    "        marker_color=df_sample['age'],\n",
    "    )\n",
    ")"
   ]
  },
  {
   "cell_type": "code",
   "execution_count": null,
   "id": "06b9a96e",
   "metadata": {
    "ExecuteTime": {
     "end_time": "2021-10-27T10:29:39.125470Z",
     "start_time": "2021-10-27T10:29:33.197798Z"
    }
   },
   "outputs": [],
   "source": [
    "# Plotly Express Version\n",
    "px.scatter(x=df_sample['hours_per_week'],\n",
    "           y=df_sample['fake_income'],\n",
    "           color=df_sample['age'])"
   ]
  },
  {
   "cell_type": "markdown",
   "id": "0d786e33",
   "metadata": {},
   "source": [
    "> I usually start from Plotly Express then use Plotly only when it's necessary.\n",
    ">\n",
    "> Like we did with Seaborn then used Matplotlib for fine-tuning in the previous chapter."
   ]
  },
  {
   "cell_type": "markdown",
   "id": "231602e3",
   "metadata": {},
   "source": [
    "## Scatter Matrix"
   ]
  },
  {
   "cell_type": "code",
   "execution_count": null,
   "id": "71ce4a05",
   "metadata": {
    "ExecuteTime": {
     "end_time": "2021-10-27T10:29:39.416917Z",
     "start_time": "2021-10-27T10:29:39.127217Z"
    }
   },
   "outputs": [],
   "source": [
    "px.scatter_matrix(df_sample,\n",
    "                  dimensions=['age', 'capital_gain', 'hours_per_week', 'fake_income'],\n",
    "                  color='sex')"
   ]
  },
  {
   "cell_type": "code",
   "execution_count": null,
   "id": "5830e0a2",
   "metadata": {
    "ExecuteTime": {
     "end_time": "2021-10-27T10:29:52.846471Z",
     "start_time": "2021-10-27T10:29:39.418301Z"
    }
   },
   "outputs": [],
   "source": [
    "# C.f., Seaborn Version\n",
    "sns.pairplot(\n",
    "    data=df,\n",
    "    hue='sex',\n",
    "    vars=['age', 'capital_gain', 'hours_per_week', 'fake_income'],\n",
    "    plot_kws=dict(alpha=0.3, s=10),\n",
    ");"
   ]
  },
  {
   "cell_type": "markdown",
   "id": "ac1c2e25",
   "metadata": {},
   "source": [
    "## Parallel Categories"
   ]
  },
  {
   "cell_type": "code",
   "execution_count": null,
   "id": "a15daf7e",
   "metadata": {
    "ExecuteTime": {
     "end_time": "2021-10-27T10:29:53.062258Z",
     "start_time": "2021-10-27T10:29:52.848144Z"
    }
   },
   "outputs": [],
   "source": [
    "px.parallel_categories(\n",
    "    df_sample,\n",
    "    dimensions=[\n",
    "        'age_group', 'education',\n",
    "        'race', 'workclass', 'sex', 'income'\n",
    "    ],\n",
    "    color='hours_per_week',\n",
    ")"
   ]
  },
  {
   "cell_type": "markdown",
   "id": "09f66def",
   "metadata": {},
   "source": [
    "## Parallel Coordinates"
   ]
  },
  {
   "cell_type": "code",
   "execution_count": null,
   "id": "b6f8e464",
   "metadata": {
    "ExecuteTime": {
     "end_time": "2021-10-27T10:29:53.221571Z",
     "start_time": "2021-10-27T10:29:53.063413Z"
    }
   },
   "outputs": [],
   "source": [
    "px.parallel_coordinates(df_sample,\n",
    "                        color='fake_income')"
   ]
  },
  {
   "cell_type": "markdown",
   "id": "b77cbaf8",
   "metadata": {},
   "source": [
    "> [HiPlot](https://github.com/facebookresearch/hiplot) is another nice parallel coordinates plotting library from Facebook.\n",
    ">\n",
    "> It is much more responsive with lots of data.\n",
    "\n",
    "![HiPlot Example](../image/hiplot.png)"
   ]
  },
  {
   "cell_type": "markdown",
   "id": "146b39a3",
   "metadata": {},
   "source": [
    "# Bokeh"
   ]
  },
  {
   "cell_type": "code",
   "execution_count": null,
   "id": "64f5c226",
   "metadata": {},
   "outputs": [],
   "source": []
  },
  {
   "cell_type": "code",
   "execution_count": null,
   "id": "7a02830c",
   "metadata": {},
   "outputs": [],
   "source": []
  },
  {
   "cell_type": "code",
   "execution_count": null,
   "id": "c98585af",
   "metadata": {},
   "outputs": [],
   "source": []
  },
  {
   "cell_type": "code",
   "execution_count": null,
   "id": "1b520dd6",
   "metadata": {},
   "outputs": [],
   "source": []
  },
  {
   "cell_type": "code",
   "execution_count": null,
   "id": "8ce52460",
   "metadata": {},
   "outputs": [],
   "source": []
  },
  {
   "cell_type": "markdown",
   "id": "410373e2",
   "metadata": {},
   "source": [
    "# Altair"
   ]
  },
  {
   "cell_type": "code",
   "execution_count": null,
   "id": "aa2f93ba",
   "metadata": {},
   "outputs": [],
   "source": []
  },
  {
   "cell_type": "code",
   "execution_count": null,
   "id": "d0cea941",
   "metadata": {},
   "outputs": [],
   "source": []
  },
  {
   "cell_type": "code",
   "execution_count": null,
   "id": "26a763d2",
   "metadata": {},
   "outputs": [],
   "source": []
  }
 ],
 "metadata": {
  "hide_input": false,
  "kernelspec": {
   "display_name": "Python 3 (ipykernel)",
   "language": "python",
   "name": "python3"
  },
  "language_info": {
   "codemirror_mode": {
    "name": "ipython",
    "version": 3
   },
   "file_extension": ".py",
   "mimetype": "text/x-python",
   "name": "python",
   "nbconvert_exporter": "python",
   "pygments_lexer": "ipython3",
   "version": "3.9.7"
  },
  "toc": {
   "base_numbering": 1,
   "nav_menu": {},
   "number_sections": true,
   "sideBar": true,
   "skip_h1_title": false,
   "title_cell": "Table of Contents",
   "title_sidebar": "Contents",
   "toc_cell": false,
   "toc_position": {},
   "toc_section_display": true,
   "toc_window_display": true
  }
 },
 "nbformat": 4,
 "nbformat_minor": 5
}
