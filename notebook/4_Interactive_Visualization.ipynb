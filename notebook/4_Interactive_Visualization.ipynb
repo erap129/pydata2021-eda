{
 "cells": [
  {
   "cell_type": "code",
   "execution_count": 1,
   "id": "1e1c283e",
   "metadata": {
    "ExecuteTime": {
     "end_time": "2021-10-06T10:36:33.966634Z",
     "start_time": "2021-10-06T10:36:33.636594Z"
    }
   },
   "outputs": [],
   "source": [
    "import pandas as pd"
   ]
  },
  {
   "cell_type": "code",
   "execution_count": 2,
   "id": "bd6688f1",
   "metadata": {
    "ExecuteTime": {
     "end_time": "2021-10-06T10:36:36.050019Z",
     "start_time": "2021-10-06T10:36:35.929214Z"
    }
   },
   "outputs": [],
   "source": [
    "df = pd.read_feather('incident_event_log.feather')"
   ]
  },
  {
   "cell_type": "markdown",
   "id": "182cd4a3",
   "metadata": {},
   "source": [
    "# ipywidgets"
   ]
  },
  {
   "cell_type": "markdown",
   "id": "10e5233a",
   "metadata": {},
   "source": [
    "# plot.ly and plot.ly express (parallel coordinates, parallel category)"
   ]
  },
  {
   "cell_type": "markdown",
   "id": "410373e2",
   "metadata": {},
   "source": [
    "# Others\n",
    "## bokeh\n",
    "## altair"
   ]
  },
  {
   "cell_type": "code",
   "execution_count": null,
   "id": "54ac5c05",
   "metadata": {},
   "outputs": [],
   "source": []
  }
 ],
 "metadata": {
  "hide_input": false,
  "kernelspec": {
   "display_name": "Python [conda env:pydata]",
   "language": "python",
   "name": "conda-env-pydata-py"
  },
  "language_info": {
   "codemirror_mode": {
    "name": "ipython",
    "version": 3
   },
   "file_extension": ".py",
   "mimetype": "text/x-python",
   "name": "python",
   "nbconvert_exporter": "python",
   "pygments_lexer": "ipython3",
   "version": "3.8.12"
  },
  "toc": {
   "base_numbering": 1,
   "nav_menu": {},
   "number_sections": true,
   "sideBar": true,
   "skip_h1_title": false,
   "title_cell": "Table of Contents",
   "title_sidebar": "Contents",
   "toc_cell": false,
   "toc_position": {},
   "toc_section_display": true,
   "toc_window_display": false
  }
 },
 "nbformat": 4,
 "nbformat_minor": 5
}
