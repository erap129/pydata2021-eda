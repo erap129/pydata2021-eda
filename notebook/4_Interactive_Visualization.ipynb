{
 "cells": [
  {
   "cell_type": "code",
   "execution_count": null,
   "id": "1e1c283e",
   "metadata": {
    "ExecuteTime": {
     "end_time": "2021-10-27T12:48:18.206353Z",
     "start_time": "2021-10-27T12:48:09.001967Z"
    }
   },
   "outputs": [],
   "source": [
    "import numpy as np\n",
    "import matplotlib.pyplot as plt\n",
    "import pandas as pd\n",
    "import seaborn as sns"
   ]
  },
  {
   "cell_type": "code",
   "execution_count": null,
   "id": "a25e3fd0",
   "metadata": {
    "ExecuteTime": {
     "end_time": "2021-10-27T12:48:18.213259Z",
     "start_time": "2021-10-27T12:48:18.209247Z"
    }
   },
   "outputs": [],
   "source": [
    "plt.rcParams['figure.figsize'] = 10, 5  # Set default figure size\n",
    "sns.set_style('whitegrid')"
   ]
  },
  {
   "cell_type": "markdown",
   "id": "b2e9a780",
   "metadata": {},
   "source": [
    "# Data Loading"
   ]
  },
  {
   "cell_type": "code",
   "execution_count": null,
   "id": "bd6688f1",
   "metadata": {
    "ExecuteTime": {
     "end_time": "2021-10-27T12:48:18.469660Z",
     "start_time": "2021-10-27T12:48:18.215002Z"
    }
   },
   "outputs": [],
   "source": [
    "try:\n",
    "    import google.colab\n",
    "    data_file = 'https://raw.githubusercontent.com/sesise0307/pydata2021-eda/main/data/preprocessed/adult.feather'\n",
    "except:\n",
    "    data_file = '../data/preprocessed/adult.feather'\n",
    "\n",
    "df = pd.read_feather(data_file)"
   ]
  },
  {
   "cell_type": "code",
   "execution_count": null,
   "id": "4c90d5b4",
   "metadata": {
    "ExecuteTime": {
     "end_time": "2021-10-27T12:48:18.480990Z",
     "start_time": "2021-10-27T12:48:18.472768Z"
    }
   },
   "outputs": [],
   "source": [
    "hpw_bins = np.arange(0, 101, 5)\n",
    "hpw_labels = hpw_bins[:-1] + 2.5\n",
    "df['hpw_cut'] = pd.cut(df['hours_per_week'], bins=hpw_bins, labels=hpw_labels)"
   ]
  },
  {
   "cell_type": "code",
   "execution_count": null,
   "id": "06e82db7",
   "metadata": {
    "ExecuteTime": {
     "end_time": "2021-10-27T12:48:18.490666Z",
     "start_time": "2021-10-27T12:48:18.482580Z"
    }
   },
   "outputs": [],
   "source": [
    "# Interactive plots are not very responsive when we deal with lots of data points.\n",
    "# Let's use a small fraction of the entire data for interactive plots.\n",
    "df_sample = df.sample(1000, random_state=47)"
   ]
  },
  {
   "cell_type": "code",
   "execution_count": null,
   "id": "d05e1d93",
   "metadata": {
    "ExecuteTime": {
     "end_time": "2021-10-27T12:48:18.510093Z",
     "start_time": "2021-10-27T12:48:18.491824Z"
    }
   },
   "outputs": [],
   "source": [
    "df.head()"
   ]
  },
  {
   "cell_type": "markdown",
   "id": "182cd4a3",
   "metadata": {},
   "source": [
    "# Ipywidgets"
   ]
  },
  {
   "cell_type": "markdown",
   "id": "bb809433",
   "metadata": {},
   "source": [
    "- [GitHub](https://github.com/jupyter-widgets/ipywidgets)\n",
    "- [Documentation](https://ipywidgets.readthedocs.io/)\n",
    "\n",
    "`ipywidgets` are interactive HTML widgets for Jupyter notebooks and the IPython kernel.\n",
    "\n",
    "Notebooks come alive when interactive widgets are used.\n",
    "\n",
    "Users gain control of their data and can visualize changes in the data."
   ]
  },
  {
   "cell_type": "code",
   "execution_count": null,
   "id": "010163da",
   "metadata": {
    "ExecuteTime": {
     "end_time": "2021-10-27T12:48:18.513578Z",
     "start_time": "2021-10-27T12:48:18.511312Z"
    }
   },
   "outputs": [],
   "source": [
    "import ipywidgets as widgets"
   ]
  },
  {
   "cell_type": "markdown",
   "id": "530f5897",
   "metadata": {},
   "source": [
    "## Basic `interact`"
   ]
  },
  {
   "cell_type": "code",
   "execution_count": null,
   "id": "cb3e0051",
   "metadata": {
    "ExecuteTime": {
     "end_time": "2021-10-27T12:48:18.521558Z",
     "start_time": "2021-10-27T12:48:18.514710Z"
    }
   },
   "outputs": [],
   "source": [
    "def square(x):\n",
    "    return x**2"
   ]
  },
  {
   "cell_type": "code",
   "execution_count": null,
   "id": "d4490014",
   "metadata": {
    "ExecuteTime": {
     "end_time": "2021-10-27T12:48:18.530614Z",
     "start_time": "2021-10-27T12:48:18.522597Z"
    }
   },
   "outputs": [],
   "source": [
    "square(10)"
   ]
  },
  {
   "cell_type": "code",
   "execution_count": null,
   "id": "40fda5f8",
   "metadata": {
    "ExecuteTime": {
     "end_time": "2021-10-27T12:48:18.563788Z",
     "start_time": "2021-10-27T12:48:18.532653Z"
    }
   },
   "outputs": [],
   "source": [
    "widgets.interact(square, x=10);"
   ]
  },
  {
   "cell_type": "markdown",
   "id": "8b9a7b62",
   "metadata": {},
   "source": [
    "## With Barplot"
   ]
  },
  {
   "cell_type": "code",
   "execution_count": null,
   "id": "690073a6",
   "metadata": {
    "ExecuteTime": {
     "end_time": "2021-10-27T12:48:18.567324Z",
     "start_time": "2021-10-27T12:48:18.564870Z"
    }
   },
   "outputs": [],
   "source": [
    "def plot_bar(x='age_group', y='fake_income', hue='sex'):\n",
    "    sns.barplot(data=df,\n",
    "                x=x,\n",
    "                y=y,\n",
    "                hue=hue,\n",
    "                ci='sd')"
   ]
  },
  {
   "cell_type": "code",
   "execution_count": null,
   "id": "39e8c26e",
   "metadata": {
    "ExecuteTime": {
     "end_time": "2021-10-27T12:48:18.797381Z",
     "start_time": "2021-10-27T12:48:18.568315Z"
    }
   },
   "outputs": [],
   "source": [
    "plot_bar();"
   ]
  },
  {
   "cell_type": "code",
   "execution_count": null,
   "id": "2205e7bb",
   "metadata": {
    "ExecuteTime": {
     "end_time": "2021-10-27T12:48:19.082028Z",
     "start_time": "2021-10-27T12:48:18.798578Z"
    }
   },
   "outputs": [],
   "source": [
    "plot_bar(x='hpw_cut');"
   ]
  },
  {
   "cell_type": "code",
   "execution_count": null,
   "id": "889772ed",
   "metadata": {
    "ExecuteTime": {
     "end_time": "2021-10-27T12:48:19.288074Z",
     "start_time": "2021-10-27T12:48:19.083101Z"
    }
   },
   "outputs": [],
   "source": [
    "numeric_columns = df.select_dtypes(include='number').columns\n",
    "str_columns = df.select_dtypes(exclude='number').columns\n",
    "\n",
    "widgets.interact(plot_bar,\n",
    "                 x=str_columns,\n",
    "                 y=numeric_columns,\n",
    "                 hue=str_columns);"
   ]
  },
  {
   "cell_type": "markdown",
   "id": "b804bf32",
   "metadata": {},
   "source": [
    "## As a Decorator"
   ]
  },
  {
   "cell_type": "code",
   "execution_count": null,
   "id": "b8f98eaa",
   "metadata": {
    "ExecuteTime": {
     "end_time": "2021-10-27T12:48:19.541534Z",
     "start_time": "2021-10-27T12:48:19.289368Z"
    }
   },
   "outputs": [],
   "source": [
    "@widgets.interact(\n",
    "    x=str_columns,\n",
    "    y=numeric_columns,\n",
    "    hue=str_columns,\n",
    ")\n",
    "def plot_bar(x='age_group', y='fake_income', hue='sex'):\n",
    "    sns.barplot(data=df,\n",
    "                x=x,\n",
    "                y=y,\n",
    "                hue=hue,\n",
    "                ci='sd')"
   ]
  },
  {
   "cell_type": "code",
   "execution_count": null,
   "id": "6e7a176a",
   "metadata": {
    "ExecuteTime": {
     "end_time": "2021-10-27T12:48:19.877332Z",
     "start_time": "2021-10-27T12:48:19.542691Z"
    }
   },
   "outputs": [],
   "source": [
    "@widgets.interact(\n",
    "    age_group=sorted(df['age_group'].unique()),\n",
    "    x=numeric_columns,\n",
    "    y=numeric_columns,\n",
    ")\n",
    "def wrapper(age_group, x='age', y='fake_income'):\n",
    "    target_df = df.loc[df['age_group'] == age_group]\n",
    "    sns.regplot(data=target_df, x=x, y=y)"
   ]
  },
  {
   "cell_type": "markdown",
   "id": "621ae4e7",
   "metadata": {},
   "source": [
    "## [Supported Widgets](https://ipywidgets.readthedocs.io/en/stable/examples/Widget%20List.html#)\n",
    "\n",
    "Extracted from the documentation."
   ]
  },
  {
   "cell_type": "code",
   "execution_count": null,
   "id": "bfac9ed4",
   "metadata": {
    "ExecuteTime": {
     "end_time": "2021-10-27T12:48:19.886654Z",
     "start_time": "2021-10-27T12:48:19.878568Z"
    }
   },
   "outputs": [],
   "source": [
    "widgets.IntSlider(\n",
    "    value=7,\n",
    "    min=0,\n",
    "    max=10,\n",
    "    step=1,\n",
    "    description='Test:',\n",
    "    disabled=False,\n",
    "    continuous_update=False,\n",
    "    orientation='horizontal',\n",
    "    readout=True,\n",
    "    readout_format='d'\n",
    ")"
   ]
  },
  {
   "cell_type": "code",
   "execution_count": null,
   "id": "c931866c",
   "metadata": {
    "ExecuteTime": {
     "end_time": "2021-10-27T12:48:19.903846Z",
     "start_time": "2021-10-27T12:48:19.887595Z"
    }
   },
   "outputs": [],
   "source": [
    "widgets.FloatSlider(\n",
    "    value=7.5,\n",
    "    min=0,\n",
    "    max=10.0,\n",
    "    step=0.1,\n",
    "    description='Test:',\n",
    "    disabled=False,\n",
    "    continuous_update=False,\n",
    "    orientation='horizontal',\n",
    "    readout=True,\n",
    "    readout_format='.1f',\n",
    ")"
   ]
  },
  {
   "cell_type": "code",
   "execution_count": null,
   "id": "49cf6808",
   "metadata": {
    "ExecuteTime": {
     "end_time": "2021-10-27T12:48:19.917421Z",
     "start_time": "2021-10-27T12:48:19.905047Z"
    }
   },
   "outputs": [],
   "source": [
    "widgets.IntRangeSlider(\n",
    "    value=[5, 7],\n",
    "    min=0,\n",
    "    max=10,\n",
    "    step=1,\n",
    "    description='Test:',\n",
    "    disabled=False,\n",
    "    continuous_update=False,\n",
    "    orientation='horizontal',\n",
    "    readout=True,\n",
    "    readout_format='d',\n",
    ")"
   ]
  },
  {
   "cell_type": "code",
   "execution_count": null,
   "id": "2707d2af",
   "metadata": {
    "ExecuteTime": {
     "end_time": "2021-10-27T12:48:19.929457Z",
     "start_time": "2021-10-27T12:48:19.918415Z"
    }
   },
   "outputs": [],
   "source": [
    "widgets.IntProgress(\n",
    "    value=7,\n",
    "    min=0,\n",
    "    max=10,\n",
    "    step=1,\n",
    "    description='Loading:',\n",
    "    orientation='horizontal'\n",
    ")"
   ]
  },
  {
   "cell_type": "code",
   "execution_count": null,
   "id": "f4f5d846",
   "metadata": {
    "ExecuteTime": {
     "end_time": "2021-10-27T12:48:19.945097Z",
     "start_time": "2021-10-27T12:48:19.930565Z"
    }
   },
   "outputs": [],
   "source": [
    "widgets.IntText(\n",
    "    value=7,\n",
    "    description='Any:',\n",
    "    disabled=False\n",
    ")"
   ]
  },
  {
   "cell_type": "code",
   "execution_count": null,
   "id": "2279d895",
   "metadata": {
    "ExecuteTime": {
     "end_time": "2021-10-27T12:48:19.957251Z",
     "start_time": "2021-10-27T12:48:19.946207Z"
    }
   },
   "outputs": [],
   "source": [
    "widgets.Checkbox(\n",
    "    value=False,\n",
    "    description='Check me',\n",
    "    disabled=False\n",
    ")"
   ]
  },
  {
   "cell_type": "code",
   "execution_count": null,
   "id": "fdf79a61",
   "metadata": {
    "ExecuteTime": {
     "end_time": "2021-10-27T12:48:19.970850Z",
     "start_time": "2021-10-27T12:48:19.958323Z"
    }
   },
   "outputs": [],
   "source": [
    "widgets.Dropdown(\n",
    "    options=['1', '2', '3'],\n",
    "    value='2',\n",
    "    description='Number:',\n",
    "    disabled=False,\n",
    ")"
   ]
  },
  {
   "cell_type": "code",
   "execution_count": null,
   "id": "9fac08e2",
   "metadata": {
    "ExecuteTime": {
     "end_time": "2021-10-27T12:48:19.986174Z",
     "start_time": "2021-10-27T12:48:19.971840Z"
    }
   },
   "outputs": [],
   "source": [
    "widgets.RadioButtons(\n",
    "    options=['pepperoni', 'pineapple', 'anchovies'],\n",
    "    description='Pizza topping:',\n",
    "    disabled=False\n",
    ")"
   ]
  },
  {
   "cell_type": "code",
   "execution_count": null,
   "id": "5fd3943b",
   "metadata": {
    "ExecuteTime": {
     "end_time": "2021-10-27T12:48:19.998139Z",
     "start_time": "2021-10-27T12:48:19.987327Z"
    }
   },
   "outputs": [],
   "source": [
    "widgets.Select(\n",
    "    options=['Linux', 'Windows', 'OSX'],\n",
    "    value='OSX',\n",
    "    # rows=10,\n",
    "    description='OS:',\n",
    "    disabled=False\n",
    ")"
   ]
  },
  {
   "cell_type": "code",
   "execution_count": null,
   "id": "c29e159b",
   "metadata": {
    "ExecuteTime": {
     "end_time": "2021-10-27T12:48:20.013266Z",
     "start_time": "2021-10-27T12:48:19.999099Z"
    }
   },
   "outputs": [],
   "source": [
    "widgets.Text(\n",
    "    value='Hello World',\n",
    "    placeholder='Type something',\n",
    "    description='String:',\n",
    "    disabled=False\n",
    ")"
   ]
  },
  {
   "cell_type": "code",
   "execution_count": null,
   "id": "bba4839a",
   "metadata": {
    "ExecuteTime": {
     "end_time": "2021-10-27T12:48:20.027293Z",
     "start_time": "2021-10-27T12:48:20.014333Z"
    }
   },
   "outputs": [],
   "source": [
    "widgets.Button(\n",
    "    description='Click me',\n",
    "    disabled=False,\n",
    "    button_style='', # 'success', 'info', 'warning', 'danger' or ''\n",
    "    tooltip='Click me',\n",
    "    icon='check'\n",
    ")"
   ]
  },
  {
   "cell_type": "code",
   "execution_count": null,
   "id": "a74bfe9c",
   "metadata": {
    "ExecuteTime": {
     "end_time": "2021-10-27T12:48:20.044856Z",
     "start_time": "2021-10-27T12:48:20.032215Z"
    }
   },
   "outputs": [],
   "source": [
    "widgets.DatePicker(\n",
    "    description='Pick a Date',\n",
    "    disabled=False\n",
    ")"
   ]
  },
  {
   "cell_type": "markdown",
   "id": "10e5233a",
   "metadata": {},
   "source": [
    "# Plotly and Plotly Express"
   ]
  },
  {
   "cell_type": "markdown",
   "id": "c6f6dc29",
   "metadata": {},
   "source": [
    "![Plotly](../image/plotly.png)"
   ]
  },
  {
   "cell_type": "markdown",
   "id": "a244a059",
   "metadata": {},
   "source": [
    "- [Plotly in Python GitHub](https://github.com/plotly/plotly.py)\n",
    "- [Plotly in Python Documentation](https://plotly.com/python/)\n",
    "- [Plotly Express in Python Documentation](https://plotly.com/python/plotly-express/)\n",
    "\n",
    "\n",
    "Plotly in Python is an interactive, open-source, and browser-based graphing library for Python.\n",
    "\n",
    "Built on top of `plotly.js`, `plotly.py` is a high-level, declarative charting library.\n",
    "\n",
    "The Plotly Express module contains functions that can create entire figures at once.\n",
    "\n",
    "Plotly Express is a built-in part of the plotly library,\n",
    "and is the recommended starting point for creating most common figures.\n",
    "\n",
    "> APIs of Plotly Express resemble the `Seaborn`'s.\n"
   ]
  },
  {
   "cell_type": "code",
   "execution_count": null,
   "id": "e390a6fc",
   "metadata": {
    "ExecuteTime": {
     "end_time": "2021-10-27T12:48:22.577052Z",
     "start_time": "2021-10-27T12:48:20.046070Z"
    }
   },
   "outputs": [],
   "source": [
    "import plotly.graph_objects as go\n",
    "import plotly.express as px"
   ]
  },
  {
   "cell_type": "markdown",
   "id": "62a956b3",
   "metadata": {},
   "source": [
    "## Scatter"
   ]
  },
  {
   "cell_type": "code",
   "execution_count": null,
   "id": "390ae63a",
   "metadata": {
    "ExecuteTime": {
     "end_time": "2021-10-27T12:48:24.334732Z",
     "start_time": "2021-10-27T12:48:22.579773Z"
    }
   },
   "outputs": [],
   "source": [
    "# Plotly Version\n",
    "fig = go.Figure()\n",
    "fig.add_trace(\n",
    "    go.Scatter(\n",
    "        x=df_sample['hours_per_week'],\n",
    "        y=df_sample['fake_income'],\n",
    "        mode='markers',\n",
    "        marker=dict(showscale=True),\n",
    "        marker_color=df_sample['age'],\n",
    "    )\n",
    ")"
   ]
  },
  {
   "cell_type": "code",
   "execution_count": null,
   "id": "f31f88bd",
   "metadata": {
    "ExecuteTime": {
     "end_time": "2021-10-27T13:07:52.013182Z",
     "start_time": "2021-10-27T13:07:51.962989Z"
    }
   },
   "outputs": [],
   "source": [
    "# Plotly Express Version\n",
    "px.scatter(data_frame=df_sample,\n",
    "           x='hours_per_week',\n",
    "           y='fake_income',\n",
    "           color='age')"
   ]
  },
  {
   "cell_type": "code",
   "execution_count": null,
   "id": "43cf2e46",
   "metadata": {
    "ExecuteTime": {
     "end_time": "2021-10-27T13:08:15.514655Z",
     "start_time": "2021-10-27T13:08:15.297506Z"
    }
   },
   "outputs": [],
   "source": [
    "# C.f., Seaborn Version\n",
    "sns.scatterplot(data=df_sample,\n",
    "                x='hours_per_week',\n",
    "                y='fake_income',\n",
    "                hue='age');"
   ]
  },
  {
   "cell_type": "markdown",
   "id": "560fdaa9",
   "metadata": {},
   "source": [
    "> I usually start from Plotly Express then use Plotly only when it's necessary.\n",
    ">\n",
    "> Like we did with Seaborn then used Matplotlib for fine-tuning in the previous chapter."
   ]
  },
  {
   "cell_type": "markdown",
   "id": "9d31681e",
   "metadata": {},
   "source": [
    "## Scatter Matrix"
   ]
  },
  {
   "cell_type": "code",
   "execution_count": null,
   "id": "df6991c2",
   "metadata": {
    "ExecuteTime": {
     "end_time": "2021-10-27T12:48:30.635265Z",
     "start_time": "2021-10-27T12:48:30.381508Z"
    }
   },
   "outputs": [],
   "source": [
    "px.scatter_matrix(df_sample,\n",
    "                  dimensions=['age', 'capital_gain', 'hours_per_week', 'fake_income'],\n",
    "                  color='sex')"
   ]
  },
  {
   "cell_type": "code",
   "execution_count": null,
   "id": "02a2e04f",
   "metadata": {
    "ExecuteTime": {
     "end_time": "2021-10-27T12:48:43.641027Z",
     "start_time": "2021-10-27T12:48:30.636539Z"
    }
   },
   "outputs": [],
   "source": [
    "# C.f., Seaborn Version\n",
    "sns.pairplot(\n",
    "    data=df,\n",
    "    hue='sex',\n",
    "    vars=['age', 'capital_gain', 'hours_per_week', 'fake_income'],\n",
    "    plot_kws=dict(alpha=0.3, s=10),\n",
    ");"
   ]
  },
  {
   "cell_type": "markdown",
   "id": "59d54ae7",
   "metadata": {},
   "source": [
    "## Parallel Categories"
   ]
  },
  {
   "cell_type": "code",
   "execution_count": null,
   "id": "a15daf7e",
   "metadata": {
    "ExecuteTime": {
     "end_time": "2021-10-27T12:48:43.859262Z",
     "start_time": "2021-10-27T12:48:43.642610Z"
    }
   },
   "outputs": [],
   "source": [
    "px.parallel_categories(\n",
    "    df_sample,\n",
    "    dimensions=[\n",
    "        'age_group', 'education',\n",
    "        'race', 'workclass', 'sex', 'income'\n",
    "    ],\n",
    "    color='hours_per_week',\n",
    ")"
   ]
  },
  {
   "cell_type": "markdown",
   "id": "34cf988b",
   "metadata": {},
   "source": [
    "## Parallel Coordinates"
   ]
  },
  {
   "cell_type": "code",
   "execution_count": null,
   "id": "b6f8e464",
   "metadata": {
    "ExecuteTime": {
     "end_time": "2021-10-27T12:48:44.019447Z",
     "start_time": "2021-10-27T12:48:43.860600Z"
    }
   },
   "outputs": [],
   "source": [
    "px.parallel_coordinates(df_sample,\n",
    "                        color='fake_income')"
   ]
  },
  {
   "cell_type": "markdown",
   "id": "b77cbaf8",
   "metadata": {},
   "source": [
    "> [HiPlot](https://github.com/facebookresearch/hiplot) is another nice parallel coordinates plotting library from Facebook.\n",
    ">\n",
    "> It is much more responsive with lots of data.\n",
    "\n",
    "![HiPlot Example](../image/hiplot.png)"
   ]
  },
  {
   "cell_type": "markdown",
   "id": "12b19f9d",
   "metadata": {},
   "source": [
    "# Bokeh"
   ]
  },
  {
   "cell_type": "markdown",
   "id": "e3e72b89",
   "metadata": {},
   "source": [
    "- [GitHub](https://github.com/bokeh/bokeh)\n",
    "- [Documentation](https://docs.bokeh.org/)\n",
    "\n",
    "Bokeh is an interactive visualization library for modern web browsers.\n",
    "\n",
    "It provides elegant, concise construction of versatile graphics, and affords **high-performance interactivity over large or streaming datasets**.\n",
    "\n",
    "Bokeh can help anyone who would like to quickly and easily make interactive plots, dashboards, and data applications."
   ]
  },
  {
   "cell_type": "code",
   "execution_count": null,
   "id": "65ef49a9",
   "metadata": {
    "ExecuteTime": {
     "end_time": "2021-10-27T12:48:45.949314Z",
     "start_time": "2021-10-27T12:48:44.020577Z"
    }
   },
   "outputs": [],
   "source": [
    "from bokeh.plotting import figure, show\n",
    "from bokeh.io import output_notebook\n",
    "\n",
    "output_notebook()"
   ]
  },
  {
   "cell_type": "code",
   "execution_count": null,
   "id": "0f925727",
   "metadata": {
    "ExecuteTime": {
     "end_time": "2021-10-27T13:03:26.519956Z",
     "start_time": "2021-10-27T13:03:26.462668Z"
    }
   },
   "outputs": [],
   "source": [
    "p = figure(tools='hover,crosshair')\n",
    "\n",
    "p.scatter(\n",
    "    x='hours_per_week',\n",
    "    y='fake_income',\n",
    "    color='age',\n",
    "    source=df_sample,\n",
    ")\n",
    "\n",
    "show(p)"
   ]
  },
  {
   "cell_type": "markdown",
   "id": "410373e2",
   "metadata": {},
   "source": [
    "# Altair"
   ]
  },
  {
   "cell_type": "markdown",
   "id": "2cf70b24",
   "metadata": {},
   "source": [
    "- [GitHub](https://github.com/altair-viz/altair)\n",
    "- [Documentation](https://altair-viz.github.io/)\n",
    "\n",
    "Altair is a **declarative statistical visualization** library for Python, based on `Vega` and `Vega-Lite`.\n",
    "\n",
    "With Altair, you can spend more time understanding your data and its meaning.\n",
    "\n",
    "Altair’s API is simple, friendly and consistent and built on top of the powerful `Vega-Lite` visualization grammar.\n",
    "\n",
    "This elegant simplicity produces beautiful and effective visualizations with a **minimal amount of code**."
   ]
  },
  {
   "cell_type": "code",
   "execution_count": null,
   "id": "ca33fbd6",
   "metadata": {
    "ExecuteTime": {
     "end_time": "2021-10-27T12:48:46.483431Z",
     "start_time": "2021-10-27T12:48:46.004300Z"
    }
   },
   "outputs": [],
   "source": [
    "import altair as alt"
   ]
  },
  {
   "cell_type": "code",
   "execution_count": null,
   "id": "a0d41cf3",
   "metadata": {
    "ExecuteTime": {
     "end_time": "2021-10-27T12:48:46.556777Z",
     "start_time": "2021-10-27T12:48:46.485642Z"
    }
   },
   "outputs": [],
   "source": [
    "(\n",
    "    alt\n",
    "    .Chart(df_sample)\n",
    "    .mark_circle()\n",
    "    .encode(\n",
    "        alt.X('hours_per_week'),\n",
    "        alt.Y('fake_income'),\n",
    "        color='age',\n",
    "        tooltip=['hours_per_week', 'fake_income', 'age', 'education', 'income'],\n",
    "    )\n",
    "    .interactive()  # Add interactivity\n",
    ")"
   ]
  },
  {
   "cell_type": "code",
   "execution_count": null,
   "id": "d72583a6",
   "metadata": {
    "ExecuteTime": {
     "end_time": "2021-10-27T13:02:47.884557Z",
     "start_time": "2021-10-27T13:02:47.765005Z"
    }
   },
   "outputs": [],
   "source": [
    "# Altair complains when I give more than 5,000 samples\n",
    "(\n",
    "    alt\n",
    "    .Chart(df.sample(10000))\n",
    "    .mark_circle()\n",
    "    .encode(\n",
    "        alt.X('hours_per_week'),\n",
    "        alt.Y('fake_income'),\n",
    "        color='age',\n",
    "        tooltip=['hours_per_week', 'fake_income', 'age', 'education', 'income'],\n",
    "    )\n",
    "    .interactive()\n",
    ")"
   ]
  }
 ],
 "metadata": {
  "hide_input": false,
  "kernelspec": {
   "display_name": "Python 3 (ipykernel)",
   "language": "python",
   "name": "python3"
  },
  "language_info": {
   "codemirror_mode": {
    "name": "ipython",
    "version": 3
   },
   "file_extension": ".py",
   "mimetype": "text/x-python",
   "name": "python",
   "nbconvert_exporter": "python",
   "pygments_lexer": "ipython3",
   "version": "3.9.7"
  },
  "toc": {
   "base_numbering": 1,
   "nav_menu": {},
   "number_sections": true,
   "sideBar": true,
   "skip_h1_title": false,
   "title_cell": "Table of Contents",
   "title_sidebar": "Contents",
   "toc_cell": false,
   "toc_position": {},
   "toc_section_display": true,
   "toc_window_display": true
  }
 },
 "nbformat": 4,
 "nbformat_minor": 5
}
