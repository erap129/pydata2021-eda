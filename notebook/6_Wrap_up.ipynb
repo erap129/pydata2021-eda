{
 "cells": [
  {
   "cell_type": "code",
   "execution_count": 1,
   "id": "f394ab70",
   "metadata": {
    "ExecuteTime": {
     "end_time": "2021-10-11T15:37:04.856046Z",
     "start_time": "2021-10-11T15:36:59.753894Z"
    }
   },
   "outputs": [],
   "source": [
    "import pandas as pd"
   ]
  },
  {
   "cell_type": "markdown",
   "id": "c61a0423",
   "metadata": {},
   "source": [
    "# Dashboarding your results\n",
    "\n",
    "- Streamlit\n",
    "- Dash\n",
    "- Voila"
   ]
  },
  {
   "cell_type": "code",
   "execution_count": null,
   "id": "7ee133f6",
   "metadata": {},
   "outputs": [],
   "source": []
  }
 ],
 "metadata": {
  "hide_input": false,
  "kernelspec": {
   "display_name": "Python 3 (ipykernel)",
   "language": "python",
   "name": "python3"
  },
  "language_info": {
   "codemirror_mode": {
    "name": "ipython",
    "version": 3
   },
   "file_extension": ".py",
   "mimetype": "text/x-python",
   "name": "python",
   "nbconvert_exporter": "python",
   "pygments_lexer": "ipython3",
   "version": "3.8.12"
  },
  "toc": {
   "base_numbering": 1,
   "nav_menu": {},
   "number_sections": true,
   "sideBar": true,
   "skip_h1_title": false,
   "title_cell": "Table of Contents",
   "title_sidebar": "Contents",
   "toc_cell": false,
   "toc_position": {},
   "toc_section_display": true,
   "toc_window_display": false
  }
 },
 "nbformat": 4,
 "nbformat_minor": 5
}
