{
 "cells": [
  {
   "cell_type": "code",
   "execution_count": null,
   "id": "12b45f30",
   "metadata": {
    "ExecuteTime": {
     "end_time": "2021-10-22T15:24:55.614304Z",
     "start_time": "2021-10-22T15:24:47.439987Z"
    }
   },
   "outputs": [],
   "source": [
    "import numpy as np\n",
    "import pandas as pd"
   ]
  },
  {
   "cell_type": "markdown",
   "id": "a6fbe4d7",
   "metadata": {},
   "source": [
    "# [Adult Data Set](https://archive.ics.uci.edu/ml/datasets/Adult)\n",
    "\n",
    "Predict whether income exceeds $50K/yr based on census data.\n",
    "Also known as \"Census Income\" dataset.\n",
    "\n",
    "**Attributes**\n",
    "\n",
    "- age\n",
    "- workclass\n",
    "  - Represents the employment status of an individual\n",
    "- fnlwgt\n",
    "  - Final weight which is the number of people the census believes the entry represents\n",
    "  - People with similar demographic characteristics should have similar weights\n",
    "    - This only applies within state.\n",
    "- education\n",
    "  - The highest level of education achieved by an individual\n",
    "- education-num\n",
    "  - The highest level of education achieved in numerical form\n",
    "- marital-status\n",
    "- relationship\n",
    "  - Represents what this individual is relative to others\n",
    "- race\n",
    "- sex\n",
    "- capital-gain\n",
    "- capital-loss\n",
    "- hours-per-week\n",
    "  - The hours an individual has reported to work per week\n",
    "- native-country"
   ]
  },
  {
   "cell_type": "markdown",
   "id": "f5e227f2",
   "metadata": {},
   "source": [
    "# Data Load"
   ]
  },
  {
   "cell_type": "markdown",
   "id": "e11eb5db",
   "metadata": {},
   "source": [
    "## Data Files"
   ]
  },
  {
   "cell_type": "markdown",
   "id": "29817d4c",
   "metadata": {},
   "source": [
    "I have cut the [original data](https://archive.ics.uci.edu/ml/machine-learning-databases/adult/adult.data)\n",
    "into 4 seprate files.\n",
    "\n",
    "https://github.com/sesise0307/pydata2021-eda/tree/main/data\n",
    "\n",
    "![Data List](../image/data_list.png)"
   ]
  },
  {
   "cell_type": "markdown",
   "id": "2fe08a01",
   "metadata": {},
   "source": [
    "## Loading a file"
   ]
  },
  {
   "cell_type": "code",
   "execution_count": null,
   "id": "59c4e7db",
   "metadata": {
    "ExecuteTime": {
     "end_time": "2021-10-22T15:24:55.672898Z",
     "start_time": "2021-10-22T15:24:55.617673Z"
    }
   },
   "outputs": [],
   "source": [
    "df_0 = pd.read_csv(\n",
    "#     '../data/adult-0.data',\n",
    "    'https://raw.githubusercontent.com/sesise0307/pydata2021-eda/main/data/adult-0.data',\n",
    ")\n",
    "\n",
    "df_0.shape"
   ]
  },
  {
   "cell_type": "code",
   "execution_count": null,
   "id": "35d86afa",
   "metadata": {
    "ExecuteTime": {
     "end_time": "2021-10-22T15:24:55.719481Z",
     "start_time": "2021-10-22T15:24:55.674095Z"
    }
   },
   "outputs": [],
   "source": [
    "df_0.head()"
   ]
  },
  {
   "cell_type": "code",
   "execution_count": null,
   "id": "1edc2c5a",
   "metadata": {
    "ExecuteTime": {
     "end_time": "2021-10-22T15:24:55.766875Z",
     "start_time": "2021-10-22T15:24:55.721910Z"
    }
   },
   "outputs": [],
   "source": [
    "names = [\n",
    "    'age',\n",
    "    'workclass',\n",
    "    'fnlwgt',\n",
    "    'education',\n",
    "    'education_num',\n",
    "    'marital_status',\n",
    "    'occupation',\n",
    "    'relationship',\n",
    "    'race',\n",
    "    'sex',\n",
    "    'capital_gain',\n",
    "    'capital_loss',\n",
    "    'hours_per_week',\n",
    "    'native_country',\n",
    "    'income',\n",
    "]"
   ]
  },
  {
   "cell_type": "code",
   "execution_count": null,
   "id": "4fbf0d3c",
   "metadata": {
    "ExecuteTime": {
     "end_time": "2021-10-22T15:24:55.805641Z",
     "start_time": "2021-10-22T15:24:55.769593Z"
    }
   },
   "outputs": [],
   "source": [
    "df_0 = pd.read_csv(\n",
    "#     '../data/adult-0.data',\n",
    "    'https://raw.githubusercontent.com/sesise0307/pydata2021-eda/main/data/adult-0.data',\n",
    "    names=names,\n",
    "    skipinitialspace=True,  # Skip spaces after delimiter\n",
    ")\n",
    "\n",
    "df_0.shape"
   ]
  },
  {
   "cell_type": "code",
   "execution_count": null,
   "id": "5313574c",
   "metadata": {
    "ExecuteTime": {
     "end_time": "2021-10-22T15:24:55.816871Z",
     "start_time": "2021-10-22T15:24:55.806902Z"
    }
   },
   "outputs": [],
   "source": [
    "df_0.head()"
   ]
  },
  {
   "cell_type": "markdown",
   "id": "e401c6d7",
   "metadata": {},
   "source": [
    "## Merging many files"
   ]
  },
  {
   "cell_type": "code",
   "execution_count": null,
   "id": "ce15ad14",
   "metadata": {
    "ExecuteTime": {
     "end_time": "2021-10-22T15:24:55.973141Z",
     "start_time": "2021-10-22T15:24:55.818346Z"
    }
   },
   "outputs": [],
   "source": [
    "df_list = list()\n",
    "\n",
    "for i in range(4):\n",
    "    print(f'Reading a csv file: adult-{i}.data')\n",
    "    \n",
    "    df_list.append(        \n",
    "        pd.read_csv(\n",
    "#             f'../data/adult-{i}.data',\n",
    "            f'https://raw.githubusercontent.com/sesise0307/pydata2021-eda/main/data/adult-{i}.data',\n",
    "            names=names,\n",
    "            skipinitialspace=True,\n",
    "        )\n",
    "    )\n",
    "\n",
    "df = pd.concat(df_list, ignore_index=True)\n",
    "\n",
    "df.shape"
   ]
  },
  {
   "cell_type": "code",
   "execution_count": null,
   "id": "acae2436",
   "metadata": {
    "ExecuteTime": {
     "end_time": "2021-10-22T15:24:55.985133Z",
     "start_time": "2021-10-22T15:24:55.974465Z"
    }
   },
   "outputs": [],
   "source": [
    "df.head(10)"
   ]
  },
  {
   "cell_type": "markdown",
   "id": "36aea336",
   "metadata": {},
   "source": [
    "# Essential Check & Preprocessing"
   ]
  },
  {
   "cell_type": "markdown",
   "id": "61e3d706",
   "metadata": {},
   "source": [
    "## info() and describe()"
   ]
  },
  {
   "cell_type": "code",
   "execution_count": null,
   "id": "8d905113",
   "metadata": {
    "ExecuteTime": {
     "end_time": "2021-10-22T15:24:56.016460Z",
     "start_time": "2021-10-22T15:24:55.986359Z"
    }
   },
   "outputs": [],
   "source": [
    "df.info()"
   ]
  },
  {
   "cell_type": "code",
   "execution_count": null,
   "id": "fc18fcbc",
   "metadata": {
    "ExecuteTime": {
     "end_time": "2021-10-22T15:24:56.045966Z",
     "start_time": "2021-10-22T15:24:56.018944Z"
    }
   },
   "outputs": [],
   "source": [
    "df.describe()"
   ]
  },
  {
   "cell_type": "code",
   "execution_count": null,
   "id": "266287cd",
   "metadata": {
    "ExecuteTime": {
     "end_time": "2021-10-22T15:24:56.088430Z",
     "start_time": "2021-10-22T15:24:56.047319Z"
    }
   },
   "outputs": [],
   "source": [
    "df.describe(exclude=np.number)"
   ]
  },
  {
   "cell_type": "markdown",
   "id": "0bf0353c",
   "metadata": {},
   "source": [
    "## Unique Values"
   ]
  },
  {
   "cell_type": "code",
   "execution_count": null,
   "id": "36c5c1c4",
   "metadata": {
    "ExecuteTime": {
     "end_time": "2021-10-22T15:24:56.096541Z",
     "start_time": "2021-10-22T15:24:56.089514Z"
    }
   },
   "outputs": [],
   "source": [
    "print('Unique workclass: ', df['workclass'].unique())\n",
    "print('The number of unique workclass: ', df['workclass'].nunique())"
   ]
  },
  {
   "cell_type": "code",
   "execution_count": null,
   "id": "d74eb39d",
   "metadata": {
    "ExecuteTime": {
     "end_time": "2021-10-22T15:24:56.165936Z",
     "start_time": "2021-10-22T15:24:56.097694Z"
    }
   },
   "outputs": [],
   "source": [
    "for column in df.columns:\n",
    "    n_unique = df[column].nunique()\n",
    "    \n",
    "    if df[column].nunique() < 50:\n",
    "        print(f'{column} ({n_unique}): {df[column].unique()}\\n')\n",
    "    else:\n",
    "        print(f'{column} ({n_unique})\\n')"
   ]
  },
  {
   "cell_type": "markdown",
   "id": "c38fdddc",
   "metadata": {},
   "source": [
    "> Note that if a variable contains only 1 unique value,\n",
    "> it means that the variable does not have any information."
   ]
  },
  {
   "cell_type": "markdown",
   "id": "3a338eef",
   "metadata": {},
   "source": [
    "## Missing Values"
   ]
  },
  {
   "cell_type": "markdown",
   "id": "84962926",
   "metadata": {},
   "source": [
    "### Visualization with missingno"
   ]
  },
  {
   "cell_type": "code",
   "execution_count": null,
   "id": "f7de11df",
   "metadata": {
    "ExecuteTime": {
     "end_time": "2021-10-22T15:25:04.154652Z",
     "start_time": "2021-10-22T15:24:56.166917Z"
    }
   },
   "outputs": [],
   "source": [
    "import missingno as msno\n",
    "\n",
    "msno.matrix(df);"
   ]
  },
  {
   "cell_type": "code",
   "execution_count": null,
   "id": "f2f9c036",
   "metadata": {
    "ExecuteTime": {
     "end_time": "2021-10-22T15:25:04.755236Z",
     "start_time": "2021-10-22T15:25:04.156037Z"
    }
   },
   "outputs": [],
   "source": [
    "msno.bar(df);"
   ]
  },
  {
   "cell_type": "code",
   "execution_count": null,
   "id": "a3e94c65",
   "metadata": {
    "ExecuteTime": {
     "end_time": "2021-10-22T15:25:04.764289Z",
     "start_time": "2021-10-22T15:25:04.756484Z"
    }
   },
   "outputs": [],
   "source": [
    "# Replace '?' to NaN\n",
    "df = df.replace('?', np.nan)"
   ]
  },
  {
   "cell_type": "code",
   "execution_count": null,
   "id": "6e1f34a5",
   "metadata": {
    "ExecuteTime": {
     "end_time": "2021-10-22T15:25:05.107792Z",
     "start_time": "2021-10-22T15:25:04.765354Z"
    }
   },
   "outputs": [],
   "source": [
    "msno.matrix(df);"
   ]
  },
  {
   "cell_type": "code",
   "execution_count": null,
   "id": "cc8af197",
   "metadata": {
    "ExecuteTime": {
     "end_time": "2021-10-22T15:25:05.604006Z",
     "start_time": "2021-10-22T15:25:05.109073Z"
    }
   },
   "outputs": [],
   "source": [
    "msno.bar(df);"
   ]
  },
  {
   "cell_type": "markdown",
   "id": "34223451",
   "metadata": {},
   "source": [
    "### Manual computation of NaN ratio"
   ]
  },
  {
   "cell_type": "code",
   "execution_count": null,
   "id": "bb851ef9",
   "metadata": {
    "ExecuteTime": {
     "end_time": "2021-10-22T15:25:05.627249Z",
     "start_time": "2021-10-22T15:25:05.605746Z"
    }
   },
   "outputs": [],
   "source": [
    "df.isna().head()"
   ]
  },
  {
   "cell_type": "code",
   "execution_count": null,
   "id": "60acfef9",
   "metadata": {
    "ExecuteTime": {
     "end_time": "2021-10-22T15:25:05.658300Z",
     "start_time": "2021-10-22T15:25:05.628314Z"
    }
   },
   "outputs": [],
   "source": [
    "df.isna().sum()"
   ]
  },
  {
   "cell_type": "code",
   "execution_count": null,
   "id": "cf1c7c6f",
   "metadata": {
    "ExecuteTime": {
     "end_time": "2021-10-22T15:25:05.688458Z",
     "start_time": "2021-10-22T15:25:05.659386Z"
    }
   },
   "outputs": [],
   "source": [
    "df.isna().sum() / df.shape[0]"
   ]
  },
  {
   "cell_type": "code",
   "execution_count": null,
   "id": "a5bf8e8c",
   "metadata": {
    "ExecuteTime": {
     "end_time": "2021-10-22T15:25:05.717438Z",
     "start_time": "2021-10-22T15:25:05.689554Z"
    }
   },
   "outputs": [],
   "source": [
    "(\n",
    "    (df.isna().sum() / df.shape[0])\n",
    "    .sort_values(ascending=False)  # Sort by NaN Ratio\n",
    ")"
   ]
  },
  {
   "cell_type": "markdown",
   "id": "66f0c43a",
   "metadata": {},
   "source": [
    "### Handling Missing Values"
   ]
  },
  {
   "cell_type": "markdown",
   "id": "b942cb14",
   "metadata": {},
   "source": [
    "![Handling Missing Data](../image/handle_missing_data.png)\n",
    "\n",
    "Source: https://towardsdatascience.com/how-to-handle-missing-data-8646b18db0d4"
   ]
  },
  {
   "cell_type": "markdown",
   "id": "dee491f0",
   "metadata": {},
   "source": [
    "#### fillna()"
   ]
  },
  {
   "cell_type": "markdown",
   "id": "37377b9a",
   "metadata": {},
   "source": [
    "##### workclass fillna() with mode"
   ]
  },
  {
   "cell_type": "code",
   "execution_count": null,
   "id": "77d8232e",
   "metadata": {
    "ExecuteTime": {
     "end_time": "2021-10-22T15:25:05.732395Z",
     "start_time": "2021-10-22T15:25:05.718544Z"
    }
   },
   "outputs": [],
   "source": [
    "workclass_mode = df['workclass'].mode()[0]\n",
    "workclass_mode"
   ]
  },
  {
   "cell_type": "code",
   "execution_count": null,
   "id": "96824b95",
   "metadata": {
    "ExecuteTime": {
     "end_time": "2021-10-22T15:25:05.750463Z",
     "start_time": "2021-10-22T15:25:05.733553Z"
    }
   },
   "outputs": [],
   "source": [
    "df['workclass'].unique()"
   ]
  },
  {
   "cell_type": "code",
   "execution_count": null,
   "id": "5e38f41a",
   "metadata": {
    "ExecuteTime": {
     "end_time": "2021-10-22T15:25:05.775707Z",
     "start_time": "2021-10-22T15:25:05.751791Z"
    }
   },
   "outputs": [],
   "source": [
    "df['workclass'] = df['workclass'].fillna(workclass_mode)"
   ]
  },
  {
   "cell_type": "code",
   "execution_count": null,
   "id": "132de6c2",
   "metadata": {
    "ExecuteTime": {
     "end_time": "2021-10-22T15:25:05.795338Z",
     "start_time": "2021-10-22T15:25:05.777882Z"
    }
   },
   "outputs": [],
   "source": [
    "df['workclass'].unique()"
   ]
  },
  {
   "cell_type": "markdown",
   "id": "2e63e39b",
   "metadata": {},
   "source": [
    "##### occupation fillna with \"Unknown\""
   ]
  },
  {
   "cell_type": "code",
   "execution_count": null,
   "id": "4b8250b9",
   "metadata": {
    "ExecuteTime": {
     "end_time": "2021-10-22T15:25:05.812429Z",
     "start_time": "2021-10-22T15:25:05.797218Z"
    }
   },
   "outputs": [],
   "source": [
    "df['occupation'].unique()"
   ]
  },
  {
   "cell_type": "code",
   "execution_count": null,
   "id": "33475255",
   "metadata": {
    "ExecuteTime": {
     "end_time": "2021-10-22T15:25:05.832696Z",
     "start_time": "2021-10-22T15:25:05.816523Z"
    }
   },
   "outputs": [],
   "source": [
    "df['occupation'] = df['occupation'].fillna('Unknown')"
   ]
  },
  {
   "cell_type": "code",
   "execution_count": null,
   "id": "c68b77aa",
   "metadata": {
    "ExecuteTime": {
     "end_time": "2021-10-22T15:25:05.854091Z",
     "start_time": "2021-10-22T15:25:05.834437Z"
    }
   },
   "outputs": [],
   "source": [
    "df['occupation'].unique()"
   ]
  },
  {
   "cell_type": "markdown",
   "id": "7c3b0a3c",
   "metadata": {},
   "source": [
    "#### dropna()"
   ]
  },
  {
   "cell_type": "code",
   "execution_count": null,
   "id": "fefb4309",
   "metadata": {
    "ExecuteTime": {
     "end_time": "2021-10-22T15:25:05.889465Z",
     "start_time": "2021-10-22T15:25:05.855433Z"
    }
   },
   "outputs": [],
   "source": [
    "# Drop rows with at least one NaN values\n",
    "df = df.dropna().reset_index(drop=True)"
   ]
  },
  {
   "cell_type": "markdown",
   "id": "841c1d2d",
   "metadata": {},
   "source": [
    "#### Verification"
   ]
  },
  {
   "cell_type": "code",
   "execution_count": null,
   "id": "a6ab4bd0",
   "metadata": {
    "ExecuteTime": {
     "end_time": "2021-10-22T15:25:06.327662Z",
     "start_time": "2021-10-22T15:25:05.890551Z"
    }
   },
   "outputs": [],
   "source": [
    "msno.bar(df);"
   ]
  },
  {
   "cell_type": "markdown",
   "id": "5d1d7f4c",
   "metadata": {},
   "source": [
    "## [Sidetable](https://github.com/chris1610/sidetable)\n",
    "\n",
    "Builds simple but useful summary tables of your pandas DataFrame.\n",
    "\n",
    "Usage is straightforward. Install and import sidetable. Then access it through the new .stb accessor on your DataFrame."
   ]
  },
  {
   "cell_type": "code",
   "execution_count": null,
   "id": "088d72ce",
   "metadata": {},
   "outputs": [],
   "source": [
    "# !pip install sidetable"
   ]
  },
  {
   "cell_type": "code",
   "execution_count": null,
   "id": "8d96d3c8",
   "metadata": {
    "ExecuteTime": {
     "end_time": "2021-10-22T15:25:06.360228Z",
     "start_time": "2021-10-22T15:25:06.328773Z"
    }
   },
   "outputs": [],
   "source": [
    "import sidetable"
   ]
  },
  {
   "cell_type": "code",
   "execution_count": null,
   "id": "dd1c52e5",
   "metadata": {
    "ExecuteTime": {
     "end_time": "2021-10-22T15:25:06.384389Z",
     "start_time": "2021-10-22T15:25:06.362135Z"
    }
   },
   "outputs": [],
   "source": [
    "df.stb.freq(['race', 'sex'])"
   ]
  },
  {
   "cell_type": "code",
   "execution_count": null,
   "id": "d6df6243",
   "metadata": {
    "ExecuteTime": {
     "end_time": "2021-10-22T15:25:06.503966Z",
     "start_time": "2021-10-22T15:25:06.385334Z"
    }
   },
   "outputs": [],
   "source": [
    "df.stb.counts()"
   ]
  },
  {
   "cell_type": "code",
   "execution_count": null,
   "id": "0fa04d46",
   "metadata": {
    "ExecuteTime": {
     "end_time": "2021-10-22T15:25:06.991616Z",
     "start_time": "2021-10-22T15:25:06.504909Z"
    }
   },
   "outputs": [],
   "source": [
    "df.stb.missing(style=True)"
   ]
  },
  {
   "cell_type": "code",
   "execution_count": null,
   "id": "bf958bb8",
   "metadata": {
    "ExecuteTime": {
     "end_time": "2021-10-22T15:25:07.004088Z",
     "start_time": "2021-10-22T15:25:06.992802Z"
    }
   },
   "outputs": [],
   "source": [
    "(\n",
    "    df\n",
    "    .groupby(['race', 'sex'])\n",
    "    [['capital_gain']]\n",
    "    .mean()\n",
    ")"
   ]
  },
  {
   "cell_type": "code",
   "execution_count": null,
   "id": "fabfe356",
   "metadata": {
    "ExecuteTime": {
     "end_time": "2021-10-22T15:25:07.043377Z",
     "start_time": "2021-10-22T15:25:07.005168Z"
    }
   },
   "outputs": [],
   "source": [
    "(\n",
    "    df\n",
    "    .groupby(['race', 'sex'])\n",
    "    [['capital_gain']]\n",
    "    .mean()\n",
    "    .stb\n",
    "    .subtotal()\n",
    ")"
   ]
  },
  {
   "cell_type": "markdown",
   "id": "8a04438b",
   "metadata": {},
   "source": [
    "# (Primitive) Feature Engineering"
   ]
  },
  {
   "cell_type": "markdown",
   "id": "d6b81643",
   "metadata": {},
   "source": [
    "## Age Grouping"
   ]
  },
  {
   "cell_type": "code",
   "execution_count": null,
   "id": "1d587a31",
   "metadata": {
    "ExecuteTime": {
     "end_time": "2021-10-22T15:25:07.050820Z",
     "start_time": "2021-10-22T15:25:07.044387Z"
    }
   },
   "outputs": [],
   "source": [
    "df['age'].describe()"
   ]
  },
  {
   "cell_type": "code",
   "execution_count": null,
   "id": "0421721e",
   "metadata": {
    "ExecuteTime": {
     "end_time": "2021-10-22T15:25:07.062420Z",
     "start_time": "2021-10-22T15:25:07.052024Z"
    }
   },
   "outputs": [],
   "source": [
    "df['age_group'] = pd.cut(\n",
    "    df['age'],\n",
    "    bins=range(10, 101, 10),\n",
    "    right=False,\n",
    "    labels=[f'{age_start}~{age_start + 9}'\n",
    "            for age_start in range(10, 100, 10)]\n",
    ")"
   ]
  },
  {
   "cell_type": "code",
   "execution_count": null,
   "id": "32570ba3",
   "metadata": {
    "ExecuteTime": {
     "end_time": "2021-10-22T15:25:07.073071Z",
     "start_time": "2021-10-22T15:25:07.063513Z"
    }
   },
   "outputs": [],
   "source": [
    "df['age_group'].cat.categories"
   ]
  },
  {
   "cell_type": "code",
   "execution_count": null,
   "id": "29cdcc51",
   "metadata": {
    "ExecuteTime": {
     "end_time": "2021-10-22T15:25:07.088969Z",
     "start_time": "2021-10-22T15:25:07.074062Z"
    }
   },
   "outputs": [],
   "source": [
    "df[['age', 'age_group']].tail(10)"
   ]
  },
  {
   "cell_type": "markdown",
   "id": "38c12228",
   "metadata": {},
   "source": [
    "## Cateogry and Category Ordering"
   ]
  },
  {
   "cell_type": "code",
   "execution_count": null,
   "id": "f8da45a3",
   "metadata": {
    "ExecuteTime": {
     "end_time": "2021-10-22T15:25:07.107331Z",
     "start_time": "2021-10-22T15:25:07.090056Z"
    }
   },
   "outputs": [],
   "source": [
    "(\n",
    "    df\n",
    "    .groupby('education')['education_num']\n",
    "    .unique()\n",
    "    .sort_values()\n",
    ")"
   ]
  },
  {
   "cell_type": "code",
   "execution_count": null,
   "id": "4252d6bf",
   "metadata": {
    "ExecuteTime": {
     "end_time": "2021-10-22T15:25:07.114978Z",
     "start_time": "2021-10-22T15:25:07.108640Z"
    }
   },
   "outputs": [],
   "source": [
    "education_order = (\n",
    "    df\n",
    "    .groupby('education')['education_num']\n",
    "    .unique()\n",
    "    .sort_values()\n",
    "    .index\n",
    ")"
   ]
  },
  {
   "cell_type": "code",
   "execution_count": null,
   "id": "92e752bf",
   "metadata": {
    "ExecuteTime": {
     "end_time": "2021-10-22T15:25:07.125655Z",
     "start_time": "2021-10-22T15:25:07.115965Z"
    }
   },
   "outputs": [],
   "source": [
    "df['education'] = df['education'].astype(\n",
    "    pd.CategoricalDtype(categories=education_order,\n",
    "                        ordered=True)\n",
    ")"
   ]
  },
  {
   "cell_type": "code",
   "execution_count": null,
   "id": "a4681315",
   "metadata": {
    "ExecuteTime": {
     "end_time": "2021-10-22T15:25:07.137555Z",
     "start_time": "2021-10-22T15:25:07.126598Z"
    }
   },
   "outputs": [],
   "source": [
    "df['education'].head()"
   ]
  },
  {
   "cell_type": "code",
   "execution_count": null,
   "id": "e65d2d06",
   "metadata": {
    "ExecuteTime": {
     "end_time": "2021-10-22T15:25:07.149462Z",
     "start_time": "2021-10-22T15:25:07.138465Z"
    }
   },
   "outputs": [],
   "source": [
    "df['education_num'] = df['education_num'].astype(\n",
    "    pd.CategoricalDtype(ordered=True)\n",
    ")"
   ]
  },
  {
   "cell_type": "code",
   "execution_count": null,
   "id": "a85f29f2",
   "metadata": {
    "ExecuteTime": {
     "end_time": "2021-10-22T15:25:07.164397Z",
     "start_time": "2021-10-22T15:25:07.150802Z"
    }
   },
   "outputs": [],
   "source": [
    "df['education_num'].head()"
   ]
  },
  {
   "cell_type": "markdown",
   "id": "e676a637",
   "metadata": {},
   "source": [
    "## Captial gain and loss"
   ]
  },
  {
   "cell_type": "code",
   "execution_count": null,
   "id": "991cf59d",
   "metadata": {
    "ExecuteTime": {
     "end_time": "2021-10-22T15:25:07.180767Z",
     "start_time": "2021-10-22T15:25:07.166295Z"
    }
   },
   "outputs": [],
   "source": [
    "df[['capital_gain', 'capital_loss']].tail(10)"
   ]
  },
  {
   "cell_type": "code",
   "execution_count": null,
   "id": "e5fb15d4",
   "metadata": {
    "ExecuteTime": {
     "end_time": "2021-10-22T15:25:07.200198Z",
     "start_time": "2021-10-22T15:25:07.181831Z"
    }
   },
   "outputs": [],
   "source": [
    "(  # Check if capital gain and capital loss appear at the same time\n",
    "    df[['capital_gain', 'capital_loss']]\n",
    "    .astype(bool)\n",
    "#     .sum(axis='columns')\n",
    "#     .max()\n",
    ")"
   ]
  },
  {
   "cell_type": "code",
   "execution_count": null,
   "id": "d9ff5a14",
   "metadata": {
    "ExecuteTime": {
     "end_time": "2021-10-22T15:25:07.217162Z",
     "start_time": "2021-10-22T15:25:07.201159Z"
    }
   },
   "outputs": [],
   "source": [
    "df['capital_gain'] = df['capital_gain'] - df['capital_loss']\n",
    "df = df.drop(columns='capital_loss')"
   ]
  },
  {
   "cell_type": "code",
   "execution_count": null,
   "id": "ea69279e",
   "metadata": {
    "ExecuteTime": {
     "end_time": "2021-10-22T15:25:07.225845Z",
     "start_time": "2021-10-22T15:25:07.218363Z"
    }
   },
   "outputs": [],
   "source": [
    "df['capital_gain'].describe()"
   ]
  },
  {
   "cell_type": "markdown",
   "id": "8735896f",
   "metadata": {},
   "source": [
    "## Income exceeds $50K/yr"
   ]
  },
  {
   "cell_type": "code",
   "execution_count": null,
   "id": "571a5b75",
   "metadata": {
    "ExecuteTime": {
     "end_time": "2021-10-22T15:25:07.236418Z",
     "start_time": "2021-10-22T15:25:07.226792Z"
    }
   },
   "outputs": [],
   "source": [
    "df['income_exceed_50k'] = df['income'] == '>50K'"
   ]
  },
  {
   "cell_type": "code",
   "execution_count": null,
   "id": "be592ded",
   "metadata": {
    "ExecuteTime": {
     "end_time": "2021-10-22T15:25:07.252429Z",
     "start_time": "2021-10-22T15:25:07.237480Z"
    }
   },
   "outputs": [],
   "source": [
    "df[['income', 'income_exceed_50k']].head(10)"
   ]
  },
  {
   "cell_type": "markdown",
   "id": "f1688175",
   "metadata": {},
   "source": [
    "## Adding Fake Income (for fun)"
   ]
  },
  {
   "cell_type": "code",
   "execution_count": null,
   "id": "8d741117",
   "metadata": {
    "ExecuteTime": {
     "end_time": "2021-10-22T15:25:07.274390Z",
     "start_time": "2021-10-22T15:25:07.253524Z"
    }
   },
   "outputs": [],
   "source": [
    "df.head()"
   ]
  },
  {
   "cell_type": "code",
   "execution_count": null,
   "id": "53082544",
   "metadata": {
    "ExecuteTime": {
     "end_time": "2021-10-22T15:25:07.284883Z",
     "start_time": "2021-10-22T15:25:07.275468Z"
    }
   },
   "outputs": [],
   "source": [
    "import random\n",
    "\n",
    "def get_fake_income(row):\n",
    "    exceed_50k = row['income_exceed_50k']\n",
    "        \n",
    "    weight_age = 1.2 if 40 <= row['age'] <= 55 else 1.0\n",
    "    weight_hours_per_week = 1.2 if 38 <= row['hours_per_week'] else 0.8\n",
    "    weight_race = 1.2 if row['race'] == 'White' else 0.9\n",
    "    weight_sex = 1.2 if row['sex'] == 'Male' else 0.9\n",
    "    \n",
    "    mu = 35000 * weight_age * weight_hours_per_week * weight_race * weight_sex\n",
    "    sigma = mu * random.uniform(0.5, 1.5)\n",
    "    \n",
    "    while True:  # Guarantee fake income is conform to exceed_50k\n",
    "        income = int(random.gauss(mu, sigma))\n",
    "        \n",
    "        if exceed_50k and 50000 < income:\n",
    "            return income\n",
    "        \n",
    "        elif not exceed_50k and 1000 < income <= 50000:\n",
    "            return income"
   ]
  },
  {
   "cell_type": "code",
   "execution_count": null,
   "id": "c246723b",
   "metadata": {
    "ExecuteTime": {
     "end_time": "2021-10-22T15:25:07.806318Z",
     "start_time": "2021-10-22T15:25:07.285790Z"
    }
   },
   "outputs": [],
   "source": [
    "random.seed(42)\n",
    "df['fake_income'] = df.apply(get_fake_income, axis='columns')"
   ]
  },
  {
   "cell_type": "markdown",
   "id": "8d2f161b",
   "metadata": {},
   "source": [
    "# Save the Preprocessed DataFrame"
   ]
  },
  {
   "cell_type": "markdown",
   "id": "46454ea7",
   "metadata": {},
   "source": [
    "`pandas` supports various file types for both reading and saving your DataFrame.\n",
    "\n",
    "![Pandas I/O](../image/pandas_io.png)\n",
    "\n",
    "Source: https://pandas.pydata.org/pandas-docs/stable/user_guide/io.html"
   ]
  },
  {
   "cell_type": "markdown",
   "id": "6a52ff13",
   "metadata": {},
   "source": [
    "> It seems that `feather` format is an ideal candidate to store the data between Jupyter sessions.\n",
    "> It shows high I/O speed, doesn’t take too much memory on the disk and doesn’t need any unpacking when loaded back into RAM.\n",
    ">\n",
    "> Source: [The Best Format to Save Pandas Data](https://towardsdatascience.com/the-best-format-to-save-pandas-data-414dca023e0d)."
   ]
  },
  {
   "cell_type": "code",
   "execution_count": null,
   "id": "28244b1e",
   "metadata": {
    "ExecuteTime": {
     "end_time": "2021-10-22T15:25:08.025982Z",
     "start_time": "2021-10-22T15:25:07.808019Z"
    }
   },
   "outputs": [],
   "source": [
    "# df.to_feather('adult_preprocessed.feather')\n",
    "df.to_feather('../data/preprocessed/adult.feather')"
   ]
  },
  {
   "cell_type": "code",
   "execution_count": null,
   "id": "95ccfc76",
   "metadata": {
    "ExecuteTime": {
     "end_time": "2021-10-22T15:25:08.097717Z",
     "start_time": "2021-10-22T15:25:08.028403Z"
    }
   },
   "outputs": [],
   "source": [
    "# df_feather = pd.read_feather('adult_preprocessed.feather')\n",
    "df_feather = pd.read_feather('../data/preprocessed/adult.feather')\n",
    "df_feather.head()"
   ]
  },
  {
   "cell_type": "code",
   "execution_count": null,
   "id": "93294f01",
   "metadata": {
    "ExecuteTime": {
     "end_time": "2021-10-22T15:25:08.119382Z",
     "start_time": "2021-10-22T15:25:08.099182Z"
    }
   },
   "outputs": [],
   "source": [
    "df_feather.info()"
   ]
  }
 ],
 "metadata": {
  "hide_input": false,
  "kernelspec": {
   "display_name": "Python 3 (ipykernel)",
   "language": "python",
   "name": "python3"
  },
  "language_info": {
   "codemirror_mode": {
    "name": "ipython",
    "version": 3
   },
   "file_extension": ".py",
   "mimetype": "text/x-python",
   "name": "python",
   "nbconvert_exporter": "python",
   "pygments_lexer": "ipython3",
   "version": "3.9.7"
  },
  "toc": {
   "base_numbering": 1,
   "nav_menu": {},
   "number_sections": true,
   "sideBar": true,
   "skip_h1_title": false,
   "title_cell": "Table of Contents",
   "title_sidebar": "Contents",
   "toc_cell": false,
   "toc_position": {
    "height": "calc(100% - 180px)",
    "left": "10px",
    "top": "150px",
    "width": "303.825px"
   },
   "toc_section_display": true,
   "toc_window_display": true
  }
 },
 "nbformat": 4,
 "nbformat_minor": 5
}
