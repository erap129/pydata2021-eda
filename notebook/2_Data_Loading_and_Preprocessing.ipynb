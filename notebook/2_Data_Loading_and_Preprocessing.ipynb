{
 "cells": [
  {
   "cell_type": "markdown",
   "id": "35b9c1ca",
   "metadata": {},
   "source": [
    "# Import"
   ]
  },
  {
   "cell_type": "code",
   "execution_count": null,
   "id": "12b45f30",
   "metadata": {
    "ExecuteTime": {
     "end_time": "2021-10-11T08:25:54.263603Z",
     "start_time": "2021-10-11T08:25:47.503517Z"
    }
   },
   "outputs": [],
   "source": [
    "import numpy as np\n",
    "import pandas as pd"
   ]
  },
  {
   "cell_type": "markdown",
   "id": "a6fbe4d7",
   "metadata": {},
   "source": [
    "# [Adult Data Set](https://archive.ics.uci.edu/ml/datasets/Adult)\n",
    "\n",
    "Predict whether income exceeds $50K/yr based on census data.\n",
    "Also known as \"Census Income\" dataset.\n",
    "\n",
    "**Attributes**\n",
    "\n",
    "- age\n",
    "- workclass\n",
    "  - Represents the employment status of an individual\n",
    "- fnlwgt\n",
    "  - Final weight which is the number of people the census believes the entry represents\n",
    "  - People with similar demographic characteristics should have similar weights\n",
    "    - This only applies within state.\n",
    "- education\n",
    "  - The highest level of education achieved by an individual\n",
    "- education-num\n",
    "  - The highest level of education achieved in numerical form\n",
    "- marital-status\n",
    "- relationship\n",
    "  - Represents what this individual is relative to others\n",
    "- race\n",
    "- sex\n",
    "- capital-gain\n",
    "- capital-loss\n",
    "- hours-per-week\n",
    "  - The hours an individual has reported to work per week\n",
    "- native-country"
   ]
  },
  {
   "cell_type": "markdown",
   "id": "f5e227f2",
   "metadata": {},
   "source": [
    "# Data Load"
   ]
  },
  {
   "cell_type": "markdown",
   "id": "e11eb5db",
   "metadata": {},
   "source": [
    "## Data Files"
   ]
  },
  {
   "cell_type": "markdown",
   "id": "29817d4c",
   "metadata": {},
   "source": [
    "I have cut the [original data](https://archive.ics.uci.edu/ml/machine-learning-databases/adult/adult.data)\n",
    "into 4 seprate files.\n",
    "\n",
    "https://github.com/sesise0307/pydata2021-eda/tree/main/data\n",
    "\n",
    "<img src=\"../image/data_list.png\" alt=\"Data List\" width=\"300\"/>"
   ]
  },
  {
   "cell_type": "markdown",
   "id": "2fe08a01",
   "metadata": {},
   "source": [
    "## Loading a file"
   ]
  },
  {
   "cell_type": "code",
   "execution_count": null,
   "id": "59c4e7db",
   "metadata": {
    "ExecuteTime": {
     "end_time": "2021-10-11T15:06:07.742452Z",
     "start_time": "2021-10-11T15:06:07.686007Z"
    }
   },
   "outputs": [],
   "source": [
    "df_0 = pd.read_csv(\n",
    "    '../data/adult-0.data',\n",
    "#     'https://raw.githubusercontent.com/sesise0307/pydata2021-eda/main/data/adult-0.data',\n",
    ")\n",
    "\n",
    "df_0.shape"
   ]
  },
  {
   "cell_type": "code",
   "execution_count": null,
   "id": "35d86afa",
   "metadata": {
    "ExecuteTime": {
     "end_time": "2021-10-11T15:06:10.274120Z",
     "start_time": "2021-10-11T15:06:10.256752Z"
    }
   },
   "outputs": [],
   "source": [
    "df_0.head()"
   ]
  },
  {
   "cell_type": "code",
   "execution_count": null,
   "id": "1edc2c5a",
   "metadata": {
    "ExecuteTime": {
     "end_time": "2021-10-11T15:06:13.559118Z",
     "start_time": "2021-10-11T15:06:13.554811Z"
    }
   },
   "outputs": [],
   "source": [
    "names = [\n",
    "    'age',\n",
    "    'workclass',\n",
    "    'fnlwgt',\n",
    "    'education',\n",
    "    'education-num',\n",
    "    'marital-status',\n",
    "    'occupation',\n",
    "    'relationship',\n",
    "    'race',\n",
    "    'sex',\n",
    "    'capital-gain',\n",
    "    'capital-loss',\n",
    "    'hours-per-week',\n",
    "    'native-country',\n",
    "    'income',\n",
    "]"
   ]
  },
  {
   "cell_type": "code",
   "execution_count": null,
   "id": "4fbf0d3c",
   "metadata": {
    "ExecuteTime": {
     "end_time": "2021-10-11T08:25:54.386985Z",
     "start_time": "2021-10-11T08:25:54.363816Z"
    }
   },
   "outputs": [],
   "source": [
    "df_0 = pd.read_csv(\n",
    "    '../data/adult-0.data',\n",
    "#     'https://raw.githubusercontent.com/sesise0307/pydata2021-eda/main/data/adult-0.data',\n",
    "    names=names,\n",
    "    skipinitialspace=True,  # Skip spaces after delimiter\n",
    ")\n",
    "\n",
    "df_0.shape"
   ]
  },
  {
   "cell_type": "code",
   "execution_count": null,
   "id": "5313574c",
   "metadata": {
    "ExecuteTime": {
     "end_time": "2021-10-11T08:25:54.396996Z",
     "start_time": "2021-10-11T08:25:54.387981Z"
    }
   },
   "outputs": [],
   "source": [
    "df_0.head()"
   ]
  },
  {
   "cell_type": "markdown",
   "id": "e401c6d7",
   "metadata": {},
   "source": [
    "## Merging many files\n",
    "\n",
    "TODO: Quiz?"
   ]
  },
  {
   "cell_type": "code",
   "execution_count": null,
   "id": "ce15ad14",
   "metadata": {
    "ExecuteTime": {
     "end_time": "2021-10-11T08:25:54.537589Z",
     "start_time": "2021-10-11T08:25:54.398037Z"
    }
   },
   "outputs": [],
   "source": [
    "df_list = list()\n",
    "\n",
    "for i in range(4):\n",
    "    df_list.append(\n",
    "        pd.read_csv(\n",
    "            f'../data/adult-{i}.data',\n",
    "#             f'https://raw.githubusercontent.com/sesise0307/pydata2021-eda/main/data/adult-{i}.data',\n",
    "            names=names,\n",
    "            skipinitialspace=True,\n",
    "        )\n",
    "    )\n",
    "\n",
    "df = pd.concat(df_list, ignore_index=True)"
   ]
  },
  {
   "cell_type": "code",
   "execution_count": null,
   "id": "96f192fb",
   "metadata": {
    "ExecuteTime": {
     "end_time": "2021-10-11T08:25:54.542125Z",
     "start_time": "2021-10-11T08:25:54.538894Z"
    }
   },
   "outputs": [],
   "source": [
    "df.shape"
   ]
  },
  {
   "cell_type": "code",
   "execution_count": null,
   "id": "acae2436",
   "metadata": {
    "ExecuteTime": {
     "end_time": "2021-10-11T08:25:54.559851Z",
     "start_time": "2021-10-11T08:25:54.543449Z"
    }
   },
   "outputs": [],
   "source": [
    "df.head(10)"
   ]
  },
  {
   "cell_type": "markdown",
   "id": "36aea336",
   "metadata": {},
   "source": [
    "# Essential Check & Preprocessing"
   ]
  },
  {
   "cell_type": "markdown",
   "id": "61e3d706",
   "metadata": {},
   "source": [
    "## info() and describe()"
   ]
  },
  {
   "cell_type": "code",
   "execution_count": null,
   "id": "8d905113",
   "metadata": {
    "ExecuteTime": {
     "end_time": "2021-10-11T08:25:54.586337Z",
     "start_time": "2021-10-11T08:25:54.560886Z"
    }
   },
   "outputs": [],
   "source": [
    "df.info()"
   ]
  },
  {
   "cell_type": "code",
   "execution_count": null,
   "id": "fc18fcbc",
   "metadata": {
    "ExecuteTime": {
     "end_time": "2021-10-11T08:25:54.614445Z",
     "start_time": "2021-10-11T08:25:54.587395Z"
    }
   },
   "outputs": [],
   "source": [
    "df.describe()"
   ]
  },
  {
   "cell_type": "code",
   "execution_count": null,
   "id": "266287cd",
   "metadata": {
    "ExecuteTime": {
     "end_time": "2021-10-11T08:25:54.656121Z",
     "start_time": "2021-10-11T08:25:54.615549Z"
    }
   },
   "outputs": [],
   "source": [
    "df.describe(exclude=np.number)"
   ]
  },
  {
   "cell_type": "code",
   "execution_count": null,
   "id": "33baec2c",
   "metadata": {},
   "outputs": [],
   "source": []
  },
  {
   "cell_type": "markdown",
   "id": "0bf0353c",
   "metadata": {},
   "source": [
    "## Unique Values"
   ]
  },
  {
   "cell_type": "code",
   "execution_count": null,
   "id": "d74eb39d",
   "metadata": {
    "ExecuteTime": {
     "end_time": "2021-10-11T08:25:54.709093Z",
     "start_time": "2021-10-11T08:25:54.657110Z"
    }
   },
   "outputs": [],
   "source": [
    "for column in df.columns:\n",
    "    n_unique = df[column].nunique()\n",
    "    \n",
    "    if df[column].nunique() < 50:\n",
    "        print(f'{column} ({n_unique}): {df[column].unique()}')\n",
    "    else:\n",
    "        print(f'{column} ({n_unique})')"
   ]
  },
  {
   "cell_type": "markdown",
   "id": "3a338eef",
   "metadata": {},
   "source": [
    "## NaN Values"
   ]
  },
  {
   "cell_type": "code",
   "execution_count": null,
   "id": "f7de11df",
   "metadata": {
    "ExecuteTime": {
     "end_time": "2021-10-11T08:26:02.268874Z",
     "start_time": "2021-10-11T08:25:54.711179Z"
    }
   },
   "outputs": [],
   "source": [
    "import missingno as msno\n",
    "\n",
    "msno.matrix(df);"
   ]
  },
  {
   "cell_type": "code",
   "execution_count": null,
   "id": "f2f9c036",
   "metadata": {
    "ExecuteTime": {
     "end_time": "2021-10-11T08:26:02.861552Z",
     "start_time": "2021-10-11T08:26:02.271199Z"
    }
   },
   "outputs": [],
   "source": [
    "msno.bar(df);"
   ]
  },
  {
   "cell_type": "code",
   "execution_count": null,
   "id": "a3e94c65",
   "metadata": {
    "ExecuteTime": {
     "end_time": "2021-10-11T08:26:02.877739Z",
     "start_time": "2021-10-11T08:26:02.862794Z"
    }
   },
   "outputs": [],
   "source": [
    "# Replace '?' to NaN\n",
    "df = df.replace('?', np.nan)\n",
    "df.head()"
   ]
  },
  {
   "cell_type": "code",
   "execution_count": null,
   "id": "6e1f34a5",
   "metadata": {
    "ExecuteTime": {
     "end_time": "2021-10-11T08:26:03.226188Z",
     "start_time": "2021-10-11T08:26:02.878837Z"
    }
   },
   "outputs": [],
   "source": [
    "msno.matrix(df);"
   ]
  },
  {
   "cell_type": "code",
   "execution_count": null,
   "id": "cc8af197",
   "metadata": {
    "ExecuteTime": {
     "end_time": "2021-10-11T08:26:03.718160Z",
     "start_time": "2021-10-11T08:26:03.227357Z"
    }
   },
   "outputs": [],
   "source": [
    "msno.bar(df);"
   ]
  },
  {
   "cell_type": "code",
   "execution_count": null,
   "id": "bb851ef9",
   "metadata": {
    "ExecuteTime": {
     "end_time": "2021-10-11T08:26:03.736187Z",
     "start_time": "2021-10-11T08:26:03.719307Z"
    }
   },
   "outputs": [],
   "source": [
    "# Manual computation of NaN ratio\n",
    "(df.isna().sum() / df.shape[0]).sort_values(ascending=False)"
   ]
  },
  {
   "cell_type": "markdown",
   "id": "12ebf0aa",
   "metadata": {},
   "source": [
    "How to handle missing data\n",
    "\n",
    "Drop or fill\n",
    "- How to fill\n",
    "\n",
    "Row vs column"
   ]
  },
  {
   "cell_type": "markdown",
   "id": "8a04438b",
   "metadata": {},
   "source": [
    "# (Primitive) Feature Engineering"
   ]
  },
  {
   "cell_type": "markdown",
   "id": "d6b81643",
   "metadata": {},
   "source": [
    "## Age Grouping"
   ]
  },
  {
   "cell_type": "code",
   "execution_count": null,
   "id": "0421721e",
   "metadata": {
    "ExecuteTime": {
     "end_time": "2021-10-11T08:26:03.744847Z",
     "start_time": "2021-10-11T08:26:03.737313Z"
    }
   },
   "outputs": [],
   "source": [
    "df['age_group'] = pd.cut(\n",
    "    df['age'],\n",
    "    bins=range(10, 101, 10),\n",
    "    right=False,\n",
    "    labels=[f'{age_start}~{age_start + 9}' for age_start in range(10, 100, 10)]\n",
    ")"
   ]
  },
  {
   "cell_type": "code",
   "execution_count": null,
   "id": "32570ba3",
   "metadata": {
    "ExecuteTime": {
     "end_time": "2021-10-11T08:26:03.756081Z",
     "start_time": "2021-10-11T08:26:03.746007Z"
    }
   },
   "outputs": [],
   "source": [
    "df['age_group'].cat.categories"
   ]
  },
  {
   "cell_type": "code",
   "execution_count": null,
   "id": "29cdcc51",
   "metadata": {
    "ExecuteTime": {
     "end_time": "2021-10-11T08:26:03.775600Z",
     "start_time": "2021-10-11T08:26:03.757487Z"
    }
   },
   "outputs": [],
   "source": [
    "df[['age', 'age_group']].sample(10)"
   ]
  },
  {
   "cell_type": "markdown",
   "id": "38c12228",
   "metadata": {},
   "source": [
    "## Cateogry and Category Ordering"
   ]
  },
  {
   "cell_type": "code",
   "execution_count": null,
   "id": "f8da45a3",
   "metadata": {
    "ExecuteTime": {
     "end_time": "2021-10-11T08:26:03.787292Z",
     "start_time": "2021-10-11T08:26:03.776702Z"
    }
   },
   "outputs": [],
   "source": [
    "(\n",
    "    df\n",
    "    .groupby('education')['education-num']\n",
    "    .unique()\n",
    "    .sort_values()\n",
    ")"
   ]
  },
  {
   "cell_type": "code",
   "execution_count": null,
   "id": "4252d6bf",
   "metadata": {
    "ExecuteTime": {
     "end_time": "2021-10-11T08:26:03.798364Z",
     "start_time": "2021-10-11T08:26:03.788368Z"
    }
   },
   "outputs": [],
   "source": [
    "education_order = (\n",
    "    df\n",
    "    .groupby('education')['education-num']\n",
    "    .unique()\n",
    "    .sort_values()\n",
    "    .index\n",
    ")"
   ]
  },
  {
   "cell_type": "code",
   "execution_count": null,
   "id": "92e752bf",
   "metadata": {
    "ExecuteTime": {
     "end_time": "2021-10-11T08:26:03.810314Z",
     "start_time": "2021-10-11T08:26:03.799526Z"
    }
   },
   "outputs": [],
   "source": [
    "df['education'] = df['education'].astype(\n",
    "    pd.CategoricalDtype(categories=education_order,\n",
    "                        ordered=True)\n",
    ")"
   ]
  },
  {
   "cell_type": "code",
   "execution_count": null,
   "id": "a4681315",
   "metadata": {
    "ExecuteTime": {
     "end_time": "2021-10-11T08:26:03.821974Z",
     "start_time": "2021-10-11T08:26:03.811255Z"
    }
   },
   "outputs": [],
   "source": [
    "df['education'].head()"
   ]
  },
  {
   "cell_type": "code",
   "execution_count": null,
   "id": "e65d2d06",
   "metadata": {
    "ExecuteTime": {
     "end_time": "2021-10-11T08:26:03.833808Z",
     "start_time": "2021-10-11T08:26:03.823015Z"
    }
   },
   "outputs": [],
   "source": [
    "df['education-num'] = df['education-num'].astype(\n",
    "    pd.CategoricalDtype(ordered=True)\n",
    ")"
   ]
  },
  {
   "cell_type": "code",
   "execution_count": null,
   "id": "a85f29f2",
   "metadata": {
    "ExecuteTime": {
     "end_time": "2021-10-11T08:26:03.847860Z",
     "start_time": "2021-10-11T08:26:03.835358Z"
    }
   },
   "outputs": [],
   "source": [
    "df['education-num'].head()"
   ]
  },
  {
   "cell_type": "markdown",
   "id": "e676a637",
   "metadata": {},
   "source": [
    "## Captial gain and loss"
   ]
  },
  {
   "cell_type": "code",
   "execution_count": null,
   "id": "e5fb15d4",
   "metadata": {
    "ExecuteTime": {
     "end_time": "2021-10-11T08:26:03.866445Z",
     "start_time": "2021-10-11T08:26:03.849983Z"
    }
   },
   "outputs": [],
   "source": [
    "(  # Check if capital-gain and capital-loss appear at the same time\n",
    "    df[['capital-gain', 'capital-loss']]\n",
    "#     .astype(bool)\n",
    "#     .sum(axis='columns')\n",
    "#     .max()\n",
    ")"
   ]
  },
  {
   "cell_type": "code",
   "execution_count": null,
   "id": "d9ff5a14",
   "metadata": {
    "ExecuteTime": {
     "end_time": "2021-10-11T08:26:03.881748Z",
     "start_time": "2021-10-11T08:26:03.867862Z"
    }
   },
   "outputs": [],
   "source": [
    "df['capital-gain-loss'] = df['capital-gain'] - df['capital-loss']\n",
    "\n",
    "df['capital-gain-loss'].sample(10)"
   ]
  },
  {
   "cell_type": "markdown",
   "id": "407398b0",
   "metadata": {},
   "source": [
    "TODO: Add some links for more feature engineerings"
   ]
  },
  {
   "cell_type": "code",
   "execution_count": null,
   "id": "c24127fb",
   "metadata": {},
   "outputs": [],
   "source": []
  },
  {
   "cell_type": "markdown",
   "id": "8d2f161b",
   "metadata": {},
   "source": [
    "# Save"
   ]
  },
  {
   "cell_type": "markdown",
   "id": "6a52ff13",
   "metadata": {},
   "source": [
    "pandas supports various files types for both reading and saving your DataFrame.\n",
    "\n",
    "![Pandas I/O](../image/pandas_io.png)\n",
    "\n",
    "Source: https://pandas.pydata.org/pandas-docs/stable/user_guide/io.html\n",
    "\n",
    "[The Best Format to Save Pandas Data](https://towardsdatascience.com/the-best-format-to-save-pandas-data-414dca023e0d)\n",
    "\n",
    "\"It seems that feather format is an ideal candidate to store the data between Jupyter sessions. It shows high I/O speed, doesn’t take too much memory on the disk and doesn’t need any unpacking when loaded back into RAM.\""
   ]
  },
  {
   "cell_type": "code",
   "execution_count": null,
   "id": "28244b1e",
   "metadata": {
    "ExecuteTime": {
     "end_time": "2021-10-11T14:56:25.010754Z",
     "start_time": "2021-10-11T14:56:24.960335Z"
    }
   },
   "outputs": [],
   "source": [
    "df.to_feather('../data/preprocessed/adult.feather')"
   ]
  },
  {
   "cell_type": "code",
   "execution_count": null,
   "id": "95ccfc76",
   "metadata": {
    "ExecuteTime": {
     "end_time": "2021-10-11T14:56:25.108540Z",
     "start_time": "2021-10-11T14:56:25.066135Z"
    }
   },
   "outputs": [],
   "source": [
    "df_feather = pd.read_feather('../data/preprocessed/adult.feather')\n",
    "df_feather.head()"
   ]
  },
  {
   "cell_type": "code",
   "execution_count": null,
   "id": "93294f01",
   "metadata": {
    "ExecuteTime": {
     "end_time": "2021-10-11T14:56:25.717023Z",
     "start_time": "2021-10-11T14:56:25.689981Z"
    }
   },
   "outputs": [],
   "source": [
    "df_feather.info()"
   ]
  },
  {
   "cell_type": "code",
   "execution_count": null,
   "id": "2fab4c17",
   "metadata": {},
   "outputs": [],
   "source": []
  },
  {
   "cell_type": "code",
   "execution_count": null,
   "id": "7de1790d",
   "metadata": {},
   "outputs": [],
   "source": []
  }
 ],
 "metadata": {
  "hide_input": false,
  "kernelspec": {
   "display_name": "Python [conda env:pydata]",
   "language": "python",
   "name": "conda-env-pydata-py"
  },
  "language_info": {
   "codemirror_mode": {
    "name": "ipython",
    "version": 3
   },
   "file_extension": ".py",
   "mimetype": "text/x-python",
   "name": "python",
   "nbconvert_exporter": "python",
   "pygments_lexer": "ipython3",
   "version": "3.8.12"
  },
  "toc": {
   "base_numbering": 1,
   "nav_menu": {},
   "number_sections": true,
   "sideBar": true,
   "skip_h1_title": false,
   "title_cell": "Table of Contents",
   "title_sidebar": "Contents",
   "toc_cell": false,
   "toc_position": {
    "height": "calc(100% - 180px)",
    "left": "10px",
    "top": "150px",
    "width": "303.825px"
   },
   "toc_section_display": true,
   "toc_window_display": true
  }
 },
 "nbformat": 4,
 "nbformat_minor": 5
}
