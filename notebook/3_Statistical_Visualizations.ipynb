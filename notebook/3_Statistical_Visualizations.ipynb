{
 "cells": [
  {
   "cell_type": "markdown",
   "id": "455f5b52",
   "metadata": {},
   "source": [
    "# Data Loading"
   ]
  },
  {
   "cell_type": "code",
   "execution_count": null,
   "id": "381a420e",
   "metadata": {
    "ExecuteTime": {
     "end_time": "2021-10-27T11:54:38.936612Z",
     "start_time": "2021-10-27T11:54:34.445710Z"
    }
   },
   "outputs": [],
   "source": [
    "import numpy as np\n",
    "import pandas as pd"
   ]
  },
  {
   "cell_type": "code",
   "execution_count": null,
   "id": "cdb016f0",
   "metadata": {
    "ExecuteTime": {
     "end_time": "2021-10-27T11:54:39.083689Z",
     "start_time": "2021-10-27T11:54:38.940076Z"
    }
   },
   "outputs": [],
   "source": [
    "try:\n",
    "    import google.colab\n",
    "    data_file = 'https://raw.githubusercontent.com/sesise0307/pydata2021-eda/main/data/preprocessed/adult.feather'\n",
    "except:\n",
    "    data_file = '../data/preprocessed/adult.feather'\n",
    "\n",
    "df = pd.read_feather(data_file)"
   ]
  },
  {
   "cell_type": "code",
   "execution_count": null,
   "id": "c3377bcb",
   "metadata": {
    "ExecuteTime": {
     "end_time": "2021-10-27T11:54:39.139005Z",
     "start_time": "2021-10-27T11:54:39.086424Z"
    }
   },
   "outputs": [],
   "source": [
    "df.head()"
   ]
  },
  {
   "cell_type": "markdown",
   "id": "a5757b4f",
   "metadata": {},
   "source": [
    "# Matplotlib"
   ]
  },
  {
   "cell_type": "markdown",
   "id": "71a2649e",
   "metadata": {},
   "source": [
    "![Matplotlib](../image/matplotlib.svg)"
   ]
  },
  {
   "cell_type": "markdown",
   "id": "ffce4e69",
   "metadata": {},
   "source": [
    "- [GitHub](https://github.com/matplotlib/matplotlib)\n",
    "- [Documentation](https://matplotlib.org/stable/contents.html)\n",
    "\n",
    "Matplotlib is a comprehensive library for creating static, animated, and interactive visualizations in Python.\n",
    "\n",
    "It is a basic building block of other advanced Python visualization libraries such as `seaborn` or `pandas`.\n",
    "\n",
    "So, it is essential to know `matplotlib` if you're using Python for data analysis.\n",
    "\n",
    "In this tutorial, I assume that you already have some experiences with `matplotlib`."
   ]
  },
  {
   "cell_type": "code",
   "execution_count": null,
   "id": "bb31c2cb",
   "metadata": {
    "ExecuteTime": {
     "end_time": "2021-10-27T11:54:40.871809Z",
     "start_time": "2021-10-27T11:54:39.141977Z"
    }
   },
   "outputs": [],
   "source": [
    "import matplotlib.pyplot as plt"
   ]
  },
  {
   "cell_type": "code",
   "execution_count": null,
   "id": "90c0c02f",
   "metadata": {
    "ExecuteTime": {
     "end_time": "2021-10-27T11:54:40.877660Z",
     "start_time": "2021-10-27T11:54:40.873969Z"
    }
   },
   "outputs": [],
   "source": [
    "plt.rcParams['figure.figsize'] = 10, 5  # Set default figure size"
   ]
  },
  {
   "cell_type": "code",
   "execution_count": null,
   "id": "037e05bb",
   "metadata": {
    "ExecuteTime": {
     "end_time": "2021-10-27T11:54:40.946613Z",
     "start_time": "2021-10-27T11:54:40.879490Z"
    }
   },
   "outputs": [],
   "source": [
    "plt.rcParams"
   ]
  },
  {
   "cell_type": "markdown",
   "id": "8dda16f6",
   "metadata": {},
   "source": [
    "## Scatter Plot"
   ]
  },
  {
   "cell_type": "code",
   "execution_count": null,
   "id": "ff9a85c6",
   "metadata": {
    "ExecuteTime": {
     "end_time": "2021-10-27T11:54:41.186940Z",
     "start_time": "2021-10-27T11:54:40.947856Z"
    }
   },
   "outputs": [],
   "source": [
    "plt.scatter(x=df['hours_per_week'], y=df['fake_income'])"
   ]
  },
  {
   "cell_type": "code",
   "execution_count": null,
   "id": "04a70803",
   "metadata": {
    "ExecuteTime": {
     "end_time": "2021-10-27T11:54:41.314794Z",
     "start_time": "2021-10-27T11:54:41.188260Z"
    }
   },
   "outputs": [],
   "source": [
    "# Let's add x and y lables with units\n",
    "plt.scatter(x=df['hours_per_week'], y=df['fake_income'])\n",
    "\n",
    "plt.xlabel('Hours per Week [h]')\n",
    "plt.ylabel('Fake Income [dollar]');"
   ]
  },
  {
   "cell_type": "code",
   "execution_count": null,
   "id": "d07204b9",
   "metadata": {
    "ExecuteTime": {
     "end_time": "2021-10-27T11:54:41.700168Z",
     "start_time": "2021-10-27T11:54:41.316124Z"
    }
   },
   "outputs": [],
   "source": [
    "# Let's adjust point size and add color with \"age\"\n",
    "# Available colormaps can be found here: https://matplotlib.org/stable/tutorials/colors/colormaps.html\n",
    "\n",
    "plt.scatter(x=df['hours_per_week'], y=df['fake_income'],\n",
    "            c=df['age'], cmap='winter', s=5)\n",
    "\n",
    "plt.xlabel('Hours per Week [h]')\n",
    "plt.ylabel('Fake Income [dollar]');"
   ]
  },
  {
   "cell_type": "code",
   "execution_count": null,
   "id": "bbe2a22a",
   "metadata": {
    "ExecuteTime": {
     "end_time": "2021-10-27T11:54:42.116920Z",
     "start_time": "2021-10-27T11:54:41.703085Z"
    }
   },
   "outputs": [],
   "source": [
    "# Let's add a color bar\n",
    "plt.scatter(x=df['hours_per_week'], y=df['fake_income'],\n",
    "            c=df['age'], cmap='winter', s=5)\n",
    "\n",
    "plt.xlabel('Hours per Week [h]')\n",
    "plt.ylabel('Fake Income [dollar]')\n",
    "\n",
    "plt.colorbar();"
   ]
  },
  {
   "cell_type": "code",
   "execution_count": null,
   "id": "777fee69",
   "metadata": {
    "ExecuteTime": {
     "end_time": "2021-10-27T11:54:42.537463Z",
     "start_time": "2021-10-27T11:54:42.118039Z"
    }
   },
   "outputs": [],
   "source": [
    "# Let's add a line indicating median \"fake_income\"\n",
    "plt.scatter(x=df['hours_per_week'], y=df['fake_income'],\n",
    "            c=df['age'], cmap='winter', s=5)\n",
    "\n",
    "plt.xlabel('Hours per Week [h]')\n",
    "plt.ylabel('Fake Income [dollar]')\n",
    "\n",
    "plt.colorbar()\n",
    "\n",
    "median_fake_income = df['fake_income'].median()\n",
    "plt.axhline(y=median_fake_income, color='r', ls='--');"
   ]
  },
  {
   "cell_type": "code",
   "execution_count": null,
   "id": "ebf26afb",
   "metadata": {
    "ExecuteTime": {
     "end_time": "2021-10-27T11:54:43.061050Z",
     "start_time": "2021-10-27T11:54:42.538561Z"
    }
   },
   "outputs": [],
   "source": [
    "# Let's add a label for the median \"fake_income\"\n",
    "plt.scatter(x=df['hours_per_week'], y=df['fake_income'],\n",
    "            c=df['age'], cmap='winter', s=5)\n",
    "\n",
    "plt.xlabel('Hours per Week [h]')\n",
    "plt.ylabel('Fake Income [dollar]')\n",
    "\n",
    "plt.colorbar()\n",
    "\n",
    "median_fake_income = df['fake_income'].median()\n",
    "plt.axhline(y=median_fake_income, color='r', ls='--',\n",
    "            label=f'Median Fake Income: ${median_fake_income:,.0f}')\n",
    "plt.legend();"
   ]
  },
  {
   "cell_type": "code",
   "execution_count": null,
   "id": "757c0c7a",
   "metadata": {
    "ExecuteTime": {
     "end_time": "2021-10-27T11:54:43.071572Z",
     "start_time": "2021-10-27T11:54:43.062303Z"
    }
   },
   "outputs": [],
   "source": [
    "# How about average income by \"hours_per_week\" bins?\n",
    "hpw_bins = np.arange(0, 101, 5)\n",
    "hpw_labels = hpw_bins[:-1] + 2.5\n",
    "df['hpw_cut'] = pd.cut(df['hours_per_week'], bins=hpw_bins, labels=hpw_labels)\n",
    "\n",
    "df[['hours_per_week', 'hpw_cut']].head()"
   ]
  },
  {
   "cell_type": "code",
   "execution_count": null,
   "id": "00a7ef21",
   "metadata": {
    "ExecuteTime": {
     "end_time": "2021-10-27T11:54:43.085225Z",
     "start_time": "2021-10-27T11:54:43.072585Z"
    }
   },
   "outputs": [],
   "source": [
    "average_income_by_hours_per_week = (\n",
    "    df\n",
    "    .groupby('hpw_cut')['fake_income']\n",
    "    .mean()\n",
    ")\n",
    "\n",
    "average_income_by_hours_per_week.head()"
   ]
  },
  {
   "cell_type": "code",
   "execution_count": null,
   "id": "5580c8a5",
   "metadata": {
    "ExecuteTime": {
     "end_time": "2021-10-27T11:54:43.186821Z",
     "start_time": "2021-10-27T11:54:43.086406Z"
    }
   },
   "outputs": [],
   "source": [
    "plt.plot(\n",
    "    average_income_by_hours_per_week.index,\n",
    "    average_income_by_hours_per_week,\n",
    "    marker='x'\n",
    ")"
   ]
  },
  {
   "cell_type": "code",
   "execution_count": null,
   "id": "64d4da3c",
   "metadata": {
    "ExecuteTime": {
     "end_time": "2021-10-27T11:54:44.298484Z",
     "start_time": "2021-10-27T11:54:43.187802Z"
    }
   },
   "outputs": [],
   "source": [
    "# Let's plot the two figures altogether\n",
    "plt.scatter(x=df['hours_per_week'], y=df['fake_income'],\n",
    "            c=df['age'], cmap='winter', s=5)\n",
    "\n",
    "plt.xlabel('Hours per Week [h]')\n",
    "plt.ylabel('Fake Income [dollar]')\n",
    "\n",
    "plt.colorbar()\n",
    "\n",
    "median_fake_income = df['fake_income'].median()\n",
    "plt.axhline(y=median_fake_income, color='r', ls='--',\n",
    "            label=f'Median fake income: ${median_fake_income:,.0f}')\n",
    "\n",
    "plt.plot(\n",
    "    average_income_by_hours_per_week.index,\n",
    "    average_income_by_hours_per_week,\n",
    "    marker='X',\n",
    "    color='orange',\n",
    "    lw=2,\n",
    "    label='Avg. Fake Income by Hours per Week Bins',\n",
    ")\n",
    "\n",
    "plt.legend();"
   ]
  },
  {
   "cell_type": "markdown",
   "id": "20fde040",
   "metadata": {},
   "source": [
    "## Histogram"
   ]
  },
  {
   "cell_type": "code",
   "execution_count": null,
   "id": "8b77e6f5",
   "metadata": {
    "ExecuteTime": {
     "end_time": "2021-10-27T11:54:44.403022Z",
     "start_time": "2021-10-27T11:54:44.300561Z"
    }
   },
   "outputs": [],
   "source": [
    "plt.hist(df['fake_income'])"
   ]
  },
  {
   "cell_type": "code",
   "execution_count": null,
   "id": "591be8cd",
   "metadata": {
    "ExecuteTime": {
     "end_time": "2021-10-27T11:54:44.443810Z",
     "start_time": "2021-10-27T11:54:44.404150Z"
    }
   },
   "outputs": [],
   "source": [
    "?plt.hist"
   ]
  },
  {
   "cell_type": "code",
   "execution_count": null,
   "id": "dcb699a4",
   "metadata": {
    "ExecuteTime": {
     "end_time": "2021-10-27T11:54:48.808326Z",
     "start_time": "2021-10-27T11:54:44.444932Z"
    }
   },
   "outputs": [],
   "source": [
    "# Attention! Histogram is heavily affected by selection of bins\n",
    "plt.figure(figsize=(20, 5))\n",
    "\n",
    "plt.subplot(131)\n",
    "plt.title('Default bins')\n",
    "plt.hist(df['fake_income'])\n",
    "\n",
    "plt.subplot(132)\n",
    "plt.title('With bin size 5,000')\n",
    "plt.hist(df['fake_income'], bins=np.arange(0, 400000, 5000))\n",
    "\n",
    "plt.subplot(133)\n",
    "plt.title('With bin size 100')\n",
    "plt.hist(df['fake_income'], bins=np.arange(0, 400000, 100));"
   ]
  },
  {
   "cell_type": "code",
   "execution_count": null,
   "id": "301075df",
   "metadata": {
    "ExecuteTime": {
     "end_time": "2021-10-27T11:54:48.952713Z",
     "start_time": "2021-10-27T11:54:48.810359Z"
    }
   },
   "outputs": [],
   "source": [
    "# Hours per Week by Income Level\n",
    "plt.hist(df.query('income == \"<=50K\"')['hours_per_week'],\n",
    "         bins=hpw_bins, label='Income <= 50K', density=True, alpha=0.7)\n",
    "plt.hist(df.query('income == \">50K\"')['hours_per_week'],\n",
    "         bins=hpw_bins, label='Income > 50K', density=True, alpha=0.7)\n",
    "\n",
    "plt.legend();"
   ]
  },
  {
   "cell_type": "code",
   "execution_count": null,
   "id": "c7a8357a",
   "metadata": {
    "ExecuteTime": {
     "end_time": "2021-10-27T11:54:49.334889Z",
     "start_time": "2021-10-27T11:54:48.954289Z"
    }
   },
   "outputs": [],
   "source": [
    "# It's difficult to compare more than two categories with a histogram\n",
    "for race in df['race'].unique():\n",
    "    plt.hist(df.query('race == @race')['hours_per_week'],\n",
    "             bins=hpw_bins, label=f'{race}', density=True, alpha=0.7)\n",
    "\n",
    "plt.legend();"
   ]
  },
  {
   "cell_type": "markdown",
   "id": "897a1063",
   "metadata": {},
   "source": [
    "Solution?\n",
    "- KDE (Kernel Density Estimation)\n",
    "- ECDF (Emperical Cumulative Density Function)\n",
    "\n",
    "Will be tackled with `seaborn` below."
   ]
  },
  {
   "cell_type": "markdown",
   "id": "da36459c",
   "metadata": {},
   "source": [
    "## Boxplot"
   ]
  },
  {
   "cell_type": "code",
   "execution_count": null,
   "id": "6126b311",
   "metadata": {
    "ExecuteTime": {
     "end_time": "2021-10-27T11:54:49.402174Z",
     "start_time": "2021-10-27T11:54:49.336368Z"
    }
   },
   "outputs": [],
   "source": [
    "plt.boxplot(df['fake_income']);"
   ]
  },
  {
   "cell_type": "code",
   "execution_count": null,
   "id": "4ef678f2",
   "metadata": {
    "ExecuteTime": {
     "end_time": "2021-10-27T11:54:49.470902Z",
     "start_time": "2021-10-27T11:54:49.403341Z"
    }
   },
   "outputs": [],
   "source": [
    "plt.boxplot(df['age']);"
   ]
  },
  {
   "cell_type": "markdown",
   "id": "41a073db",
   "metadata": {},
   "source": [
    "What if we want to plot multiple boxplots of \"fake_income\" by \"age_group\"?\n",
    "\n",
    "Matplotlib requires some prior processings of the data for that."
   ]
  },
  {
   "cell_type": "code",
   "execution_count": null,
   "id": "2765c55f",
   "metadata": {
    "ExecuteTime": {
     "end_time": "2021-10-27T11:54:49.500435Z",
     "start_time": "2021-10-27T11:54:49.472262Z"
    },
    "run_control": {
     "marked": false
    }
   },
   "outputs": [],
   "source": [
    "age_groups = sorted(df['age_group'].unique())\n",
    "\n",
    "fake_incomes_by_age_group = [\n",
    "    df.query('age_group == @age_group')['fake_income']\n",
    "    for age_group in age_groups\n",
    "]\n",
    "\n",
    "fake_incomes_by_age_group"
   ]
  },
  {
   "cell_type": "code",
   "execution_count": null,
   "id": "18bf440d",
   "metadata": {
    "ExecuteTime": {
     "end_time": "2021-10-27T11:54:49.629848Z",
     "start_time": "2021-10-27T11:54:49.501558Z"
    }
   },
   "outputs": [],
   "source": [
    "plt.boxplot(fake_incomes_by_age_group, labels=age_groups);"
   ]
  },
  {
   "cell_type": "markdown",
   "id": "73256843",
   "metadata": {},
   "source": [
    "Do we have a easier way than this?\n",
    "\n",
    "Yes! With `pandas` and `seaborn`. \n",
    "\n",
    "Will be introduced below."
   ]
  },
  {
   "cell_type": "markdown",
   "id": "c72679bb",
   "metadata": {},
   "source": [
    "# Pandas"
   ]
  },
  {
   "cell_type": "markdown",
   "id": "f9cfecea",
   "metadata": {},
   "source": [
    "![Pandas](../image/pandas.svg)"
   ]
  },
  {
   "cell_type": "markdown",
   "id": "17b8adcd",
   "metadata": {},
   "source": [
    "- [GitHub](https://github.com/pandas-dev/pandas)\n",
    "- [Documentation](https://pandas.pydata.org/docs/index.html)\n",
    "- [Visualization User Guide](https://pandas.pydata.org/pandas-docs/stable/user_guide/visualization.html)\n",
    "\n",
    "`pandas` is a Python package that provides fast, flexible, and expressive data structures\n",
    "designed to make working with \"relational\" or \"labeled\" data both easy and intuitive.\n",
    "It aims to be the fundamental high-level building block for doing practical, real world data analysis in Python.\n",
    "\n",
    "> `pandas` is used mainly for manipulating DataFrame, but it also supports handy methods for creating decent looking plots with one line of code."
   ]
  },
  {
   "cell_type": "markdown",
   "id": "b21845fb",
   "metadata": {
    "ExecuteTime": {
     "end_time": "2021-10-25T07:49:35.376220Z",
     "start_time": "2021-10-25T07:49:35.372192Z"
    }
   },
   "source": [
    "## Data Manipulation + Plotting"
   ]
  },
  {
   "cell_type": "code",
   "execution_count": null,
   "id": "8dd17873",
   "metadata": {
    "ExecuteTime": {
     "end_time": "2021-10-27T11:54:49.717142Z",
     "start_time": "2021-10-27T11:54:49.631388Z"
    }
   },
   "outputs": [],
   "source": [
    "# Pure Matplotlib\n",
    "average_income_by_hours_per_week = (\n",
    "    df\n",
    "    .groupby('hpw_cut')['fake_income']\n",
    "    .mean()\n",
    ")\n",
    "\n",
    "plt.plot(\n",
    "    average_income_by_hours_per_week.index,\n",
    "    average_income_by_hours_per_week,\n",
    "    marker='x'\n",
    ")"
   ]
  },
  {
   "cell_type": "code",
   "execution_count": null,
   "id": "286b677b",
   "metadata": {
    "ExecuteTime": {
     "end_time": "2021-10-27T11:54:49.723395Z",
     "start_time": "2021-10-27T11:54:49.718440Z"
    }
   },
   "outputs": [],
   "source": [
    "# With Pandas\n",
    "(\n",
    "    df\n",
    "    .groupby('hpw_cut')\n",
    "    ['fake_income']\n",
    "    .mean()\n",
    "#     .plot(marker='x')\n",
    ")"
   ]
  },
  {
   "cell_type": "markdown",
   "id": "43f76b0e",
   "metadata": {},
   "source": [
    "Supported Plot Type:\n",
    "\n",
    "![Pandas Plot Kind](../image/pandas_plot_kind.png)\n",
    "\n",
    "Source: https://pandas.pydata.org/docs/reference/api/pandas.DataFrame.plot.html"
   ]
  },
  {
   "cell_type": "code",
   "execution_count": null,
   "id": "e31e0d27",
   "metadata": {
    "ExecuteTime": {
     "end_time": "2021-10-27T11:54:49.974965Z",
     "start_time": "2021-10-27T11:54:49.726702Z"
    }
   },
   "outputs": [],
   "source": [
    "# The same data with a bar chart\n",
    "(\n",
    "    df\n",
    "    .groupby('hpw_cut')\n",
    "    ['fake_income']\n",
    "    .mean()\n",
    "    .plot(kind='bar')\n",
    ");"
   ]
  },
  {
   "cell_type": "code",
   "execution_count": null,
   "id": "1f4619f5",
   "metadata": {
    "ExecuteTime": {
     "end_time": "2021-10-27T11:54:50.101553Z",
     "start_time": "2021-10-27T11:54:49.976074Z"
    }
   },
   "outputs": [],
   "source": [
    "# The other way to plot a bar chart\n",
    "(\n",
    "    df\n",
    "    .groupby('hpw_cut')\n",
    "    ['fake_income']\n",
    "    .mean()\n",
    "    .plot\n",
    "    .bar()\n",
    ");"
   ]
  },
  {
   "cell_type": "markdown",
   "id": "21819eb2",
   "metadata": {},
   "source": [
    "## Scatter Plot"
   ]
  },
  {
   "cell_type": "code",
   "execution_count": null,
   "id": "a9626323",
   "metadata": {
    "ExecuteTime": {
     "end_time": "2021-10-27T11:54:50.514396Z",
     "start_time": "2021-10-27T11:54:50.102694Z"
    }
   },
   "outputs": [],
   "source": [
    "# Pure Matplotlib\n",
    "plt.scatter(x=df['hours_per_week'], y=df['fake_income'],\n",
    "            c=df['age'], cmap='winter', s=5)\n",
    "\n",
    "plt.xlabel('Hours per Week [h]')\n",
    "plt.ylabel('Fake Income [dollar]')\n",
    "\n",
    "plt.colorbar();"
   ]
  },
  {
   "cell_type": "code",
   "execution_count": null,
   "id": "67174be9",
   "metadata": {
    "ExecuteTime": {
     "end_time": "2021-10-27T11:54:50.945331Z",
     "start_time": "2021-10-27T11:54:50.515773Z"
    }
   },
   "outputs": [],
   "source": [
    "# Pandas version\n",
    "df.plot.scatter(x='hours_per_week', y='fake_income',\n",
    "                c='age', cmap='winter', s=5);"
   ]
  },
  {
   "cell_type": "markdown",
   "id": "94aeef7c",
   "metadata": {
    "ExecuteTime": {
     "end_time": "2021-10-25T16:33:55.619426Z",
     "start_time": "2021-10-25T16:33:55.616126Z"
    }
   },
   "source": [
    "x-ticks does not appear with Pandas.\n",
    "\n",
    "It seems it's Pandas' bug according to [this](https://stackoverflow.com/questions/43121584/matplotlib-scatterplot-x-axis-labels).\n",
    "\n",
    "Work around is:"
   ]
  },
  {
   "cell_type": "code",
   "execution_count": null,
   "id": "577f832d",
   "metadata": {
    "ExecuteTime": {
     "end_time": "2021-10-27T11:54:51.471998Z",
     "start_time": "2021-10-27T11:54:50.946900Z"
    }
   },
   "outputs": [],
   "source": [
    "fig, ax = plt.subplots()\n",
    "df.plot.scatter(x='hours_per_week', y='fake_income',\n",
    "                c='age', cmap='winter', s=5, ax=ax);"
   ]
  },
  {
   "cell_type": "code",
   "execution_count": null,
   "id": "fd04bd54",
   "metadata": {
    "ExecuteTime": {
     "end_time": "2021-10-27T11:54:51.900707Z",
     "start_time": "2021-10-27T11:54:51.473478Z"
    }
   },
   "outputs": [],
   "source": [
    "fig, ax = plt.subplots()\n",
    "df.plot.scatter(x='hours_per_week', y='fake_income',\n",
    "                c='age', cmap='winter', s=5, ax=ax)\n",
    "\n",
    "# Fine tuning with Matplotlib\n",
    "plt.xlabel('Hours per Week [h]')\n",
    "plt.ylabel('Fake Income [dollar]');"
   ]
  },
  {
   "cell_type": "markdown",
   "id": "3b765e9a",
   "metadata": {},
   "source": [
    "## Histogram"
   ]
  },
  {
   "cell_type": "code",
   "execution_count": null,
   "id": "ab87e3c0",
   "metadata": {
    "ExecuteTime": {
     "end_time": "2021-10-27T11:54:52.045390Z",
     "start_time": "2021-10-27T11:54:51.902080Z"
    }
   },
   "outputs": [],
   "source": [
    "# Hours per Week by Income Level: Pure Matplotlib\n",
    "plt.hist(df.query('income == \"<=50K\"')['hours_per_week'],\n",
    "         bins=hpw_bins, label='Income <= 50K', density=True, alpha=0.7)\n",
    "plt.hist(df.query('income == \">50K\"')['hours_per_week'],\n",
    "         bins=hpw_bins, label='Income > 50K', density=True, alpha=0.7)\n",
    "\n",
    "plt.legend();"
   ]
  },
  {
   "cell_type": "code",
   "execution_count": null,
   "id": "62bb091d",
   "metadata": {
    "ExecuteTime": {
     "end_time": "2021-10-27T11:54:52.171941Z",
     "start_time": "2021-10-27T11:54:52.046668Z"
    }
   },
   "outputs": [],
   "source": [
    "(\n",
    "    df\n",
    "    .groupby('income')['hours_per_week']\n",
    "    .plot\n",
    "    .hist(bins=hpw_bins, density=True, alpha=0.7)\n",
    ");"
   ]
  },
  {
   "cell_type": "code",
   "execution_count": null,
   "id": "bcea8dd8",
   "metadata": {
    "ExecuteTime": {
     "end_time": "2021-10-27T11:54:52.316792Z",
     "start_time": "2021-10-27T11:54:52.173516Z"
    }
   },
   "outputs": [],
   "source": [
    "(\n",
    "    df\n",
    "    .groupby('income')['hours_per_week']\n",
    "    .plot\n",
    "    .hist(bins=hpw_bins, density=True, alpha=0.7)\n",
    ")\n",
    "\n",
    "# Fine tuning with Matplotlib\n",
    "plt.legend();"
   ]
  },
  {
   "cell_type": "markdown",
   "id": "91bce190",
   "metadata": {},
   "source": [
    "## Boxplot"
   ]
  },
  {
   "cell_type": "code",
   "execution_count": null,
   "id": "e56079b1",
   "metadata": {
    "ExecuteTime": {
     "end_time": "2021-10-27T11:54:52.465877Z",
     "start_time": "2021-10-27T11:54:52.318203Z"
    }
   },
   "outputs": [],
   "source": [
    "# Pure Matplotlib\n",
    "age_groups = sorted(df['age_group'].unique())\n",
    "\n",
    "fake_incomes_by_age_group = [\n",
    "    df.query('age_group == @age_group')['fake_income']\n",
    "    for age_group in age_groups\n",
    "]\n",
    "\n",
    "plt.boxplot(fake_incomes_by_age_group, labels=age_groups);"
   ]
  },
  {
   "cell_type": "code",
   "execution_count": null,
   "id": "1b44376e",
   "metadata": {
    "ExecuteTime": {
     "end_time": "2021-10-27T11:54:52.627463Z",
     "start_time": "2021-10-27T11:54:52.467436Z"
    }
   },
   "outputs": [],
   "source": [
    "# Pandas version\n",
    "df.boxplot(column='fake_income', by='age_group');"
   ]
  },
  {
   "cell_type": "markdown",
   "id": "3e60a796",
   "metadata": {},
   "source": [
    "# Seaborn"
   ]
  },
  {
   "cell_type": "markdown",
   "id": "137dad4c",
   "metadata": {},
   "source": [
    "![Seaborn](../image/seaborn.svg)"
   ]
  },
  {
   "cell_type": "markdown",
   "id": "b2dc2cdc",
   "metadata": {},
   "source": [
    "- [GitHub](https://github.com/mwaskom/seaborn)\n",
    "- [Documentation](https://seaborn.pydata.org/index.html)\n",
    "\n",
    "`Seaborn` is a library for making statistical graphics in Python.\n",
    "\n",
    "It builds on top of `matplotlib` and integrates closely with `pandas` data structures.\n",
    "\n",
    "`Seaborn` helps you explore and understand your data.\n",
    "Its plotting functions operate on `dataframes` and `arrays` containing whole datasets\n",
    "and internally perform the necessary semantic mapping and statistical aggregation to produce informative plots.\n",
    "Its dataset-oriented, declarative API lets you focus on what the different elements of your plots mean,\n",
    "rather than on the details of how to draw them.\n",
    "\n",
    "> This is my go-to library for starting data visualizations."
   ]
  },
  {
   "cell_type": "markdown",
   "id": "0c2eb97c",
   "metadata": {},
   "source": [
    "[Example Gallery](https://seaborn.pydata.org/examples/index.html)\n",
    "\n",
    "![Example Gallery](../image/seaborn_gallery.png)"
   ]
  },
  {
   "cell_type": "markdown",
   "id": "38c08b9d",
   "metadata": {},
   "source": [
    "## [Figure Style](https://seaborn.pydata.org/tutorial/aesthetics.html#seaborn-figure-styles)"
   ]
  },
  {
   "cell_type": "markdown",
   "id": "2441a2b6",
   "metadata": {},
   "source": [
    "![Seaborn Figure Syltes](../image/seaborn_figure_styles.png)"
   ]
  },
  {
   "cell_type": "markdown",
   "id": "1613fdeb",
   "metadata": {},
   "source": [
    "> Seaborn style has an impact on Matplotlib figures too.\n",
    ">\n",
    "> Acutally, it modifies Matplotlib's default figure parameters for styling."
   ]
  },
  {
   "cell_type": "code",
   "execution_count": null,
   "id": "86d14fec",
   "metadata": {
    "ExecuteTime": {
     "end_time": "2021-10-27T11:54:56.295740Z",
     "start_time": "2021-10-27T11:54:52.628672Z"
    }
   },
   "outputs": [],
   "source": [
    "import seaborn as sns"
   ]
  },
  {
   "cell_type": "code",
   "execution_count": null,
   "id": "17de3711",
   "metadata": {
    "ExecuteTime": {
     "end_time": "2021-10-27T11:54:57.094671Z",
     "start_time": "2021-10-27T11:54:56.298660Z"
    }
   },
   "outputs": [],
   "source": [
    "styles = ['default', 'darkgrid', 'whitegrid', 'dark', 'white', 'ticks']\n",
    "\n",
    "for style in styles:\n",
    "    if style == 'default':\n",
    "        sns.reset_orig()  # Restore Matplotlib default\n",
    "    else:\n",
    "        sns.set_style(style)\n",
    "        \n",
    "    plt.figure(figsize=(8, 2))\n",
    "    plt.title(f'{style}', fontsize=20)\n",
    "    plt.hist(df['fake_income'], bins=range(0, 400000, 10000))"
   ]
  },
  {
   "cell_type": "code",
   "execution_count": null,
   "id": "aa66408e",
   "metadata": {
    "ExecuteTime": {
     "end_time": "2021-10-27T11:54:57.099822Z",
     "start_time": "2021-10-27T11:54:57.097044Z"
    }
   },
   "outputs": [],
   "source": [
    "# I personally prefer the \"whitegrid\" style\n",
    "sns.set_style('whitegrid')"
   ]
  },
  {
   "cell_type": "markdown",
   "id": "7a1c1fce",
   "metadata": {},
   "source": [
    "## Functions"
   ]
  },
  {
   "cell_type": "markdown",
   "id": "338405ed",
   "metadata": {},
   "source": [
    "![Seaborn Functions](../image/seaborn_functions.png)"
   ]
  },
  {
   "cell_type": "markdown",
   "id": "a0bce7be",
   "metadata": {},
   "source": [
    "- Figure-level functions: `relplot`, `distplot`, `catplot`\n",
    "  - Interface with `matplotlib` through a seaborn object, usually a `FacetGrid`, that manages the figure\n",
    "- Axis-level functions: `scatterplot`, `lineplot`, `histplot`, `kdeplot`, ...\n",
    "  - Plot data onto a single `matplotlib.pyplot.Axes` object"
   ]
  },
  {
   "cell_type": "code",
   "execution_count": null,
   "id": "1afd1015",
   "metadata": {
    "ExecuteTime": {
     "end_time": "2021-10-27T11:54:57.292237Z",
     "start_time": "2021-10-27T11:54:57.100942Z"
    }
   },
   "outputs": [],
   "source": [
    "fig, axes = plt.subplots(1, 2)\n",
    "\n",
    "plt.suptitle('This is \"Figure\"', fontsize=20)\n",
    "axes[0].set_title('This is \"ax_0\"')\n",
    "axes[1].set_title('This is \"ax_1\"');"
   ]
  },
  {
   "cell_type": "code",
   "execution_count": null,
   "id": "16065229",
   "metadata": {
    "ExecuteTime": {
     "end_time": "2021-10-27T11:54:57.948771Z",
     "start_time": "2021-10-27T11:54:57.293527Z"
    }
   },
   "outputs": [],
   "source": [
    "# Functions within a module share a lot of underlying code and offer similar features.\n",
    "# They are designed to facilitate switching between different visual representations as you explore a dataset.\n",
    "# For instance:\n",
    "\n",
    "plt.subplot(121)\n",
    "sns.histplot(data=df, x='age', hue='income', multiple=\"stack\");\n",
    "\n",
    "plt.subplot(122)\n",
    "sns.kdeplot(data=df, x='age', hue='income', multiple=\"stack\");"
   ]
  },
  {
   "cell_type": "markdown",
   "id": "d6fbc34a",
   "metadata": {},
   "source": [
    "## relplot"
   ]
  },
  {
   "cell_type": "markdown",
   "id": "81d4ca26",
   "metadata": {},
   "source": [
    "### scatterplot"
   ]
  },
  {
   "cell_type": "code",
   "execution_count": null,
   "id": "431e6947",
   "metadata": {
    "ExecuteTime": {
     "end_time": "2021-10-27T11:54:58.403465Z",
     "start_time": "2021-10-27T11:54:57.950415Z"
    }
   },
   "outputs": [],
   "source": [
    "# Pure Matplotlib\n",
    "plt.scatter(x=df['hours_per_week'], y=df['fake_income'],\n",
    "            c=df['age'], cmap='winter', s=5)\n",
    "\n",
    "plt.xlabel('Hours per Week [h]')\n",
    "plt.ylabel('Fake Income [dollar]')\n",
    "\n",
    "plt.colorbar();"
   ]
  },
  {
   "cell_type": "code",
   "execution_count": null,
   "id": "df196a5e",
   "metadata": {
    "ExecuteTime": {
     "end_time": "2021-10-27T11:54:58.787520Z",
     "start_time": "2021-10-27T11:54:58.404679Z"
    }
   },
   "outputs": [],
   "source": [
    "sns.scatterplot(data=df, x='hours_per_week', y='fake_income',\n",
    "                c=df['age'], cmap='winter', s=5);"
   ]
  },
  {
   "cell_type": "code",
   "execution_count": null,
   "id": "df94502a",
   "metadata": {
    "ExecuteTime": {
     "end_time": "2021-10-27T11:54:59.615945Z",
     "start_time": "2021-10-27T11:54:58.788700Z"
    }
   },
   "outputs": [],
   "source": [
    "# Seaborn scatterplot is more suitable for representing\n",
    "# categorical variables with hue and style\n",
    "sns.scatterplot(data=df, x='hours_per_week', y='fake_income',\n",
    "                hue='race', style='sex', s=30, alpha=0.7);"
   ]
  },
  {
   "cell_type": "code",
   "execution_count": null,
   "id": "c32a429f",
   "metadata": {
    "ExecuteTime": {
     "end_time": "2021-10-27T11:55:00.434248Z",
     "start_time": "2021-10-27T11:54:59.617432Z"
    }
   },
   "outputs": [],
   "source": [
    "sns.scatterplot(data=df, x='hours_per_week', y='fake_income',\n",
    "                hue='race', style='sex', s=30, alpha=0.7);\n",
    "\n",
    "# We can always fine-tune the figure with Matplotlib\n",
    "plt.xlabel('Hours per Week [h]')\n",
    "plt.ylabel('Fake Income [dollar]');"
   ]
  },
  {
   "cell_type": "markdown",
   "id": "7091b21e",
   "metadata": {},
   "source": [
    "### lineplot"
   ]
  },
  {
   "cell_type": "code",
   "execution_count": null,
   "id": "c34898cd",
   "metadata": {
    "ExecuteTime": {
     "end_time": "2021-10-27T11:55:05.296337Z",
     "start_time": "2021-10-27T11:55:00.435625Z"
    }
   },
   "outputs": [],
   "source": [
    "sns.lineplot(data=df, x='hours_per_week', y='fake_income',\n",
    "             hue='race', style='sex');"
   ]
  },
  {
   "cell_type": "code",
   "execution_count": null,
   "id": "43be2970",
   "metadata": {
    "ExecuteTime": {
     "end_time": "2021-10-27T11:55:07.669150Z",
     "start_time": "2021-10-27T11:55:05.297697Z"
    }
   },
   "outputs": [],
   "source": [
    "sns.lineplot(data=df, x='hpw_cut', y='fake_income',\n",
    "             hue='race', style='sex');"
   ]
  },
  {
   "cell_type": "code",
   "execution_count": null,
   "id": "2a93e699",
   "metadata": {
    "ExecuteTime": {
     "end_time": "2021-10-27T11:55:09.022638Z",
     "start_time": "2021-10-27T11:55:07.670753Z"
    }
   },
   "outputs": [],
   "source": [
    "sns.lineplot(data=df, x='age_group', y='fake_income',\n",
    "             hue='race', style='sex');"
   ]
  },
  {
   "cell_type": "markdown",
   "id": "db03f9af",
   "metadata": {},
   "source": [
    "### relplot (Figure-level)"
   ]
  },
  {
   "cell_type": "code",
   "execution_count": null,
   "id": "233d9931",
   "metadata": {
    "ExecuteTime": {
     "end_time": "2021-10-27T11:55:10.758827Z",
     "start_time": "2021-10-27T11:55:09.024201Z"
    }
   },
   "outputs": [],
   "source": [
    "# sns.lineplot(data=df, x='age_group', y='fake_income',\n",
    "#              hue='race', style='sex');\n",
    "sns.relplot(data=df, x='age_group', y='fake_income',\n",
    "            hue='race', kind='line', col='sex');"
   ]
  },
  {
   "cell_type": "code",
   "execution_count": null,
   "id": "7c05cc23",
   "metadata": {
    "ExecuteTime": {
     "end_time": "2021-10-27T11:55:12.748275Z",
     "start_time": "2021-10-27T11:55:10.760450Z"
    }
   },
   "outputs": [],
   "source": [
    "# Hue by sex and col by race\n",
    "sns.relplot(data=df, x='age_group', y='fake_income',\n",
    "            hue='sex', kind='line', col='race', height=3);\n"
   ]
  },
  {
   "cell_type": "code",
   "execution_count": null,
   "id": "ea587abb",
   "metadata": {
    "ExecuteTime": {
     "end_time": "2021-10-27T11:55:14.821622Z",
     "start_time": "2021-10-27T11:55:12.754461Z"
    }
   },
   "outputs": [],
   "source": [
    "g = sns.relplot(data=df, x='age_group', y='fake_income',\n",
    "            hue='sex', kind='line', col='race', height=3)\n",
    "\n",
    "# Fine tuning with FacetGrid methods\n",
    "g.set_xticklabels(rotation=30);"
   ]
  },
  {
   "cell_type": "code",
   "execution_count": null,
   "id": "ae6783c6",
   "metadata": {
    "ExecuteTime": {
     "end_time": "2021-10-27T11:55:16.854616Z",
     "start_time": "2021-10-27T11:55:14.823692Z"
    }
   },
   "outputs": [],
   "source": [
    "# Adjust col_wrap\n",
    "sns.relplot(data=df, x='age_group', y='fake_income',\n",
    "            hue='sex', kind='line', col='race', height=5, col_wrap=3);"
   ]
  },
  {
   "cell_type": "code",
   "execution_count": null,
   "id": "d7b600c8",
   "metadata": {
    "ExecuteTime": {
     "end_time": "2021-10-27T11:55:19.249497Z",
     "start_time": "2021-10-27T11:55:16.856726Z"
    }
   },
   "outputs": [],
   "source": [
    "sns.relplot(data=df, x='age_group', y='fake_income',\n",
    "            kind='line', col='race', row='sex');"
   ]
  },
  {
   "cell_type": "code",
   "execution_count": null,
   "id": "230312e3",
   "metadata": {
    "ExecuteTime": {
     "end_time": "2021-10-27T11:55:20.469520Z",
     "start_time": "2021-10-27T11:55:19.251564Z"
    }
   },
   "outputs": [],
   "source": [
    "# To scatterplot\n",
    "sns.relplot(data=df, x='age_group', y='fake_income',\n",
    "            kind='scatter', col='race', row='sex');"
   ]
  },
  {
   "cell_type": "code",
   "execution_count": null,
   "id": "801e5819",
   "metadata": {
    "ExecuteTime": {
     "end_time": "2021-10-27T11:55:22.056785Z",
     "start_time": "2021-10-27T11:55:20.470816Z"
    }
   },
   "outputs": [],
   "source": [
    "# x='age' instead of 'age_group'\n",
    "sns.relplot(data=df, x='age', y='fake_income',\n",
    "            kind='scatter', col='race', row='sex');"
   ]
  },
  {
   "cell_type": "code",
   "execution_count": null,
   "id": "fc29e5ea",
   "metadata": {
    "ExecuteTime": {
     "end_time": "2021-10-27T11:55:24.761153Z",
     "start_time": "2021-10-27T11:55:22.058044Z"
    }
   },
   "outputs": [],
   "source": [
    "sns.relplot(data=df, x='age', y='fake_income',\n",
    "            kind='scatter', col='race', hue='sex', row='income', height=3.5);"
   ]
  },
  {
   "cell_type": "markdown",
   "id": "fc20b5fb",
   "metadata": {},
   "source": [
    "## displot"
   ]
  },
  {
   "cell_type": "markdown",
   "id": "7fa21615",
   "metadata": {},
   "source": [
    "### histplot"
   ]
  },
  {
   "cell_type": "code",
   "execution_count": null,
   "id": "638c1f57",
   "metadata": {
    "ExecuteTime": {
     "end_time": "2021-10-27T11:55:24.929038Z",
     "start_time": "2021-10-27T11:55:24.763217Z"
    }
   },
   "outputs": [],
   "source": [
    "# Hours per Week by Income Level: Pure Matplotlib\n",
    "plt.hist(df.query('income == \"<=50K\"')['hours_per_week'],\n",
    "         bins=hpw_bins, label='Income <= 50K', density=True, alpha=0.7)\n",
    "plt.hist(df.query('income == \">50K\"')['hours_per_week'],\n",
    "         bins=hpw_bins, label='Income > 50K', density=True, alpha=0.7)\n",
    "\n",
    "plt.legend();"
   ]
  },
  {
   "cell_type": "code",
   "execution_count": null,
   "id": "90906a25",
   "metadata": {
    "ExecuteTime": {
     "end_time": "2021-10-27T11:55:25.152255Z",
     "start_time": "2021-10-27T11:55:24.930258Z"
    }
   },
   "outputs": [],
   "source": [
    "# Histogram with Seaborn\n",
    "sns.histplot(data=df, x='hours_per_week', hue='income', bins=hpw_bins,\n",
    "             stat='density', alpha=0.7, common_norm=False);"
   ]
  },
  {
   "cell_type": "markdown",
   "id": "c183e860",
   "metadata": {},
   "source": [
    "### kdeplot"
   ]
  },
  {
   "cell_type": "code",
   "execution_count": null,
   "id": "63266b51",
   "metadata": {
    "ExecuteTime": {
     "end_time": "2021-10-27T11:55:25.447555Z",
     "start_time": "2021-10-27T11:55:25.154235Z"
    }
   },
   "outputs": [],
   "source": [
    "sns.kdeplot(data=df, x='hours_per_week', hue='income');"
   ]
  },
  {
   "cell_type": "code",
   "execution_count": null,
   "id": "9cdc1586",
   "metadata": {
    "ExecuteTime": {
     "end_time": "2021-10-27T11:55:25.973064Z",
     "start_time": "2021-10-27T11:55:25.448576Z"
    }
   },
   "outputs": [],
   "source": [
    "# Plot hist and kde altogether\n",
    "sns.histplot(data=df, x='hours_per_week', hue='income', bins=hpw_bins,\n",
    "             stat='density', alpha=0.7, common_norm=False)\n",
    "\n",
    "sns.kdeplot(data=df, x='hours_per_week', hue='income');"
   ]
  },
  {
   "cell_type": "code",
   "execution_count": null,
   "id": "3d6ba673",
   "metadata": {
    "ExecuteTime": {
     "end_time": "2021-10-27T11:55:26.359463Z",
     "start_time": "2021-10-27T11:55:25.974031Z"
    }
   },
   "outputs": [],
   "source": [
    "# Bins should be adjusted as well as \"bw_adjust\" of the KDE plot\n",
    "sns.histplot(data=df, x='hours_per_week', hue='income', bins=hpw_bins - 2.5,\n",
    "             stat='density', alpha=0.7, common_norm=False)\n",
    "\n",
    "sns.kdeplot(data=df, x='hours_per_week', hue='income', bw_adjust=0.7);"
   ]
  },
  {
   "cell_type": "markdown",
   "id": "58347998",
   "metadata": {},
   "source": [
    "### ecdfplot"
   ]
  },
  {
   "cell_type": "code",
   "execution_count": null,
   "id": "204f234b",
   "metadata": {
    "ExecuteTime": {
     "end_time": "2021-10-27T11:55:26.529942Z",
     "start_time": "2021-10-27T11:55:26.360641Z"
    }
   },
   "outputs": [],
   "source": [
    "sns.ecdfplot(data=df, x='hours_per_week', hue='income');"
   ]
  },
  {
   "cell_type": "code",
   "execution_count": null,
   "id": "09ecb497",
   "metadata": {
    "ExecuteTime": {
     "end_time": "2021-10-27T11:55:27.314257Z",
     "start_time": "2021-10-27T11:55:26.531036Z"
    }
   },
   "outputs": [],
   "source": [
    "plt.figure(figsize=(20, 5))\n",
    "\n",
    "plt.subplot(131)\n",
    "plt.title('Difficult to compare\\nmany categories with a histogram', fontsize=15)\n",
    "sns.histplot(data=df, x='hours_per_week', hue='race', bins=hpw_bins,\n",
    "             stat='density', alpha=0.7, common_norm=False)\n",
    "\n",
    "plt.subplot(132)\n",
    "plt.title('A bit better by giving \"multiple=fill\"', fontsize=15)\n",
    "sns.histplot(data=df, x='hours_per_week', hue='race', bins=hpw_bins,\n",
    "             stat='density', alpha=0.7, common_norm=False,\n",
    "             multiple='fill')  # Modify multiple option to 'fill'\n",
    "\n",
    "plt.subplot(133)\n",
    "plt.title('ecdfplot is the best for a comparison', fontsize=15)\n",
    "sns.ecdfplot(data=df, x='hours_per_week', hue='race');"
   ]
  },
  {
   "cell_type": "markdown",
   "id": "87b0ccdd",
   "metadata": {},
   "source": [
    "### displot (Figure-level)"
   ]
  },
  {
   "cell_type": "code",
   "execution_count": null,
   "id": "1c12860c",
   "metadata": {
    "ExecuteTime": {
     "end_time": "2021-10-27T11:55:27.612256Z",
     "start_time": "2021-10-27T11:55:27.315854Z"
    }
   },
   "outputs": [],
   "source": [
    "# sns.histplot(data=df, x='hours_per_week', hue='income', bins=hpw_bins,\n",
    "#              stat='density', alpha=0.7, common_norm=False);\n",
    "sns.displot(data=df, x='hours_per_week', hue='income', bins=hpw_bins,\n",
    "             stat='density', alpha=0.7, common_norm=False, kind='hist');"
   ]
  },
  {
   "cell_type": "code",
   "execution_count": null,
   "id": "28c2e1a1",
   "metadata": {
    "ExecuteTime": {
     "end_time": "2021-10-27T11:55:28.772365Z",
     "start_time": "2021-10-27T11:55:27.613678Z"
    }
   },
   "outputs": [],
   "source": [
    "sns.displot(data=df, x='hours_per_week', hue='income', bins=hpw_bins,\n",
    "            stat='density', alpha=0.7, common_norm=False, kind='hist',\n",
    "            col='race', col_wrap=3, height=3);"
   ]
  },
  {
   "cell_type": "markdown",
   "id": "d3f0de76",
   "metadata": {},
   "source": [
    "## catplot"
   ]
  },
  {
   "cell_type": "markdown",
   "id": "c849678f",
   "metadata": {},
   "source": [
    "### boxplot"
   ]
  },
  {
   "cell_type": "code",
   "execution_count": null,
   "id": "bce181c4",
   "metadata": {
    "ExecuteTime": {
     "end_time": "2021-10-27T11:55:28.934000Z",
     "start_time": "2021-10-27T11:55:28.773685Z"
    }
   },
   "outputs": [],
   "source": [
    "# Pure Matplotlib\n",
    "age_groups = sorted(df['age_group'].unique())\n",
    "\n",
    "fake_incomes_by_age_group = [\n",
    "    df.query('age_group == @age_group')['fake_income']\n",
    "    for age_group in age_groups\n",
    "]\n",
    "\n",
    "plt.boxplot(fake_incomes_by_age_group, labels=age_groups);"
   ]
  },
  {
   "cell_type": "code",
   "execution_count": null,
   "id": "88f030e1",
   "metadata": {
    "ExecuteTime": {
     "end_time": "2021-10-27T11:55:29.103904Z",
     "start_time": "2021-10-27T11:55:28.935097Z"
    }
   },
   "outputs": [],
   "source": [
    "# Pandas version\n",
    "df.boxplot(column='fake_income', by='age_group');"
   ]
  },
  {
   "cell_type": "code",
   "execution_count": null,
   "id": "bde6ad81",
   "metadata": {
    "ExecuteTime": {
     "end_time": "2021-10-27T11:55:29.264090Z",
     "start_time": "2021-10-27T11:55:29.104972Z"
    }
   },
   "outputs": [],
   "source": [
    "# Seaborn version\n",
    "sns.boxplot(data=df, x='age_group', y='fake_income');"
   ]
  },
  {
   "cell_type": "code",
   "execution_count": null,
   "id": "38db7ca3",
   "metadata": {
    "ExecuteTime": {
     "end_time": "2021-10-27T11:55:29.533234Z",
     "start_time": "2021-10-27T11:55:29.265133Z"
    }
   },
   "outputs": [],
   "source": [
    "# Seaborn version (+ coloring by \"sex\")\n",
    "sns.boxplot(data=df, x='age_group', y='fake_income', hue='sex');"
   ]
  },
  {
   "cell_type": "markdown",
   "id": "3ba4281e",
   "metadata": {},
   "source": [
    "### violinplot"
   ]
  },
  {
   "cell_type": "code",
   "execution_count": null,
   "id": "9739347b",
   "metadata": {
    "ExecuteTime": {
     "end_time": "2021-10-27T11:55:29.928952Z",
     "start_time": "2021-10-27T11:55:29.534484Z"
    }
   },
   "outputs": [],
   "source": [
    "sns.violinplot(data=df, x='age_group', y='fake_income', hue='sex');"
   ]
  },
  {
   "cell_type": "code",
   "execution_count": null,
   "id": "6fe020bf",
   "metadata": {
    "ExecuteTime": {
     "end_time": "2021-10-27T11:55:30.243323Z",
     "start_time": "2021-10-27T11:55:29.930010Z"
    }
   },
   "outputs": [],
   "source": [
    "sns.violinplot(data=df, x='age_group', y='fake_income', hue='sex',\n",
    "               split=True);"
   ]
  },
  {
   "cell_type": "markdown",
   "id": "f12c307a",
   "metadata": {},
   "source": [
    "### boxenplot"
   ]
  },
  {
   "cell_type": "code",
   "execution_count": null,
   "id": "5d13dc4c",
   "metadata": {
    "ExecuteTime": {
     "end_time": "2021-10-27T11:55:30.581921Z",
     "start_time": "2021-10-27T11:55:30.244528Z"
    }
   },
   "outputs": [],
   "source": [
    "sns.boxenplot(data=df, x='age_group', y='fake_income', hue='sex');"
   ]
  },
  {
   "cell_type": "markdown",
   "id": "e08dca04",
   "metadata": {},
   "source": [
    "### pointplot"
   ]
  },
  {
   "cell_type": "code",
   "execution_count": null,
   "id": "c45dbe4e",
   "metadata": {
    "ExecuteTime": {
     "end_time": "2021-10-27T11:55:31.168481Z",
     "start_time": "2021-10-27T11:55:30.583027Z"
    }
   },
   "outputs": [],
   "source": [
    "sns.pointplot(data=df, x='age_group', y='fake_income', hue='sex');"
   ]
  },
  {
   "cell_type": "markdown",
   "id": "34ed18da",
   "metadata": {},
   "source": [
    "### barplot"
   ]
  },
  {
   "cell_type": "code",
   "execution_count": null,
   "id": "0e099c79",
   "metadata": {
    "ExecuteTime": {
     "end_time": "2021-10-27T11:55:31.770308Z",
     "start_time": "2021-10-27T11:55:31.169997Z"
    }
   },
   "outputs": [],
   "source": [
    "sns.barplot(data=df, x='age_group', y='fake_income', hue='sex');"
   ]
  },
  {
   "cell_type": "markdown",
   "id": "ecba07a5",
   "metadata": {},
   "source": [
    "### striplot"
   ]
  },
  {
   "cell_type": "code",
   "execution_count": null,
   "id": "11be414b",
   "metadata": {
    "ExecuteTime": {
     "end_time": "2021-10-27T11:55:33.735828Z",
     "start_time": "2021-10-27T11:55:31.771596Z"
    }
   },
   "outputs": [],
   "source": [
    "sns.stripplot(data=df, x='age', y='education', hue='sex',\n",
    "              dodge=True, alpha=0.3, size=3);"
   ]
  },
  {
   "cell_type": "code",
   "execution_count": null,
   "id": "eae0ae77",
   "metadata": {
    "ExecuteTime": {
     "end_time": "2021-10-27T11:55:35.139407Z",
     "start_time": "2021-10-27T11:55:33.736976Z"
    }
   },
   "outputs": [],
   "source": [
    "sns.stripplot(data=df, x='fake_income', y='education', hue='sex',\n",
    "              dodge=True, alpha=0.3, size=3);"
   ]
  },
  {
   "cell_type": "code",
   "execution_count": null,
   "id": "3361a498",
   "metadata": {
    "ExecuteTime": {
     "end_time": "2021-10-27T11:55:35.825691Z",
     "start_time": "2021-10-27T11:55:35.140683Z"
    }
   },
   "outputs": [],
   "source": [
    "sns.stripplot(data=df, x='fake_income', y='race', hue='sex',\n",
    "              dodge=True, alpha=0.3, size=3);"
   ]
  },
  {
   "cell_type": "markdown",
   "id": "607ab064",
   "metadata": {},
   "source": [
    "### catplot (Figure-level)"
   ]
  },
  {
   "cell_type": "code",
   "execution_count": null,
   "id": "acd8ad7d",
   "metadata": {
    "ExecuteTime": {
     "end_time": "2021-10-27T11:55:36.211284Z",
     "start_time": "2021-10-27T11:55:35.826836Z"
    }
   },
   "outputs": [],
   "source": [
    "# sns.boxplot(data=df, x='age_group', y='fake_income', hue='sex')\n",
    "\n",
    "sns.catplot(data=df, x='age_group', y='fake_income', hue='sex', kind='box');"
   ]
  },
  {
   "cell_type": "code",
   "execution_count": null,
   "id": "02804814",
   "metadata": {
    "ExecuteTime": {
     "end_time": "2021-10-27T11:55:37.770559Z",
     "start_time": "2021-10-27T11:55:36.212600Z"
    }
   },
   "outputs": [],
   "source": [
    "sns.catplot(data=df, x='age_group', y='fake_income', hue='sex', kind='box',\n",
    "            col='race', col_wrap=3, height=4);"
   ]
  },
  {
   "cell_type": "markdown",
   "id": "c0d84400",
   "metadata": {},
   "source": [
    "## Heatmap"
   ]
  },
  {
   "cell_type": "code",
   "execution_count": null,
   "id": "df960f37",
   "metadata": {
    "ExecuteTime": {
     "end_time": "2021-10-27T11:55:37.794388Z",
     "start_time": "2021-10-27T11:55:37.774638Z"
    }
   },
   "outputs": [],
   "source": [
    "# Average fake_income by education and race?\n",
    "\n",
    "avg_fake_income = df.pivot_table(values='fake_income',\n",
    "                                 index='education',\n",
    "                                 columns='race',\n",
    "                                 aggfunc='mean',)\n",
    "avg_fake_income"
   ]
  },
  {
   "cell_type": "code",
   "execution_count": null,
   "id": "0dfe8e3c",
   "metadata": {
    "ExecuteTime": {
     "end_time": "2021-10-27T11:55:38.124251Z",
     "start_time": "2021-10-27T11:55:37.795470Z"
    }
   },
   "outputs": [],
   "source": [
    "plt.figure(figsize=(10, 8))\n",
    "sns.heatmap(avg_fake_income, cmap='Blues', annot=True, fmt='.0f');"
   ]
  },
  {
   "cell_type": "code",
   "execution_count": null,
   "id": "dbc3c98d",
   "metadata": {
    "ExecuteTime": {
     "end_time": "2021-10-27T11:55:38.141897Z",
     "start_time": "2021-10-27T11:55:38.125854Z"
    }
   },
   "outputs": [],
   "source": [
    "count_fake_income = df.pivot_table(values='fake_income',\n",
    "                                 index='education',\n",
    "                                 columns='race',\n",
    "                                 aggfunc='count',)\n",
    "count_fake_income"
   ]
  },
  {
   "cell_type": "code",
   "execution_count": null,
   "id": "7ec7bdfc",
   "metadata": {
    "ExecuteTime": {
     "end_time": "2021-10-27T11:55:38.544565Z",
     "start_time": "2021-10-27T11:55:38.143127Z"
    }
   },
   "outputs": [],
   "source": [
    "plt.figure(figsize=(10, 8))\n",
    "sns.heatmap(count_fake_income, cmap='Blues', annot=True, fmt='.0f');"
   ]
  },
  {
   "cell_type": "markdown",
   "id": "4ab45372",
   "metadata": {},
   "source": [
    "## Joint Plot\n",
    "\n",
    "Draw a plot of two variables with bivariate and univariate graphs.\n",
    "\n",
    "Suppored kinds are { “scatter” | “kde” | “hist” | “hex” | “reg” | “resid” }."
   ]
  },
  {
   "cell_type": "code",
   "execution_count": null,
   "id": "a44bf8b4",
   "metadata": {
    "ExecuteTime": {
     "end_time": "2021-10-27T11:55:39.594878Z",
     "start_time": "2021-10-27T11:55:38.545645Z"
    }
   },
   "outputs": [],
   "source": [
    "sns.jointplot(data=df, x='age', y='fake_income', hue='sex', alpha=0.3, s=10);"
   ]
  },
  {
   "cell_type": "code",
   "execution_count": null,
   "id": "13b01c31",
   "metadata": {
    "ExecuteTime": {
     "end_time": "2021-10-27T11:55:40.175712Z",
     "start_time": "2021-10-27T11:55:39.596162Z"
    }
   },
   "outputs": [],
   "source": [
    "sns.jointplot(data=df, x='age', y='fake_income', kind='hist');"
   ]
  },
  {
   "cell_type": "markdown",
   "id": "73d4f0c1",
   "metadata": {},
   "source": [
    "## Pair Plot\n",
    "\n",
    "Plot pairwise relationships in a dataset.\n",
    "\n",
    "Supported `kind`s are {‘scatter’, ‘kde’, ‘hist’, ‘reg’}.\n",
    "\n",
    "Supported `diag_kind`s are {‘auto’, ‘hist’, ‘kde’, None}."
   ]
  },
  {
   "cell_type": "code",
   "execution_count": null,
   "id": "7f35e98a",
   "metadata": {
    "ExecuteTime": {
     "end_time": "2021-10-27T11:55:53.072210Z",
     "start_time": "2021-10-27T11:55:40.176810Z"
    }
   },
   "outputs": [],
   "source": [
    "sns.pairplot(\n",
    "    data=df,\n",
    "    hue='sex',\n",
    "    vars=['age', 'capital_gain', 'hours_per_week', 'fake_income'],\n",
    "    plot_kws=dict(alpha=0.3, s=10),\n",
    ");"
   ]
  }
 ],
 "metadata": {
  "hide_input": false,
  "kernelspec": {
   "display_name": "Python 3 (ipykernel)",
   "language": "python",
   "name": "python3"
  },
  "language_info": {
   "codemirror_mode": {
    "name": "ipython",
    "version": 3
   },
   "file_extension": ".py",
   "mimetype": "text/x-python",
   "name": "python",
   "nbconvert_exporter": "python",
   "pygments_lexer": "ipython3",
   "version": "3.8.12"
  },
  "toc": {
   "base_numbering": 1,
   "nav_menu": {},
   "number_sections": true,
   "sideBar": true,
   "skip_h1_title": false,
   "title_cell": "Table of Contents",
   "title_sidebar": "Contents",
   "toc_cell": false,
   "toc_position": {
    "height": "calc(100% - 180px)",
    "left": "10px",
    "top": "150px",
    "width": "303.825px"
   },
   "toc_section_display": true,
   "toc_window_display": true
  }
 },
 "nbformat": 4,
 "nbformat_minor": 5
}
