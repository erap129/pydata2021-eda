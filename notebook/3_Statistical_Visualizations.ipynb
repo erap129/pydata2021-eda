{
 "cells": [
  {
   "cell_type": "markdown",
   "id": "455f5b52",
   "metadata": {},
   "source": [
    "# Data Loading"
   ]
  },
  {
   "cell_type": "code",
   "execution_count": null,
   "id": "381a420e",
   "metadata": {
    "ExecuteTime": {
     "end_time": "2021-10-27T08:46:54.887625Z",
     "start_time": "2021-10-27T08:46:48.896508Z"
    }
   },
   "outputs": [],
   "source": [
    "import numpy as np\n",
    "import pandas as pd"
   ]
  },
  {
   "cell_type": "code",
   "execution_count": null,
   "id": "cdb016f0",
   "metadata": {
    "ExecuteTime": {
     "end_time": "2021-10-27T08:46:55.073045Z",
     "start_time": "2021-10-27T08:46:54.891139Z"
    }
   },
   "outputs": [],
   "source": [
    "df = pd.read_feather(\n",
    "    '../data/preprocessed/adult.feather',\n",
    "#     'https://raw.githubusercontent.com/sesise0307/pydata2021-eda/main/data/preprocessed/adult.feather',\n",
    ")"
   ]
  },
  {
   "cell_type": "code",
   "execution_count": null,
   "id": "c3377bcb",
   "metadata": {
    "ExecuteTime": {
     "end_time": "2021-10-27T08:46:55.114295Z",
     "start_time": "2021-10-27T08:46:55.075710Z"
    }
   },
   "outputs": [],
   "source": [
    "df.head()"
   ]
  },
  {
   "cell_type": "markdown",
   "id": "a5757b4f",
   "metadata": {},
   "source": [
    "# Matplotlib"
   ]
  },
  {
   "cell_type": "markdown",
   "id": "71a2649e",
   "metadata": {},
   "source": [
    "![Matplotlib](../image/matplotlib.svg)"
   ]
  },
  {
   "cell_type": "markdown",
   "id": "ffce4e69",
   "metadata": {},
   "source": [
    "- [GitHub](https://github.com/matplotlib/matplotlib)\n",
    "- [Documentation](https://matplotlib.org/stable/contents.html)\n",
    "\n",
    "Matplotlib is a comprehensive library for creating static, animated, and interactive visualizations in Python.\n",
    "\n",
    "It is a basic building block of other advanced Python visualization libraries such as `seaborn` or `pandas`.\n",
    "\n",
    "So, it is essential to know `matplotlib` if you're using Python for data analysis.\n",
    "\n",
    "In this tutorial, I assume that you already have some experiences with `matplotlib`."
   ]
  },
  {
   "cell_type": "code",
   "execution_count": null,
   "id": "bb31c2cb",
   "metadata": {
    "ExecuteTime": {
     "end_time": "2021-10-27T08:46:57.413846Z",
     "start_time": "2021-10-27T08:46:55.117974Z"
    }
   },
   "outputs": [],
   "source": [
    "import matplotlib.pyplot as plt"
   ]
  },
  {
   "cell_type": "code",
   "execution_count": null,
   "id": "90c0c02f",
   "metadata": {
    "ExecuteTime": {
     "end_time": "2021-10-27T08:46:57.419406Z",
     "start_time": "2021-10-27T08:46:57.416036Z"
    }
   },
   "outputs": [],
   "source": [
    "plt.rcParams['figure.figsize'] = 10, 5  # Set default figure size"
   ]
  },
  {
   "cell_type": "code",
   "execution_count": null,
   "id": "b649bba0",
   "metadata": {
    "ExecuteTime": {
     "end_time": "2021-10-27T08:46:57.476663Z",
     "start_time": "2021-10-27T08:46:57.421163Z"
    }
   },
   "outputs": [],
   "source": [
    "plt.rcParams"
   ]
  },
  {
   "cell_type": "markdown",
   "id": "8dda16f6",
   "metadata": {},
   "source": [
    "## Scatter Plot"
   ]
  },
  {
   "cell_type": "code",
   "execution_count": null,
   "id": "ff9a85c6",
   "metadata": {
    "ExecuteTime": {
     "end_time": "2021-10-27T08:46:57.730552Z",
     "start_time": "2021-10-27T08:46:57.478080Z"
    }
   },
   "outputs": [],
   "source": [
    "plt.scatter(x=df['hours_per_week'], y=df['fake_income'])"
   ]
  },
  {
   "cell_type": "code",
   "execution_count": null,
   "id": "04a70803",
   "metadata": {
    "ExecuteTime": {
     "end_time": "2021-10-27T08:46:57.851164Z",
     "start_time": "2021-10-27T08:46:57.731964Z"
    }
   },
   "outputs": [],
   "source": [
    "# Let's add x and y lables with units\n",
    "plt.scatter(x=df['hours_per_week'], y=df['fake_income'])\n",
    "\n",
    "plt.xlabel('Hours per Week [h]')\n",
    "plt.ylabel('Fake Income [dollar]');"
   ]
  },
  {
   "cell_type": "code",
   "execution_count": null,
   "id": "d07204b9",
   "metadata": {
    "ExecuteTime": {
     "end_time": "2021-10-27T08:46:58.242081Z",
     "start_time": "2021-10-27T08:46:57.852488Z"
    }
   },
   "outputs": [],
   "source": [
    "# Let's adjust point size and add color with \"age\"\n",
    "# Available colormaps can be found here: https://matplotlib.org/stable/tutorials/colors/colormaps.html\n",
    "\n",
    "plt.scatter(x=df['hours_per_week'], y=df['fake_income'],\n",
    "            c=df['age'], cmap='winter', s=5)\n",
    "\n",
    "plt.xlabel('Hours per Week [h]')\n",
    "plt.ylabel('Fake Income [dollar]');"
   ]
  },
  {
   "cell_type": "code",
   "execution_count": null,
   "id": "bbe2a22a",
   "metadata": {
    "ExecuteTime": {
     "end_time": "2021-10-27T08:46:58.660956Z",
     "start_time": "2021-10-27T08:46:58.246540Z"
    }
   },
   "outputs": [],
   "source": [
    "# Let's add a color bar\n",
    "plt.scatter(x=df['hours_per_week'], y=df['fake_income'],\n",
    "            c=df['age'], cmap='winter', s=5)\n",
    "\n",
    "plt.xlabel('Hours per Week [h]')\n",
    "plt.ylabel('Fake Income [dollar]')\n",
    "\n",
    "plt.colorbar();"
   ]
  },
  {
   "cell_type": "code",
   "execution_count": null,
   "id": "777fee69",
   "metadata": {
    "ExecuteTime": {
     "end_time": "2021-10-27T08:46:59.078384Z",
     "start_time": "2021-10-27T08:46:58.662905Z"
    }
   },
   "outputs": [],
   "source": [
    "# Let's add a line indicating median \"fake_income\"\n",
    "plt.scatter(x=df['hours_per_week'], y=df['fake_income'],\n",
    "            c=df['age'], cmap='winter', s=5)\n",
    "\n",
    "plt.xlabel('Hours per Week [h]')\n",
    "plt.ylabel('Fake Income [dollar]')\n",
    "\n",
    "plt.colorbar()\n",
    "\n",
    "median_fake_income = df['fake_income'].median()\n",
    "plt.axhline(y=median_fake_income, color='r', ls='--');"
   ]
  },
  {
   "cell_type": "code",
   "execution_count": null,
   "id": "ebf26afb",
   "metadata": {
    "ExecuteTime": {
     "end_time": "2021-10-27T08:46:59.612092Z",
     "start_time": "2021-10-27T08:46:59.080155Z"
    }
   },
   "outputs": [],
   "source": [
    "# Let's add a label for the median \"fake_income\"\n",
    "plt.scatter(x=df['hours_per_week'], y=df['fake_income'],\n",
    "            c=df['age'], cmap='winter', s=5)\n",
    "\n",
    "plt.xlabel('Hours per Week [h]')\n",
    "plt.ylabel('Fake Income [dollar]')\n",
    "\n",
    "plt.colorbar()\n",
    "\n",
    "median_fake_income = df['fake_income'].median()\n",
    "plt.axhline(y=median_fake_income, color='r', ls='--',\n",
    "            label=f'{median_fake_income=:,.0f}')\n",
    "plt.legend();"
   ]
  },
  {
   "cell_type": "code",
   "execution_count": null,
   "id": "757c0c7a",
   "metadata": {
    "ExecuteTime": {
     "end_time": "2021-10-27T08:46:59.622995Z",
     "start_time": "2021-10-27T08:46:59.613729Z"
    }
   },
   "outputs": [],
   "source": [
    "# How about average income by \"hours_per_week\" bins?\n",
    "hpw_bins = np.arange(0, 101, 5)\n",
    "hpw_labels = hpw_bins[:-1] + 2.5\n",
    "df['hpw_cut'] = pd.cut(df['hours_per_week'], bins=hpw_bins, labels=hpw_labels)\n",
    "\n",
    "df[['hours_per_week', 'hpw_cut']].head()"
   ]
  },
  {
   "cell_type": "code",
   "execution_count": null,
   "id": "00a7ef21",
   "metadata": {
    "ExecuteTime": {
     "end_time": "2021-10-27T08:46:59.633792Z",
     "start_time": "2021-10-27T08:46:59.624484Z"
    }
   },
   "outputs": [],
   "source": [
    "average_income_by_hours_per_week = (\n",
    "    df\n",
    "    .groupby('hpw_cut')['fake_income']\n",
    "    .mean()\n",
    ")\n",
    "\n",
    "average_income_by_hours_per_week.head()"
   ]
  },
  {
   "cell_type": "code",
   "execution_count": null,
   "id": "5580c8a5",
   "metadata": {
    "ExecuteTime": {
     "end_time": "2021-10-27T08:46:59.721522Z",
     "start_time": "2021-10-27T08:46:59.635287Z"
    }
   },
   "outputs": [],
   "source": [
    "plt.plot(\n",
    "    average_income_by_hours_per_week.index,\n",
    "    average_income_by_hours_per_week,\n",
    "    marker='x'\n",
    ")"
   ]
  },
  {
   "cell_type": "code",
   "execution_count": null,
   "id": "64d4da3c",
   "metadata": {
    "ExecuteTime": {
     "end_time": "2021-10-27T08:47:00.814959Z",
     "start_time": "2021-10-27T08:46:59.722644Z"
    }
   },
   "outputs": [],
   "source": [
    "# Let's plot the two figures altogether\n",
    "plt.scatter(x=df['hours_per_week'], y=df['fake_income'],\n",
    "            c=df['age'], cmap='winter', s=5)\n",
    "\n",
    "plt.xlabel('Hours per Week [h]')\n",
    "plt.ylabel('Fake Income [dollar]')\n",
    "\n",
    "plt.colorbar()\n",
    "\n",
    "median_fake_income = df['fake_income'].median()\n",
    "plt.axhline(y=median_fake_income, color='r', ls='--',\n",
    "            label=f'Median fake income: {median_fake_income}')\n",
    "\n",
    "plt.plot(\n",
    "    average_income_by_hours_per_week.index,\n",
    "    average_income_by_hours_per_week,\n",
    "    marker='X',\n",
    "    color='orange',\n",
    "    lw=2,\n",
    "    label='Avg. Fake Income by Hours per Week Bins',\n",
    ")\n",
    "\n",
    "plt.legend();"
   ]
  },
  {
   "cell_type": "markdown",
   "id": "20fde040",
   "metadata": {},
   "source": [
    "## Histogram"
   ]
  },
  {
   "cell_type": "code",
   "execution_count": null,
   "id": "8b77e6f5",
   "metadata": {
    "ExecuteTime": {
     "end_time": "2021-10-27T08:47:00.904921Z",
     "start_time": "2021-10-27T08:47:00.816620Z"
    }
   },
   "outputs": [],
   "source": [
    "plt.hist(df['fake_income'])"
   ]
  },
  {
   "cell_type": "code",
   "execution_count": null,
   "id": "591be8cd",
   "metadata": {
    "ExecuteTime": {
     "end_time": "2021-10-27T08:47:00.945205Z",
     "start_time": "2021-10-27T08:47:00.906148Z"
    }
   },
   "outputs": [],
   "source": [
    "?plt.hist"
   ]
  },
  {
   "cell_type": "code",
   "execution_count": null,
   "id": "dcb699a4",
   "metadata": {
    "ExecuteTime": {
     "end_time": "2021-10-27T08:47:05.020161Z",
     "start_time": "2021-10-27T08:47:00.946498Z"
    }
   },
   "outputs": [],
   "source": [
    "# Attention! Histogram is heavily affected by selection of bins\n",
    "plt.figure(figsize=(20, 5))\n",
    "\n",
    "plt.subplot(131)\n",
    "plt.title('Default bins')\n",
    "plt.hist(df['fake_income'])\n",
    "\n",
    "plt.subplot(132)\n",
    "plt.title('With bin size 5,000')\n",
    "plt.hist(df['fake_income'], bins=np.arange(0, 400000, 5000))\n",
    "\n",
    "plt.subplot(133)\n",
    "plt.title('With bin size 100')\n",
    "plt.hist(df['fake_income'], bins=np.arange(0, 400000, 100));"
   ]
  },
  {
   "cell_type": "code",
   "execution_count": null,
   "id": "301075df",
   "metadata": {
    "ExecuteTime": {
     "end_time": "2021-10-27T08:47:05.158165Z",
     "start_time": "2021-10-27T08:47:05.021544Z"
    }
   },
   "outputs": [],
   "source": [
    "# Hours per Week by Income Level\n",
    "plt.hist(df.query('income == \"<=50K\"')['hours_per_week'],\n",
    "         bins=hpw_bins, label='Income <= 50K', density=True, alpha=0.7)\n",
    "plt.hist(df.query('income == \">50K\"')['hours_per_week'],\n",
    "         bins=hpw_bins, label='Income > 50K', density=True, alpha=0.7)\n",
    "\n",
    "plt.legend();"
   ]
  },
  {
   "cell_type": "code",
   "execution_count": null,
   "id": "c7a8357a",
   "metadata": {
    "ExecuteTime": {
     "end_time": "2021-10-27T08:47:05.522332Z",
     "start_time": "2021-10-27T08:47:05.159905Z"
    }
   },
   "outputs": [],
   "source": [
    "# It's difficult to compare more than two categories with a histogram\n",
    "for race in df['race'].unique():\n",
    "    plt.hist(df.query('race == @race')['hours_per_week'],\n",
    "             bins=hpw_bins, label=f'{race=}', density=True, alpha=0.7)\n",
    "\n",
    "plt.legend();"
   ]
  },
  {
   "cell_type": "markdown",
   "id": "897a1063",
   "metadata": {},
   "source": [
    "Solution?\n",
    "- KDE (Kernel Density Estimation)\n",
    "- ECDF (Emperical Cumulative Density Function)\n",
    "\n",
    "Will be tackled with `seaborn` below."
   ]
  },
  {
   "cell_type": "markdown",
   "id": "da36459c",
   "metadata": {},
   "source": [
    "## Boxplot"
   ]
  },
  {
   "cell_type": "code",
   "execution_count": null,
   "id": "6126b311",
   "metadata": {
    "ExecuteTime": {
     "end_time": "2021-10-27T08:47:05.586198Z",
     "start_time": "2021-10-27T08:47:05.523735Z"
    }
   },
   "outputs": [],
   "source": [
    "plt.boxplot(df['fake_income']);"
   ]
  },
  {
   "cell_type": "code",
   "execution_count": null,
   "id": "4ef678f2",
   "metadata": {
    "ExecuteTime": {
     "end_time": "2021-10-27T08:47:05.655022Z",
     "start_time": "2021-10-27T08:47:05.588063Z"
    }
   },
   "outputs": [],
   "source": [
    "plt.boxplot(df['age']);"
   ]
  },
  {
   "cell_type": "markdown",
   "id": "41a073db",
   "metadata": {},
   "source": [
    "What if we want to plot multiple boxplots of \"fake_income\" by \"age_group\"?\n",
    "\n",
    "Matplotlib requires some prior processings of the data for that."
   ]
  },
  {
   "cell_type": "code",
   "execution_count": null,
   "id": "2765c55f",
   "metadata": {
    "ExecuteTime": {
     "end_time": "2021-10-27T08:47:05.684389Z",
     "start_time": "2021-10-27T08:47:05.656155Z"
    },
    "run_control": {
     "marked": false
    }
   },
   "outputs": [],
   "source": [
    "age_groups = sorted(df['age_group'].unique())\n",
    "\n",
    "fake_incomes_by_age_group = [\n",
    "    df.query('age_group == @age_group')['fake_income']\n",
    "    for age_group in age_groups\n",
    "]\n",
    "\n",
    "fake_incomes_by_age_group"
   ]
  },
  {
   "cell_type": "code",
   "execution_count": null,
   "id": "18bf440d",
   "metadata": {
    "ExecuteTime": {
     "end_time": "2021-10-27T08:47:05.812413Z",
     "start_time": "2021-10-27T08:47:05.685617Z"
    }
   },
   "outputs": [],
   "source": [
    "plt.boxplot(fake_incomes_by_age_group, labels=age_groups);"
   ]
  },
  {
   "cell_type": "markdown",
   "id": "73256843",
   "metadata": {},
   "source": [
    "Do we have a easier way than this?\n",
    "\n",
    "Yes! With `pandas` and `seaborn`. \n",
    "\n",
    "Will be introduced below."
   ]
  },
  {
   "cell_type": "markdown",
   "id": "c72679bb",
   "metadata": {},
   "source": [
    "# Pandas"
   ]
  },
  {
   "cell_type": "markdown",
   "id": "f9cfecea",
   "metadata": {},
   "source": [
    "![Pandas](../image/pandas.svg)"
   ]
  },
  {
   "cell_type": "markdown",
   "id": "17b8adcd",
   "metadata": {},
   "source": [
    "- [GitHub](https://github.com/pandas-dev/pandas)\n",
    "- [Documentation](https://pandas.pydata.org/docs/index.html)\n",
    "- [Visualization User Guide](https://pandas.pydata.org/pandas-docs/stable/user_guide/visualization.html)\n",
    "\n",
    "`pandas` is a Python package that provides fast, flexible, and expressive data structures\n",
    "designed to make working with \"relational\" or \"labeled\" data both easy and intuitive.\n",
    "It aims to be the fundamental high-level building block for doing practical, real world data analysis in Python.\n",
    "\n",
    "> `pandas` is used mainly for manipulating DataFrame, but it also supports handy methods for creating decent looking plots with one line of code."
   ]
  },
  {
   "cell_type": "markdown",
   "id": "b21845fb",
   "metadata": {
    "ExecuteTime": {
     "end_time": "2021-10-25T07:49:35.376220Z",
     "start_time": "2021-10-25T07:49:35.372192Z"
    }
   },
   "source": [
    "## Data Manipulation + Plotting"
   ]
  },
  {
   "cell_type": "code",
   "execution_count": null,
   "id": "8dd17873",
   "metadata": {
    "ExecuteTime": {
     "end_time": "2021-10-27T08:47:05.896325Z",
     "start_time": "2021-10-27T08:47:05.813438Z"
    }
   },
   "outputs": [],
   "source": [
    "# Pure Matplotlib\n",
    "average_income_by_hours_per_week = (\n",
    "    df\n",
    "    .groupby('hpw_cut')['fake_income']\n",
    "    .mean()\n",
    ")\n",
    "\n",
    "plt.plot(\n",
    "    average_income_by_hours_per_week.index,\n",
    "    average_income_by_hours_per_week,\n",
    "    marker='x'\n",
    ")"
   ]
  },
  {
   "cell_type": "code",
   "execution_count": null,
   "id": "286b677b",
   "metadata": {
    "ExecuteTime": {
     "end_time": "2021-10-27T08:47:05.902737Z",
     "start_time": "2021-10-27T08:47:05.897441Z"
    }
   },
   "outputs": [],
   "source": [
    "# With Pandas\n",
    "(\n",
    "    df\n",
    "    .groupby('hpw_cut')\n",
    "    ['fake_income']\n",
    "    .mean()\n",
    "#     .plot(marker='x')\n",
    ")"
   ]
  },
  {
   "cell_type": "markdown",
   "id": "43f76b0e",
   "metadata": {},
   "source": [
    "Supported Plot Type:\n",
    "\n",
    "![Pandas Plot Kind](../image/pandas_plot_kind.png)\n",
    "\n",
    "Source: https://pandas.pydata.org/docs/reference/api/pandas.DataFrame.plot.html"
   ]
  },
  {
   "cell_type": "code",
   "execution_count": null,
   "id": "e31e0d27",
   "metadata": {
    "ExecuteTime": {
     "end_time": "2021-10-27T08:47:06.157791Z",
     "start_time": "2021-10-27T08:47:05.906580Z"
    }
   },
   "outputs": [],
   "source": [
    "# The same data with a bar chart\n",
    "(\n",
    "    df\n",
    "    .groupby('hpw_cut')\n",
    "    ['fake_income']\n",
    "    .mean()\n",
    "    .plot(kind='bar')\n",
    ");"
   ]
  },
  {
   "cell_type": "code",
   "execution_count": null,
   "id": "1f4619f5",
   "metadata": {
    "ExecuteTime": {
     "end_time": "2021-10-27T08:47:06.280825Z",
     "start_time": "2021-10-27T08:47:06.159342Z"
    }
   },
   "outputs": [],
   "source": [
    "# The other way to plot a bar chart\n",
    "(\n",
    "    df\n",
    "    .groupby('hpw_cut')\n",
    "    ['fake_income']\n",
    "    .mean()\n",
    "    .plot\n",
    "    .bar()\n",
    ");"
   ]
  },
  {
   "cell_type": "markdown",
   "id": "21819eb2",
   "metadata": {},
   "source": [
    "## Scatter Plot"
   ]
  },
  {
   "cell_type": "code",
   "execution_count": null,
   "id": "a9626323",
   "metadata": {
    "ExecuteTime": {
     "end_time": "2021-10-27T08:47:06.686920Z",
     "start_time": "2021-10-27T08:47:06.282006Z"
    }
   },
   "outputs": [],
   "source": [
    "# Pure Matplotlib\n",
    "plt.scatter(x=df['hours_per_week'], y=df['fake_income'],\n",
    "            c=df['age'], cmap='winter', s=5)\n",
    "\n",
    "plt.xlabel('Hours per Week [h]')\n",
    "plt.ylabel('Fake Income [dollar]')\n",
    "\n",
    "plt.colorbar();"
   ]
  },
  {
   "cell_type": "code",
   "execution_count": null,
   "id": "67174be9",
   "metadata": {
    "ExecuteTime": {
     "end_time": "2021-10-27T08:47:07.148608Z",
     "start_time": "2021-10-27T08:47:06.688649Z"
    }
   },
   "outputs": [],
   "source": [
    "# Pandas version\n",
    "df.plot.scatter(x='hours_per_week', y='fake_income',\n",
    "                c='age', cmap='winter', s=5);"
   ]
  },
  {
   "cell_type": "markdown",
   "id": "94aeef7c",
   "metadata": {
    "ExecuteTime": {
     "end_time": "2021-10-25T16:33:55.619426Z",
     "start_time": "2021-10-25T16:33:55.616126Z"
    }
   },
   "source": [
    "x-ticks does not appear with Pandas.\n",
    "\n",
    "It seems it's Pandas' bug according to [this](https://stackoverflow.com/questions/43121584/matplotlib-scatterplot-x-axis-labels).\n",
    "\n",
    "Work around is:"
   ]
  },
  {
   "cell_type": "code",
   "execution_count": null,
   "id": "577f832d",
   "metadata": {
    "ExecuteTime": {
     "end_time": "2021-10-27T08:47:07.637640Z",
     "start_time": "2021-10-27T08:47:07.150424Z"
    }
   },
   "outputs": [],
   "source": [
    "fig, ax = plt.subplots()\n",
    "df.plot.scatter(x='hours_per_week', y='fake_income',\n",
    "                c='age', cmap='winter', s=5, ax=ax);"
   ]
  },
  {
   "cell_type": "code",
   "execution_count": null,
   "id": "fd04bd54",
   "metadata": {
    "ExecuteTime": {
     "end_time": "2021-10-27T08:47:08.058604Z",
     "start_time": "2021-10-27T08:47:07.638931Z"
    }
   },
   "outputs": [],
   "source": [
    "fig, ax = plt.subplots()\n",
    "df.plot.scatter(x='hours_per_week', y='fake_income',\n",
    "                c='age', cmap='winter', s=5, ax=ax)\n",
    "\n",
    "# Fine tuning with Matplotlib\n",
    "plt.xlabel('Hours per Week [h]')\n",
    "plt.ylabel('Fake Income [dollar]');"
   ]
  },
  {
   "cell_type": "markdown",
   "id": "3b765e9a",
   "metadata": {},
   "source": [
    "## Histogram"
   ]
  },
  {
   "cell_type": "code",
   "execution_count": null,
   "id": "ab87e3c0",
   "metadata": {
    "ExecuteTime": {
     "end_time": "2021-10-27T08:47:08.198363Z",
     "start_time": "2021-10-27T08:47:08.060483Z"
    }
   },
   "outputs": [],
   "source": [
    "# Hours per Week by Income Level: Pure Matplotlib\n",
    "plt.hist(df.query('income == \"<=50K\"')['hours_per_week'],\n",
    "         bins=hpw_bins, label='Income <= 50K', density=True, alpha=0.7)\n",
    "plt.hist(df.query('income == \">50K\"')['hours_per_week'],\n",
    "         bins=hpw_bins, label='Income > 50K', density=True, alpha=0.7)\n",
    "\n",
    "plt.legend();"
   ]
  },
  {
   "cell_type": "code",
   "execution_count": null,
   "id": "62bb091d",
   "metadata": {
    "ExecuteTime": {
     "end_time": "2021-10-27T08:47:08.321180Z",
     "start_time": "2021-10-27T08:47:08.200254Z"
    }
   },
   "outputs": [],
   "source": [
    "(\n",
    "    df\n",
    "    .groupby('income')['hours_per_week']\n",
    "    .plot\n",
    "    .hist(bins=hpw_bins, density=True, alpha=0.7)\n",
    ");"
   ]
  },
  {
   "cell_type": "code",
   "execution_count": null,
   "id": "bcea8dd8",
   "metadata": {
    "ExecuteTime": {
     "end_time": "2021-10-27T08:47:08.457348Z",
     "start_time": "2021-10-27T08:47:08.322465Z"
    }
   },
   "outputs": [],
   "source": [
    "(\n",
    "    df\n",
    "    .groupby('income')['hours_per_week']\n",
    "    .plot\n",
    "    .hist(bins=hpw_bins, density=True, alpha=0.7)\n",
    ")\n",
    "\n",
    "# Fine tuning with Matplotlib\n",
    "plt.legend();"
   ]
  },
  {
   "cell_type": "markdown",
   "id": "91bce190",
   "metadata": {},
   "source": [
    "## Boxplot"
   ]
  },
  {
   "cell_type": "code",
   "execution_count": null,
   "id": "e56079b1",
   "metadata": {
    "ExecuteTime": {
     "end_time": "2021-10-27T08:47:08.612769Z",
     "start_time": "2021-10-27T08:47:08.458553Z"
    }
   },
   "outputs": [],
   "source": [
    "# Pure Matplotlib\n",
    "age_groups = sorted(df['age_group'].unique())\n",
    "\n",
    "fake_incomes_by_age_group = [\n",
    "    df.query('age_group == @age_group')['fake_income']\n",
    "    for age_group in age_groups\n",
    "]\n",
    "\n",
    "plt.boxplot(fake_incomes_by_age_group, labels=age_groups);"
   ]
  },
  {
   "cell_type": "code",
   "execution_count": null,
   "id": "1b44376e",
   "metadata": {
    "ExecuteTime": {
     "end_time": "2021-10-27T08:47:08.772381Z",
     "start_time": "2021-10-27T08:47:08.613877Z"
    }
   },
   "outputs": [],
   "source": [
    "# Pandas version\n",
    "df.boxplot(column='fake_income', by='age_group');"
   ]
  },
  {
   "cell_type": "markdown",
   "id": "3e60a796",
   "metadata": {},
   "source": [
    "# Seaborn"
   ]
  },
  {
   "cell_type": "markdown",
   "id": "137dad4c",
   "metadata": {},
   "source": [
    "![Seaborn](../image/seaborn.svg)"
   ]
  },
  {
   "cell_type": "markdown",
   "id": "b2dc2cdc",
   "metadata": {},
   "source": [
    "- [GitHub](https://github.com/mwaskom/seaborn)\n",
    "- [Documentation](https://seaborn.pydata.org/index.html)\n",
    "\n",
    "`Seaborn` is a library for making statistical graphics in Python.\n",
    "\n",
    "It builds on top of `matplotlib` and integrates closely with `pandas` data structures.\n",
    "\n",
    "`Seaborn` helps you explore and understand your data.\n",
    "Its plotting functions operate on `dataframes` and `arrays` containing whole datasets\n",
    "and internally perform the necessary semantic mapping and statistical aggregation to produce informative plots.\n",
    "Its dataset-oriented, declarative API lets you focus on what the different elements of your plots mean,\n",
    "rather than on the details of how to draw them.\n",
    "\n",
    "> This is my go-to library for starting data visualizations."
   ]
  },
  {
   "cell_type": "markdown",
   "id": "0c2eb97c",
   "metadata": {},
   "source": [
    "[Example Gallery](https://seaborn.pydata.org/examples/index.html)\n",
    "\n",
    "![Example Gallery](../image/seaborn_gallery.png)"
   ]
  },
  {
   "cell_type": "markdown",
   "id": "38c08b9d",
   "metadata": {},
   "source": [
    "## [Figure Style](https://seaborn.pydata.org/tutorial/aesthetics.html#seaborn-figure-styles)"
   ]
  },
  {
   "cell_type": "markdown",
   "id": "2441a2b6",
   "metadata": {},
   "source": [
    "![Seaborn Figure Syltes](../image/seaborn_figure_styles.png)"
   ]
  },
  {
   "cell_type": "markdown",
   "id": "1613fdeb",
   "metadata": {},
   "source": [
    "> Seaborn style has an impact on Matplotlib figures too.\n",
    ">\n",
    "> Acutally, it modifies Matplotlib's default figure parameters for styling."
   ]
  },
  {
   "cell_type": "code",
   "execution_count": null,
   "id": "0ed1c5b9",
   "metadata": {
    "ExecuteTime": {
     "end_time": "2021-10-27T08:47:14.129605Z",
     "start_time": "2021-10-27T08:47:08.773542Z"
    }
   },
   "outputs": [],
   "source": [
    "import seaborn as sns"
   ]
  },
  {
   "cell_type": "code",
   "execution_count": null,
   "id": "17de3711",
   "metadata": {
    "ExecuteTime": {
     "end_time": "2021-10-27T08:47:14.927181Z",
     "start_time": "2021-10-27T08:47:14.132263Z"
    }
   },
   "outputs": [],
   "source": [
    "styles = ['default', 'darkgrid', 'whitegrid', 'dark', 'white', 'ticks']\n",
    "\n",
    "for style in styles:\n",
    "    if style == 'default':\n",
    "        sns.reset_orig()  # Restore Matplotlib default\n",
    "    else:\n",
    "        sns.set_style(style)\n",
    "        \n",
    "    plt.figure(figsize=(8, 2))\n",
    "    plt.title(f'{style=}', fontsize=20)\n",
    "    plt.hist(df['fake_income'], bins=range(0, 400000, 10000))"
   ]
  },
  {
   "cell_type": "code",
   "execution_count": null,
   "id": "aa66408e",
   "metadata": {
    "ExecuteTime": {
     "end_time": "2021-10-27T08:47:14.932327Z",
     "start_time": "2021-10-27T08:47:14.929193Z"
    }
   },
   "outputs": [],
   "source": [
    "# I personally prefer the \"whitegrid\" style\n",
    "sns.set_style('whitegrid')"
   ]
  },
  {
   "cell_type": "markdown",
   "id": "7a1c1fce",
   "metadata": {},
   "source": [
    "## Functions"
   ]
  },
  {
   "cell_type": "markdown",
   "id": "338405ed",
   "metadata": {},
   "source": [
    "![Seaborn Functions](../image/seaborn_functions.png)"
   ]
  },
  {
   "cell_type": "markdown",
   "id": "2af19807",
   "metadata": {},
   "source": [
    "- Figure-level functions: `relplot`, `distplot`, `catplot`\n",
    "  - Interface with `matplotlib` through a seaborn object, usually a `FacetGrid`, that manages the figure\n",
    "- Axis-level functions: `scatterplot`, `lineplot`, `histplot`, `kdeplot`, ...\n",
    "  - Plot data onto a single `matplotlib.pyplot.Axes` object"
   ]
  },
  {
   "cell_type": "code",
   "execution_count": null,
   "id": "1afd1015",
   "metadata": {
    "ExecuteTime": {
     "end_time": "2021-10-27T08:47:15.112147Z",
     "start_time": "2021-10-27T08:47:14.933506Z"
    }
   },
   "outputs": [],
   "source": [
    "fig, axes = plt.subplots(1, 2)\n",
    "\n",
    "plt.suptitle('This is \"Figure\"', fontsize=20)\n",
    "axes[0].set_title('This is \"ax_0\"')\n",
    "axes[1].set_title('This is \"ax_1\"');"
   ]
  },
  {
   "cell_type": "code",
   "execution_count": null,
   "id": "16065229",
   "metadata": {
    "ExecuteTime": {
     "end_time": "2021-10-27T08:47:15.760998Z",
     "start_time": "2021-10-27T08:47:15.113636Z"
    }
   },
   "outputs": [],
   "source": [
    "# Functions within a module share a lot of underlying code and offer similar features.\n",
    "# They are designed to facilitate switching between different visual representations as you explore a dataset.\n",
    "# For instance:\n",
    "\n",
    "plt.subplot(121)\n",
    "sns.histplot(data=df, x='age', hue='income', multiple=\"stack\");\n",
    "\n",
    "plt.subplot(122)\n",
    "sns.kdeplot(data=df, x='age', hue='income', multiple=\"stack\");"
   ]
  },
  {
   "cell_type": "markdown",
   "id": "d6fbc34a",
   "metadata": {},
   "source": [
    "## relplot"
   ]
  },
  {
   "cell_type": "markdown",
   "id": "4f3175a7",
   "metadata": {},
   "source": [
    "### scatterplot"
   ]
  },
  {
   "cell_type": "code",
   "execution_count": null,
   "id": "431e6947",
   "metadata": {
    "ExecuteTime": {
     "end_time": "2021-10-27T08:47:16.193889Z",
     "start_time": "2021-10-27T08:47:15.763164Z"
    }
   },
   "outputs": [],
   "source": [
    "# Pure Matplotlib\n",
    "plt.scatter(x=df['hours_per_week'], y=df['fake_income'],\n",
    "            c=df['age'], cmap='winter', s=5)\n",
    "\n",
    "plt.xlabel('Hours per Week [h]')\n",
    "plt.ylabel('Fake Income [dollar]')\n",
    "\n",
    "plt.colorbar();"
   ]
  },
  {
   "cell_type": "code",
   "execution_count": null,
   "id": "df196a5e",
   "metadata": {
    "ExecuteTime": {
     "end_time": "2021-10-27T08:47:16.572191Z",
     "start_time": "2021-10-27T08:47:16.196231Z"
    }
   },
   "outputs": [],
   "source": [
    "sns.scatterplot(data=df, x='hours_per_week', y='fake_income',\n",
    "                c=df['age'], cmap='winter', s=5);"
   ]
  },
  {
   "cell_type": "code",
   "execution_count": null,
   "id": "df94502a",
   "metadata": {
    "ExecuteTime": {
     "end_time": "2021-10-27T08:47:17.420601Z",
     "start_time": "2021-10-27T08:47:16.574057Z"
    }
   },
   "outputs": [],
   "source": [
    "# Seaborn scatterplot is more suitable for representing\n",
    "# categorical variables with hue and style\n",
    "sns.scatterplot(data=df, x='hours_per_week', y='fake_income',\n",
    "                hue='race', style='sex', s=30, alpha=0.7);"
   ]
  },
  {
   "cell_type": "code",
   "execution_count": null,
   "id": "c32a429f",
   "metadata": {
    "ExecuteTime": {
     "end_time": "2021-10-27T08:47:18.240700Z",
     "start_time": "2021-10-27T08:47:17.421887Z"
    }
   },
   "outputs": [],
   "source": [
    "sns.scatterplot(data=df, x='hours_per_week', y='fake_income',\n",
    "                hue='race', style='sex', s=30, alpha=0.7);\n",
    "\n",
    "# We can always fine-tune the figure with Matplotlib\n",
    "plt.xlabel('Hours per Week [h]')\n",
    "plt.ylabel('Fake Income [dollar]');"
   ]
  },
  {
   "cell_type": "markdown",
   "id": "602555b8",
   "metadata": {},
   "source": [
    "### lineplot"
   ]
  },
  {
   "cell_type": "code",
   "execution_count": null,
   "id": "48bd7c3b",
   "metadata": {
    "ExecuteTime": {
     "end_time": "2021-10-27T08:47:23.088585Z",
     "start_time": "2021-10-27T08:47:18.242553Z"
    }
   },
   "outputs": [],
   "source": [
    "sns.lineplot(data=df, x='hours_per_week', y='fake_income',\n",
    "             hue='race', style='sex');"
   ]
  },
  {
   "cell_type": "code",
   "execution_count": null,
   "id": "2acf5736",
   "metadata": {
    "ExecuteTime": {
     "end_time": "2021-10-27T08:47:25.430704Z",
     "start_time": "2021-10-27T08:47:23.090628Z"
    }
   },
   "outputs": [],
   "source": [
    "sns.lineplot(data=df, x='hpw_cut', y='fake_income',\n",
    "             hue='race', style='sex');"
   ]
  },
  {
   "cell_type": "code",
   "execution_count": null,
   "id": "4212567a",
   "metadata": {
    "ExecuteTime": {
     "end_time": "2021-10-27T08:47:26.780992Z",
     "start_time": "2021-10-27T08:47:25.432542Z"
    }
   },
   "outputs": [],
   "source": [
    "sns.lineplot(data=df, x='age_group', y='fake_income',\n",
    "             hue='race', style='sex');"
   ]
  },
  {
   "cell_type": "markdown",
   "id": "36964d5b",
   "metadata": {},
   "source": [
    "### relplot (Figure-level)"
   ]
  },
  {
   "cell_type": "code",
   "execution_count": null,
   "id": "99642ca8",
   "metadata": {
    "ExecuteTime": {
     "end_time": "2021-10-27T08:47:28.471812Z",
     "start_time": "2021-10-27T08:47:26.782588Z"
    }
   },
   "outputs": [],
   "source": [
    "# sns.lineplot(data=df, x='age_group', y='fake_income',\n",
    "#              hue='race', style='sex');\n",
    "sns.relplot(data=df, x='age_group', y='fake_income',\n",
    "            hue='race', kind='line', col='sex');"
   ]
  },
  {
   "cell_type": "code",
   "execution_count": null,
   "id": "4e452d1e",
   "metadata": {
    "ExecuteTime": {
     "end_time": "2021-10-27T08:47:30.460560Z",
     "start_time": "2021-10-27T08:47:28.473350Z"
    }
   },
   "outputs": [],
   "source": [
    "# Hue by sex and col by race\n",
    "sns.relplot(data=df, x='age_group', y='fake_income',\n",
    "            hue='sex', kind='line', col='race', height=3);\n"
   ]
  },
  {
   "cell_type": "code",
   "execution_count": null,
   "id": "806be95e",
   "metadata": {
    "ExecuteTime": {
     "end_time": "2021-10-27T08:47:32.445351Z",
     "start_time": "2021-10-27T08:47:30.462496Z"
    }
   },
   "outputs": [],
   "source": [
    "g = sns.relplot(data=df, x='age_group', y='fake_income',\n",
    "            hue='sex', kind='line', col='race', height=3)\n",
    "\n",
    "# Fine tuning with FacetGrid methods\n",
    "g.set_xticklabels(rotation=30);"
   ]
  },
  {
   "cell_type": "code",
   "execution_count": null,
   "id": "6af14383",
   "metadata": {
    "ExecuteTime": {
     "end_time": "2021-10-27T08:47:34.400621Z",
     "start_time": "2021-10-27T08:47:32.447188Z"
    }
   },
   "outputs": [],
   "source": [
    "# Adjust col_wrap\n",
    "sns.relplot(data=df, x='age_group', y='fake_income',\n",
    "            hue='sex', kind='line', col='race', height=5, col_wrap=3);"
   ]
  },
  {
   "cell_type": "code",
   "execution_count": null,
   "id": "38bc7876",
   "metadata": {
    "ExecuteTime": {
     "end_time": "2021-10-27T08:47:36.729333Z",
     "start_time": "2021-10-27T08:47:34.402680Z"
    }
   },
   "outputs": [],
   "source": [
    "sns.relplot(data=df, x='age_group', y='fake_income',\n",
    "            kind='line', col='race', row='sex');"
   ]
  },
  {
   "cell_type": "code",
   "execution_count": null,
   "id": "d7ecc180",
   "metadata": {
    "ExecuteTime": {
     "end_time": "2021-10-27T08:47:37.905364Z",
     "start_time": "2021-10-27T08:47:36.730826Z"
    }
   },
   "outputs": [],
   "source": [
    "# To scatterplot\n",
    "sns.relplot(data=df, x='age_group', y='fake_income',\n",
    "            kind='scatter', col='race', row='sex');"
   ]
  },
  {
   "cell_type": "code",
   "execution_count": null,
   "id": "b545b290",
   "metadata": {
    "ExecuteTime": {
     "end_time": "2021-10-27T08:47:39.390676Z",
     "start_time": "2021-10-27T08:47:37.907008Z"
    }
   },
   "outputs": [],
   "source": [
    "# x='age' instead of 'age_group'\n",
    "sns.relplot(data=df, x='age', y='fake_income',\n",
    "            kind='scatter', col='race', row='sex');"
   ]
  },
  {
   "cell_type": "code",
   "execution_count": null,
   "id": "2940222e",
   "metadata": {
    "ExecuteTime": {
     "end_time": "2021-10-27T08:47:42.085390Z",
     "start_time": "2021-10-27T08:47:39.392566Z"
    }
   },
   "outputs": [],
   "source": [
    "sns.relplot(data=df, x='age', y='fake_income',\n",
    "            kind='scatter', col='race', hue='sex', row='income', height=3.5);"
   ]
  },
  {
   "cell_type": "markdown",
   "id": "fc20b5fb",
   "metadata": {},
   "source": [
    "## displot"
   ]
  },
  {
   "cell_type": "markdown",
   "id": "02eff47f",
   "metadata": {},
   "source": [
    "### histplot"
   ]
  },
  {
   "cell_type": "code",
   "execution_count": null,
   "id": "638c1f57",
   "metadata": {
    "ExecuteTime": {
     "end_time": "2021-10-27T08:47:42.252620Z",
     "start_time": "2021-10-27T08:47:42.086791Z"
    }
   },
   "outputs": [],
   "source": [
    "# Hours per Week by Income Level: Pure Matplotlib\n",
    "plt.hist(df.query('income == \"<=50K\"')['hours_per_week'],\n",
    "         bins=hpw_bins, label='Income <= 50K', density=True, alpha=0.7)\n",
    "plt.hist(df.query('income == \">50K\"')['hours_per_week'],\n",
    "         bins=hpw_bins, label='Income > 50K', density=True, alpha=0.7)\n",
    "\n",
    "plt.legend();"
   ]
  },
  {
   "cell_type": "code",
   "execution_count": null,
   "id": "90906a25",
   "metadata": {
    "ExecuteTime": {
     "end_time": "2021-10-27T08:47:42.447483Z",
     "start_time": "2021-10-27T08:47:42.254255Z"
    }
   },
   "outputs": [],
   "source": [
    "# Histogram with Seaborn\n",
    "sns.histplot(data=df, x='hours_per_week', hue='income', bins=hpw_bins,\n",
    "             stat='density', alpha=0.7, common_norm=False);"
   ]
  },
  {
   "cell_type": "markdown",
   "id": "cdde3334",
   "metadata": {},
   "source": [
    "### kdeplot"
   ]
  },
  {
   "cell_type": "code",
   "execution_count": null,
   "id": "ace0a4be",
   "metadata": {
    "ExecuteTime": {
     "end_time": "2021-10-27T08:47:42.731390Z",
     "start_time": "2021-10-27T08:47:42.449220Z"
    }
   },
   "outputs": [],
   "source": [
    "sns.kdeplot(data=df, x='hours_per_week', hue='income');"
   ]
  },
  {
   "cell_type": "code",
   "execution_count": null,
   "id": "9cdc1586",
   "metadata": {
    "ExecuteTime": {
     "end_time": "2021-10-27T08:47:43.190633Z",
     "start_time": "2021-10-27T08:47:42.732564Z"
    }
   },
   "outputs": [],
   "source": [
    "# Plot hist and kde altogether\n",
    "sns.histplot(data=df, x='hours_per_week', hue='income', bins=hpw_bins,\n",
    "             stat='density', alpha=0.7, common_norm=False)\n",
    "\n",
    "sns.kdeplot(data=df, x='hours_per_week', hue='income');"
   ]
  },
  {
   "cell_type": "code",
   "execution_count": null,
   "id": "3d6ba673",
   "metadata": {
    "ExecuteTime": {
     "end_time": "2021-10-27T08:47:43.565172Z",
     "start_time": "2021-10-27T08:47:43.192340Z"
    }
   },
   "outputs": [],
   "source": [
    "# Bins should be adjusted as well as \"bw_adjust\" of the KDE plot\n",
    "sns.histplot(data=df, x='hours_per_week', hue='income', bins=hpw_bins - 2.5,\n",
    "             stat='density', alpha=0.7, common_norm=False)\n",
    "\n",
    "sns.kdeplot(data=df, x='hours_per_week', hue='income', bw_adjust=0.7);"
   ]
  },
  {
   "cell_type": "markdown",
   "id": "41cd581c",
   "metadata": {},
   "source": [
    "### ecdfplot"
   ]
  },
  {
   "cell_type": "code",
   "execution_count": null,
   "id": "204f234b",
   "metadata": {
    "ExecuteTime": {
     "end_time": "2021-10-27T08:47:43.863816Z",
     "start_time": "2021-10-27T08:47:43.566520Z"
    }
   },
   "outputs": [],
   "source": [
    "sns.ecdfplot(data=df, x='hours_per_week', hue='income');"
   ]
  },
  {
   "cell_type": "code",
   "execution_count": null,
   "id": "8ef88c7f",
   "metadata": {
    "ExecuteTime": {
     "end_time": "2021-10-27T08:47:44.632641Z",
     "start_time": "2021-10-27T08:47:43.865842Z"
    }
   },
   "outputs": [],
   "source": [
    "plt.figure(figsize=(20, 5))\n",
    "\n",
    "plt.subplot(131)\n",
    "plt.title('Difficult to compare\\nmany categories with a histogram', fontsize=15)\n",
    "sns.histplot(data=df, x='hours_per_week', hue='race', bins=hpw_bins,\n",
    "             stat='density', alpha=0.7, common_norm=False)\n",
    "\n",
    "plt.subplot(132)\n",
    "plt.title('A bit better by giving \"multiple=fill\"', fontsize=15)\n",
    "sns.histplot(data=df, x='hours_per_week', hue='race', bins=hpw_bins,\n",
    "             stat='density', alpha=0.7, common_norm=False,\n",
    "             multiple='fill')  # Modify multiple option to 'fill'\n",
    "\n",
    "plt.subplot(133)\n",
    "plt.title('ecdfplot is the best for a comparison', fontsize=15)\n",
    "sns.ecdfplot(data=df, x='hours_per_week', hue='race');"
   ]
  },
  {
   "cell_type": "markdown",
   "id": "1f485248",
   "metadata": {},
   "source": [
    "### displot (Figure-level)"
   ]
  },
  {
   "cell_type": "code",
   "execution_count": null,
   "id": "51065a28",
   "metadata": {
    "ExecuteTime": {
     "end_time": "2021-10-27T08:47:44.923483Z",
     "start_time": "2021-10-27T08:47:44.634500Z"
    }
   },
   "outputs": [],
   "source": [
    "# sns.histplot(data=df, x='hours_per_week', hue='income', bins=hpw_bins,\n",
    "#              stat='density', alpha=0.7, common_norm=False);\n",
    "sns.displot(data=df, x='hours_per_week', hue='income', bins=hpw_bins,\n",
    "             stat='density', alpha=0.7, common_norm=False, kind='hist');"
   ]
  },
  {
   "cell_type": "code",
   "execution_count": null,
   "id": "d197db4d",
   "metadata": {
    "ExecuteTime": {
     "end_time": "2021-10-27T08:47:46.211464Z",
     "start_time": "2021-10-27T08:47:44.925727Z"
    }
   },
   "outputs": [],
   "source": [
    "sns.displot(data=df, x='hours_per_week', hue='income', bins=hpw_bins,\n",
    "            stat='density', alpha=0.7, common_norm=False, kind='hist',\n",
    "            col='race', col_wrap=3, height=3);"
   ]
  },
  {
   "cell_type": "markdown",
   "id": "d3f0de76",
   "metadata": {},
   "source": [
    "## catplot"
   ]
  },
  {
   "cell_type": "markdown",
   "id": "b6278777",
   "metadata": {},
   "source": [
    "### boxplot"
   ]
  },
  {
   "cell_type": "code",
   "execution_count": null,
   "id": "bce181c4",
   "metadata": {
    "ExecuteTime": {
     "end_time": "2021-10-27T08:47:46.386361Z",
     "start_time": "2021-10-27T08:47:46.212655Z"
    }
   },
   "outputs": [],
   "source": [
    "# Pure Matplotlib\n",
    "age_groups = sorted(df['age_group'].unique())\n",
    "\n",
    "fake_incomes_by_age_group = [\n",
    "    df.query('age_group == @age_group')['fake_income']\n",
    "    for age_group in age_groups\n",
    "]\n",
    "\n",
    "plt.boxplot(fake_incomes_by_age_group, labels=age_groups);"
   ]
  },
  {
   "cell_type": "code",
   "execution_count": null,
   "id": "88f030e1",
   "metadata": {
    "ExecuteTime": {
     "end_time": "2021-10-27T08:47:46.581603Z",
     "start_time": "2021-10-27T08:47:46.387503Z"
    }
   },
   "outputs": [],
   "source": [
    "# Pandas version\n",
    "df.boxplot(column='fake_income', by='age_group');"
   ]
  },
  {
   "cell_type": "code",
   "execution_count": null,
   "id": "bde6ad81",
   "metadata": {
    "ExecuteTime": {
     "end_time": "2021-10-27T08:47:46.744711Z",
     "start_time": "2021-10-27T08:47:46.583000Z"
    }
   },
   "outputs": [],
   "source": [
    "# Seaborn version\n",
    "sns.boxplot(data=df, x='age_group', y='fake_income');"
   ]
  },
  {
   "cell_type": "code",
   "execution_count": null,
   "id": "38db7ca3",
   "metadata": {
    "ExecuteTime": {
     "end_time": "2021-10-27T08:47:47.007395Z",
     "start_time": "2021-10-27T08:47:46.745690Z"
    }
   },
   "outputs": [],
   "source": [
    "# Seaborn version (+ coloring by \"sex\")\n",
    "sns.boxplot(data=df, x='age_group', y='fake_income', hue='sex');"
   ]
  },
  {
   "cell_type": "markdown",
   "id": "7f84e98a",
   "metadata": {},
   "source": [
    "### violinplot"
   ]
  },
  {
   "cell_type": "code",
   "execution_count": null,
   "id": "3dfe4cf5",
   "metadata": {
    "ExecuteTime": {
     "end_time": "2021-10-27T08:47:47.402544Z",
     "start_time": "2021-10-27T08:47:47.008604Z"
    }
   },
   "outputs": [],
   "source": [
    "sns.violinplot(data=df, x='age_group', y='fake_income', hue='sex');"
   ]
  },
  {
   "cell_type": "code",
   "execution_count": null,
   "id": "6c56b193",
   "metadata": {
    "ExecuteTime": {
     "end_time": "2021-10-27T08:47:47.713896Z",
     "start_time": "2021-10-27T08:47:47.404600Z"
    }
   },
   "outputs": [],
   "source": [
    "sns.violinplot(data=df, x='age_group', y='fake_income', hue='sex',\n",
    "               split=True);"
   ]
  },
  {
   "cell_type": "markdown",
   "id": "0799990e",
   "metadata": {},
   "source": [
    "### boxenplot"
   ]
  },
  {
   "cell_type": "code",
   "execution_count": null,
   "id": "e879dbd2",
   "metadata": {
    "ExecuteTime": {
     "end_time": "2021-10-27T08:47:48.068919Z",
     "start_time": "2021-10-27T08:47:47.715380Z"
    }
   },
   "outputs": [],
   "source": [
    "sns.boxenplot(data=df, x='age_group', y='fake_income', hue='sex');"
   ]
  },
  {
   "cell_type": "markdown",
   "id": "eaab5774",
   "metadata": {},
   "source": [
    "### pointplot"
   ]
  },
  {
   "cell_type": "code",
   "execution_count": null,
   "id": "030baff0",
   "metadata": {
    "ExecuteTime": {
     "end_time": "2021-10-27T08:47:48.661535Z",
     "start_time": "2021-10-27T08:47:48.070338Z"
    }
   },
   "outputs": [],
   "source": [
    "sns.pointplot(data=df, x='age_group', y='fake_income', hue='sex');"
   ]
  },
  {
   "cell_type": "markdown",
   "id": "378e88de",
   "metadata": {},
   "source": [
    "### barplot"
   ]
  },
  {
   "cell_type": "code",
   "execution_count": null,
   "id": "7788dde1",
   "metadata": {
    "ExecuteTime": {
     "end_time": "2021-10-27T08:47:49.255163Z",
     "start_time": "2021-10-27T08:47:48.663387Z"
    }
   },
   "outputs": [],
   "source": [
    "sns.barplot(data=df, x='age_group', y='fake_income', hue='sex');"
   ]
  },
  {
   "cell_type": "markdown",
   "id": "f45d81e2",
   "metadata": {},
   "source": [
    "### striplot"
   ]
  },
  {
   "cell_type": "code",
   "execution_count": null,
   "id": "3445ec73",
   "metadata": {
    "ExecuteTime": {
     "end_time": "2021-10-27T08:47:51.269832Z",
     "start_time": "2021-10-27T08:47:49.256489Z"
    }
   },
   "outputs": [],
   "source": [
    "sns.stripplot(data=df, x='age', y='education', hue='sex',\n",
    "              dodge=True, alpha=0.3, size=3);"
   ]
  },
  {
   "cell_type": "code",
   "execution_count": null,
   "id": "0ad9655b",
   "metadata": {
    "ExecuteTime": {
     "end_time": "2021-10-27T08:47:52.708570Z",
     "start_time": "2021-10-27T08:47:51.271330Z"
    }
   },
   "outputs": [],
   "source": [
    "sns.stripplot(data=df, x='fake_income', y='education', hue='sex',\n",
    "              dodge=True, alpha=0.3, size=3);"
   ]
  },
  {
   "cell_type": "code",
   "execution_count": null,
   "id": "968b89eb",
   "metadata": {
    "ExecuteTime": {
     "end_time": "2021-10-27T08:47:53.359962Z",
     "start_time": "2021-10-27T08:47:52.710110Z"
    }
   },
   "outputs": [],
   "source": [
    "sns.stripplot(data=df, x='fake_income', y='race', hue='sex',\n",
    "              dodge=True, alpha=0.3, size=3);"
   ]
  },
  {
   "cell_type": "markdown",
   "id": "32396be1",
   "metadata": {},
   "source": [
    "### catplot (Figure-level)"
   ]
  },
  {
   "cell_type": "code",
   "execution_count": null,
   "id": "4b0c48d7",
   "metadata": {
    "ExecuteTime": {
     "end_time": "2021-10-27T08:47:53.732821Z",
     "start_time": "2021-10-27T08:47:53.361405Z"
    }
   },
   "outputs": [],
   "source": [
    "# sns.boxplot(data=df, x='age_group', y='fake_income', hue='sex')\n",
    "\n",
    "sns.catplot(data=df, x='age_group', y='fake_income', hue='sex', kind='box');"
   ]
  },
  {
   "cell_type": "code",
   "execution_count": null,
   "id": "8a982458",
   "metadata": {
    "ExecuteTime": {
     "end_time": "2021-10-27T08:47:55.214932Z",
     "start_time": "2021-10-27T08:47:53.734453Z"
    }
   },
   "outputs": [],
   "source": [
    "sns.catplot(data=df, x='age_group', y='fake_income', hue='sex', kind='box',\n",
    "            col='race', col_wrap=3, height=4);"
   ]
  },
  {
   "cell_type": "markdown",
   "id": "c0d84400",
   "metadata": {},
   "source": [
    "## Heatmap"
   ]
  },
  {
   "cell_type": "code",
   "execution_count": null,
   "id": "df960f37",
   "metadata": {
    "ExecuteTime": {
     "end_time": "2021-10-27T08:47:55.237702Z",
     "start_time": "2021-10-27T08:47:55.219276Z"
    }
   },
   "outputs": [],
   "source": [
    "# Average fake_income by education and race?\n",
    "\n",
    "avg_fake_income = df.pivot_table(values='fake_income',\n",
    "                                 index='education',\n",
    "                                 columns='race',\n",
    "                                 aggfunc='mean',)\n",
    "avg_fake_income"
   ]
  },
  {
   "cell_type": "code",
   "execution_count": null,
   "id": "dc8c0cb6",
   "metadata": {
    "ExecuteTime": {
     "end_time": "2021-10-27T08:47:55.552481Z",
     "start_time": "2021-10-27T08:47:55.239172Z"
    }
   },
   "outputs": [],
   "source": [
    "plt.figure(figsize=(10, 8))\n",
    "sns.heatmap(avg_fake_income, cmap='Blues', annot=True, fmt='.0f');"
   ]
  },
  {
   "cell_type": "code",
   "execution_count": null,
   "id": "e7cc5bfa",
   "metadata": {
    "ExecuteTime": {
     "end_time": "2021-10-27T08:47:55.568290Z",
     "start_time": "2021-10-27T08:47:55.553714Z"
    }
   },
   "outputs": [],
   "source": [
    "count_fake_income = df.pivot_table(values='fake_income',\n",
    "                                 index='education',\n",
    "                                 columns='race',\n",
    "                                 aggfunc='count',)\n",
    "count_fake_income"
   ]
  },
  {
   "cell_type": "code",
   "execution_count": null,
   "id": "8c1a83fc",
   "metadata": {
    "ExecuteTime": {
     "end_time": "2021-10-27T08:47:55.954658Z",
     "start_time": "2021-10-27T08:47:55.569513Z"
    }
   },
   "outputs": [],
   "source": [
    "plt.figure(figsize=(10, 8))\n",
    "sns.heatmap(count_fake_income, cmap='Blues', annot=True, fmt='.0f');"
   ]
  },
  {
   "cell_type": "markdown",
   "id": "2a77e0aa",
   "metadata": {},
   "source": [
    "## Joint Plot\n",
    "\n",
    "Draw a plot of two variables with bivariate and univariate graphs.\n",
    "\n",
    "Suppored kinds are { “scatter” | “kde” | “hist” | “hex” | “reg” | “resid” }."
   ]
  },
  {
   "cell_type": "code",
   "execution_count": null,
   "id": "ad08a804",
   "metadata": {
    "ExecuteTime": {
     "end_time": "2021-10-27T08:47:56.997403Z",
     "start_time": "2021-10-27T08:47:55.956549Z"
    }
   },
   "outputs": [],
   "source": [
    "sns.jointplot(data=df, x='age', y='fake_income', hue='sex', alpha=0.3, s=10);"
   ]
  },
  {
   "cell_type": "code",
   "execution_count": null,
   "id": "818be95b",
   "metadata": {
    "ExecuteTime": {
     "end_time": "2021-10-27T08:47:57.559273Z",
     "start_time": "2021-10-27T08:47:56.999118Z"
    }
   },
   "outputs": [],
   "source": [
    "sns.jointplot(data=df, x='age', y='fake_income', kind='hist');"
   ]
  },
  {
   "cell_type": "markdown",
   "id": "33304912",
   "metadata": {},
   "source": [
    "## Pair Plot\n",
    "\n",
    "Plot pairwise relationships in a dataset.\n",
    "\n",
    "Supported `kind`s are {‘scatter’, ‘kde’, ‘hist’, ‘reg’}.\n",
    "\n",
    "Supported `diag_kind`s are {‘auto’, ‘hist’, ‘kde’, None}."
   ]
  },
  {
   "cell_type": "code",
   "execution_count": null,
   "id": "9e3bf65c",
   "metadata": {
    "ExecuteTime": {
     "end_time": "2021-10-27T08:48:10.585109Z",
     "start_time": "2021-10-27T08:47:57.560650Z"
    }
   },
   "outputs": [],
   "source": [
    "sns.pairplot(\n",
    "    data=df,\n",
    "    hue='sex',\n",
    "    vars=['age', 'capital_gain', 'hours_per_week', 'fake_income'],\n",
    "    plot_kws=dict(alpha=0.3, s=10),\n",
    ");"
   ]
  }
 ],
 "metadata": {
  "hide_input": false,
  "kernelspec": {
   "display_name": "Python [conda env:pydata]",
   "language": "python",
   "name": "conda-env-pydata-py"
  },
  "language_info": {
   "codemirror_mode": {
    "name": "ipython",
    "version": 3
   },
   "file_extension": ".py",
   "mimetype": "text/x-python",
   "name": "python",
   "nbconvert_exporter": "python",
   "pygments_lexer": "ipython3",
   "version": "3.8.12"
  },
  "toc": {
   "base_numbering": 1,
   "nav_menu": {},
   "number_sections": true,
   "sideBar": true,
   "skip_h1_title": false,
   "title_cell": "Table of Contents",
   "title_sidebar": "Contents",
   "toc_cell": false,
   "toc_position": {
    "height": "calc(100% - 180px)",
    "left": "10px",
    "top": "150px",
    "width": "303.825px"
   },
   "toc_section_display": true,
   "toc_window_display": true
  }
 },
 "nbformat": 4,
 "nbformat_minor": 5
}
