{
 "cells": [
  {
   "cell_type": "markdown",
   "id": "455f5b52",
   "metadata": {},
   "source": [
    "# Data Loading"
   ]
  },
  {
   "cell_type": "code",
   "execution_count": null,
   "id": "381a420e",
   "metadata": {
    "ExecuteTime": {
     "end_time": "2021-10-22T15:47:50.089165Z",
     "start_time": "2021-10-22T15:47:44.657800Z"
    }
   },
   "outputs": [],
   "source": [
    "import pandas as pd"
   ]
  },
  {
   "cell_type": "code",
   "execution_count": null,
   "id": "cdb016f0",
   "metadata": {
    "ExecuteTime": {
     "end_time": "2021-10-22T15:47:50.345559Z",
     "start_time": "2021-10-22T15:47:50.091974Z"
    }
   },
   "outputs": [],
   "source": [
    "df = pd.read_feather(\n",
    "    '../data/preprocessed/adult.feather',\n",
    "#     'https://raw.githubusercontent.com/sesise0307/pydata2021-eda/main/data/preprocessed/adult.feather',\n",
    ")"
   ]
  },
  {
   "cell_type": "code",
   "execution_count": null,
   "id": "c3377bcb",
   "metadata": {
    "ExecuteTime": {
     "end_time": "2021-10-22T15:47:50.389110Z",
     "start_time": "2021-10-22T15:47:50.349006Z"
    }
   },
   "outputs": [],
   "source": [
    "df.head()"
   ]
  },
  {
   "cell_type": "markdown",
   "id": "a5757b4f",
   "metadata": {},
   "source": [
    "# Matplotlib"
   ]
  },
  {
   "cell_type": "markdown",
   "id": "71a2649e",
   "metadata": {},
   "source": [
    "![Matplotlib](../image/matplotlib.svg)"
   ]
  },
  {
   "cell_type": "markdown",
   "id": "ffce4e69",
   "metadata": {},
   "source": [
    "- [GitHub](https://github.com/matplotlib/matplotlib)\n",
    "- [Documentation](https://matplotlib.org/stable/contents.html)\n",
    "\n",
    "Matplotlib is a comprehensive library for creating static, animated, and interactive visualizations in Python.\n",
    "\n",
    "It is a basic building block of other advanced Python visualization libraries such as `seaborn` or `pandas`.\n",
    "\n",
    "It is essential to know `matplotlib` if you're using Python for data analysis.\n",
    "\n",
    "I assume that you already have some experiences with `matplotlib`."
   ]
  },
  {
   "cell_type": "code",
   "execution_count": null,
   "id": "bb31c2cb",
   "metadata": {
    "ExecuteTime": {
     "end_time": "2021-10-22T16:20:58.598202Z",
     "start_time": "2021-10-22T16:20:58.590261Z"
    }
   },
   "outputs": [],
   "source": [
    "# iPython magic\n",
    "%matplotlib inline\n",
    "\n",
    "import matplotlib.pyplot as plt"
   ]
  },
  {
   "cell_type": "markdown",
   "id": "8dda16f6",
   "metadata": {},
   "source": [
    "## Scatter Plot"
   ]
  },
  {
   "cell_type": "code",
   "execution_count": null,
   "id": "ff9a85c6",
   "metadata": {
    "ExecuteTime": {
     "end_time": "2021-10-15T15:26:10.296606Z",
     "start_time": "2021-10-15T15:26:10.054346Z"
    }
   },
   "outputs": [],
   "source": [
    "plt.scatter(df['hours_per_week'], df['fake_income'])"
   ]
  },
  {
   "cell_type": "code",
   "execution_count": null,
   "id": "d07204b9",
   "metadata": {
    "ExecuteTime": {
     "end_time": "2021-10-15T15:26:16.762172Z",
     "start_time": "2021-10-15T15:26:16.388310Z"
    }
   },
   "outputs": [],
   "source": [
    "plt.scatter(df['hours_per_week'], df['fake_income'], c=df['age'], alpha=0.3, s=10)\n",
    "plt.axhline(50000, color='r', ls='--');"
   ]
  },
  {
   "cell_type": "markdown",
   "id": "20fde040",
   "metadata": {},
   "source": [
    "## Histogram"
   ]
  },
  {
   "cell_type": "code",
   "execution_count": null,
   "id": "50b8fe72",
   "metadata": {
    "ExecuteTime": {
     "end_time": "2021-10-15T15:27:19.004525Z",
     "start_time": "2021-10-15T15:27:18.900503Z"
    }
   },
   "outputs": [],
   "source": [
    "plt.figure(figsize=(10, 5))\n",
    "plt.hist(df['age'])\n",
    "plt.xticks(rotation=15);"
   ]
  },
  {
   "cell_type": "code",
   "execution_count": null,
   "id": "e85f20f7",
   "metadata": {
    "ExecuteTime": {
     "end_time": "2021-10-15T14:06:59.694935Z",
     "start_time": "2021-10-15T14:06:59.596276Z"
    }
   },
   "outputs": [],
   "source": [
    "plt.figure(figsize=(10, 5))\n",
    "plt.hist(df['race'].dropna())\n",
    "plt.xticks(rotation=15);"
   ]
  },
  {
   "cell_type": "code",
   "execution_count": null,
   "id": "9336db45",
   "metadata": {
    "ExecuteTime": {
     "end_time": "2021-10-15T15:27:41.136928Z",
     "start_time": "2021-10-15T15:27:41.018292Z"
    }
   },
   "outputs": [],
   "source": [
    "plt.hist(df['fake_income']);"
   ]
  },
  {
   "cell_type": "code",
   "execution_count": null,
   "id": "1ba34003",
   "metadata": {
    "ExecuteTime": {
     "end_time": "2021-10-15T15:28:21.216167Z",
     "start_time": "2021-10-15T15:28:21.084075Z"
    }
   },
   "outputs": [],
   "source": [
    "plt.hist(df['fake_income'], bins=range(0, 400000, 10000));"
   ]
  },
  {
   "cell_type": "code",
   "execution_count": null,
   "id": "3dbaf7ec",
   "metadata": {},
   "outputs": [],
   "source": []
  },
  {
   "cell_type": "markdown",
   "id": "b92a70a9",
   "metadata": {},
   "source": [
    "- Histogram is affected by bin selection\n",
    "- To avoid that, Empirical Cumulative Distribution"
   ]
  },
  {
   "cell_type": "markdown",
   "id": "da36459c",
   "metadata": {},
   "source": [
    "## Boxplot"
   ]
  },
  {
   "cell_type": "code",
   "execution_count": null,
   "id": "6126b311",
   "metadata": {
    "ExecuteTime": {
     "end_time": "2021-10-15T14:04:59.049896Z",
     "start_time": "2021-10-15T14:04:58.968235Z"
    }
   },
   "outputs": [],
   "source": [
    "plt.boxplot(df['fake_income']);"
   ]
  },
  {
   "cell_type": "code",
   "execution_count": null,
   "id": "4ef678f2",
   "metadata": {
    "ExecuteTime": {
     "end_time": "2021-10-15T14:05:10.939075Z",
     "start_time": "2021-10-15T14:05:10.864060Z"
    }
   },
   "outputs": [],
   "source": [
    "plt.boxplot(df['age']);"
   ]
  },
  {
   "cell_type": "markdown",
   "id": "7b3f9e41",
   "metadata": {},
   "source": [
    "## Pie Chart"
   ]
  },
  {
   "cell_type": "code",
   "execution_count": null,
   "id": "cbf501c8",
   "metadata": {},
   "outputs": [],
   "source": []
  },
  {
   "cell_type": "code",
   "execution_count": null,
   "id": "0bee1745",
   "metadata": {},
   "outputs": [],
   "source": []
  },
  {
   "cell_type": "code",
   "execution_count": null,
   "id": "c15a377f",
   "metadata": {},
   "outputs": [],
   "source": []
  },
  {
   "cell_type": "markdown",
   "id": "c72679bb",
   "metadata": {},
   "source": [
    "# Pandas"
   ]
  },
  {
   "cell_type": "markdown",
   "id": "17b8adcd",
   "metadata": {},
   "source": [
    "- [GitHub](https://github.com/pandas-dev/pandas)\n",
    "- [Documentation](https://pandas.pydata.org/docs/index.html)\n",
    "- [Visualization User Guide](https://pandas.pydata.org/pandas-docs/stable/user_guide/visualization.html)\n",
    "\n",
    "`pandas` is a Python package that provides fast, flexible, and expressive data structures\n",
    "designed to make working with \"relational\" or \"labeled\" data both easy and intuitive.\n",
    "It aims to be the fundamental high-level building block for doing practical, real world data analysis in Python.\n",
    "\n",
    "> `pandas` is used mainly for manipulating DataFrame, but it also supports handy methods for creating decent looking plots with one line of code."
   ]
  },
  {
   "cell_type": "markdown",
   "id": "b5c865ae",
   "metadata": {},
   "source": [
    "Supported Plot Type:\n",
    "\n",
    "![Pandas Plot Kind](../image/pandas_plot_kind.png)\n",
    "\n",
    "Source: https://pandas.pydata.org/docs/reference/api/pandas.DataFrame.plot.html"
   ]
  },
  {
   "cell_type": "code",
   "execution_count": null,
   "id": "f83d1d5f",
   "metadata": {
    "ExecuteTime": {
     "end_time": "2021-10-15T15:30:32.341311Z",
     "start_time": "2021-10-15T15:30:32.330540Z"
    }
   },
   "outputs": [],
   "source": [
    "(\n",
    "    df\n",
    "    .groupby('age_group')\n",
    "    ['fake_income']\n",
    "    .mean()\n",
    "#     .plot(kind='bar')\n",
    ")"
   ]
  },
  {
   "cell_type": "code",
   "execution_count": null,
   "id": "1cfc5f10",
   "metadata": {
    "ExecuteTime": {
     "end_time": "2021-10-15T15:31:15.943800Z",
     "start_time": "2021-10-15T15:31:15.836903Z"
    }
   },
   "outputs": [],
   "source": [
    "(\n",
    "    df\n",
    "    .groupby('age_group')\n",
    "    ['fake_income']\n",
    "    .mean()\n",
    "    .plot(kind='bar')\n",
    ")\n",
    "\n",
    "plt.ylabel('Fake Income')\n",
    "plt.xlabel('Age Group');"
   ]
  },
  {
   "cell_type": "code",
   "execution_count": null,
   "id": "3cbf76b2",
   "metadata": {
    "ExecuteTime": {
     "end_time": "2021-10-15T15:32:08.703601Z",
     "start_time": "2021-10-15T15:32:08.572309Z"
    }
   },
   "outputs": [],
   "source": [
    "(\n",
    "    df\n",
    "    .groupby(['age_group', 'sex'])\n",
    "    ['fake_income']\n",
    "    .mean()\n",
    "    .unstack()\n",
    "    .plot(kind='bar')\n",
    ")\n",
    "\n",
    "plt.ylabel('Fake Income')\n",
    "plt.xlabel('Age Group');"
   ]
  },
  {
   "cell_type": "code",
   "execution_count": null,
   "id": "19998d44",
   "metadata": {},
   "outputs": [],
   "source": []
  },
  {
   "cell_type": "markdown",
   "id": "3e60a796",
   "metadata": {},
   "source": [
    "# Seaborn"
   ]
  },
  {
   "cell_type": "markdown",
   "id": "b2dc2cdc",
   "metadata": {},
   "source": [
    "- [GitHub](https://github.com/mwaskom/seaborn)\n",
    "- [Documentation](https://seaborn.pydata.org/index.html)\n",
    "\n",
    "`Seaborn` is a library for making statistical graphics in Python.\n",
    "\n",
    "It builds on top of `matplotlib` and integrates closely with `pandas` data structures.\n",
    "\n",
    "`Seaborn` helps you explore and understand your data.\n",
    "Its plotting functions operate on `dataframes` and `arrays` containing whole datasets\n",
    "and internally perform the necessary semantic mapping and statistical aggregation to produce informative plots.\n",
    "Its dataset-oriented, declarative API lets you focus on what the different elements of your plots mean,\n",
    "rather than on the details of how to draw them.\n",
    "\n",
    "> This is my go-to library for starting data analysis."
   ]
  },
  {
   "cell_type": "code",
   "execution_count": null,
   "id": "2761b4bd",
   "metadata": {
    "ExecuteTime": {
     "end_time": "2021-10-15T13:56:26.812329Z",
     "start_time": "2021-10-15T13:56:26.809909Z"
    }
   },
   "outputs": [],
   "source": [
    "import seaborn as sns"
   ]
  },
  {
   "cell_type": "code",
   "execution_count": null,
   "id": "298b203c",
   "metadata": {
    "ExecuteTime": {
     "end_time": "2021-10-15T15:34:22.236253Z",
     "start_time": "2021-10-15T15:34:22.064627Z"
    }
   },
   "outputs": [],
   "source": [
    "sns.barplot(data=df, x='age_group', y='fake_income', ci='sd', hue='sex')"
   ]
  },
  {
   "cell_type": "code",
   "execution_count": null,
   "id": "b8cef8e3",
   "metadata": {
    "ExecuteTime": {
     "end_time": "2021-10-15T15:34:41.682993Z",
     "start_time": "2021-10-15T15:34:41.514601Z"
    }
   },
   "outputs": [],
   "source": [
    "sns.barplot(data=df, x='age_group', y='fake_income', ci='sd', hue='sex')\n",
    "\n",
    "plt.ylabel('Fake Income')\n",
    "plt.xlabel('Age Group');"
   ]
  },
  {
   "cell_type": "markdown",
   "id": "f219cd6c",
   "metadata": {},
   "source": [
    "# Comparison"
   ]
  },
  {
   "cell_type": "code",
   "execution_count": null,
   "id": "cc0ccdaf",
   "metadata": {},
   "outputs": [],
   "source": []
  }
 ],
 "metadata": {
  "hide_input": false,
  "kernelspec": {
   "display_name": "Python [conda env:pydata]",
   "language": "python",
   "name": "conda-env-pydata-py"
  },
  "language_info": {
   "codemirror_mode": {
    "name": "ipython",
    "version": 3
   },
   "file_extension": ".py",
   "mimetype": "text/x-python",
   "name": "python",
   "nbconvert_exporter": "python",
   "pygments_lexer": "ipython3",
   "version": "3.8.12"
  },
  "toc": {
   "base_numbering": 1,
   "nav_menu": {},
   "number_sections": true,
   "sideBar": true,
   "skip_h1_title": false,
   "title_cell": "Table of Contents",
   "title_sidebar": "Contents",
   "toc_cell": false,
   "toc_position": {
    "height": "calc(100% - 180px)",
    "left": "10px",
    "top": "150px",
    "width": "303.837px"
   },
   "toc_section_display": true,
   "toc_window_display": true
  }
 },
 "nbformat": 4,
 "nbformat_minor": 5
}
